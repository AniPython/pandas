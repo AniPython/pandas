{
 "cells": [
  {
   "cell_type": "code",
   "source": [
    "import pandas as pd\n",
    "import numpy as np"
   ],
   "metadata": {
    "collapsed": false,
    "pycharm": {
     "name": "#%%\n"
    },
    "ExecuteTime": {
     "end_time": "2024-06-27T07:42:50.961343Z",
     "start_time": "2024-06-27T07:42:50.958383Z"
    }
   },
   "outputs": [],
   "execution_count": 13
  },
  {
   "cell_type": "code",
   "source": [
    "df = pd.read_excel(\n",
    "    '2019销售总表.xlsx'\n",
    ").convert_dtypes()\n",
    "df"
   ],
   "metadata": {
    "collapsed": false,
    "pycharm": {
     "name": "#%%\n"
    },
    "ExecuteTime": {
     "end_time": "2024-06-27T07:42:51.977622Z",
     "start_time": "2024-06-27T07:42:50.963041Z"
    }
   },
   "outputs": [
    {
     "data": {
      "text/plain": [
       "             货号  商品名称  尺码         日期  售卖价  实收金额  销量   平台  季节\n",
       "0      YZFM1200    夹克   L 2019-09-01  208   166   2  平台A  秋季\n",
       "1      FLHR1800  短袖T恤  XL 2019-09-01   73    73   1  平台A  夏季\n",
       "2      LCHM9800  保暖内衣   M 2019-09-01  148   103   1  平台A  冬季\n",
       "3      FLHR1800  短袖T恤   M 2019-09-01   73    51   1  平台A  夏季\n",
       "4      HWLA4700  长袖T恤   M 2019-09-01   88    52   1  平台A  秋季\n",
       "...         ...   ...  ..        ...  ...   ...  ..  ...  ..\n",
       "17515  FLHR1800  短袖T恤  XL 2019-06-30   73    65   1  平台B  夏季\n",
       "17516  QTVW5600   羽绒服   M 2019-06-30  538   322   1  平台B  四季\n",
       "17517  QTVW5600   羽绒服  XL 2019-06-30  538   269   1  平台B  四季\n",
       "17518  LCHM9800  保暖内衣   M 2019-06-30  148   103   1  平台B  冬季\n",
       "17519  HWLA4700  长袖T恤   L 2019-06-30   88    70   1  平台B  秋季\n",
       "\n",
       "[17520 rows x 9 columns]"
      ],
      "text/html": [
       "<div>\n",
       "<style scoped>\n",
       "    .dataframe tbody tr th:only-of-type {\n",
       "        vertical-align: middle;\n",
       "    }\n",
       "\n",
       "    .dataframe tbody tr th {\n",
       "        vertical-align: top;\n",
       "    }\n",
       "\n",
       "    .dataframe thead th {\n",
       "        text-align: right;\n",
       "    }\n",
       "</style>\n",
       "<table border=\"1\" class=\"dataframe\">\n",
       "  <thead>\n",
       "    <tr style=\"text-align: right;\">\n",
       "      <th></th>\n",
       "      <th>货号</th>\n",
       "      <th>商品名称</th>\n",
       "      <th>尺码</th>\n",
       "      <th>日期</th>\n",
       "      <th>售卖价</th>\n",
       "      <th>实收金额</th>\n",
       "      <th>销量</th>\n",
       "      <th>平台</th>\n",
       "      <th>季节</th>\n",
       "    </tr>\n",
       "  </thead>\n",
       "  <tbody>\n",
       "    <tr>\n",
       "      <th>0</th>\n",
       "      <td>YZFM1200</td>\n",
       "      <td>夹克</td>\n",
       "      <td>L</td>\n",
       "      <td>2019-09-01</td>\n",
       "      <td>208</td>\n",
       "      <td>166</td>\n",
       "      <td>2</td>\n",
       "      <td>平台A</td>\n",
       "      <td>秋季</td>\n",
       "    </tr>\n",
       "    <tr>\n",
       "      <th>1</th>\n",
       "      <td>FLHR1800</td>\n",
       "      <td>短袖T恤</td>\n",
       "      <td>XL</td>\n",
       "      <td>2019-09-01</td>\n",
       "      <td>73</td>\n",
       "      <td>73</td>\n",
       "      <td>1</td>\n",
       "      <td>平台A</td>\n",
       "      <td>夏季</td>\n",
       "    </tr>\n",
       "    <tr>\n",
       "      <th>2</th>\n",
       "      <td>LCHM9800</td>\n",
       "      <td>保暖内衣</td>\n",
       "      <td>M</td>\n",
       "      <td>2019-09-01</td>\n",
       "      <td>148</td>\n",
       "      <td>103</td>\n",
       "      <td>1</td>\n",
       "      <td>平台A</td>\n",
       "      <td>冬季</td>\n",
       "    </tr>\n",
       "    <tr>\n",
       "      <th>3</th>\n",
       "      <td>FLHR1800</td>\n",
       "      <td>短袖T恤</td>\n",
       "      <td>M</td>\n",
       "      <td>2019-09-01</td>\n",
       "      <td>73</td>\n",
       "      <td>51</td>\n",
       "      <td>1</td>\n",
       "      <td>平台A</td>\n",
       "      <td>夏季</td>\n",
       "    </tr>\n",
       "    <tr>\n",
       "      <th>4</th>\n",
       "      <td>HWLA4700</td>\n",
       "      <td>长袖T恤</td>\n",
       "      <td>M</td>\n",
       "      <td>2019-09-01</td>\n",
       "      <td>88</td>\n",
       "      <td>52</td>\n",
       "      <td>1</td>\n",
       "      <td>平台A</td>\n",
       "      <td>秋季</td>\n",
       "    </tr>\n",
       "    <tr>\n",
       "      <th>...</th>\n",
       "      <td>...</td>\n",
       "      <td>...</td>\n",
       "      <td>...</td>\n",
       "      <td>...</td>\n",
       "      <td>...</td>\n",
       "      <td>...</td>\n",
       "      <td>...</td>\n",
       "      <td>...</td>\n",
       "      <td>...</td>\n",
       "    </tr>\n",
       "    <tr>\n",
       "      <th>17515</th>\n",
       "      <td>FLHR1800</td>\n",
       "      <td>短袖T恤</td>\n",
       "      <td>XL</td>\n",
       "      <td>2019-06-30</td>\n",
       "      <td>73</td>\n",
       "      <td>65</td>\n",
       "      <td>1</td>\n",
       "      <td>平台B</td>\n",
       "      <td>夏季</td>\n",
       "    </tr>\n",
       "    <tr>\n",
       "      <th>17516</th>\n",
       "      <td>QTVW5600</td>\n",
       "      <td>羽绒服</td>\n",
       "      <td>M</td>\n",
       "      <td>2019-06-30</td>\n",
       "      <td>538</td>\n",
       "      <td>322</td>\n",
       "      <td>1</td>\n",
       "      <td>平台B</td>\n",
       "      <td>四季</td>\n",
       "    </tr>\n",
       "    <tr>\n",
       "      <th>17517</th>\n",
       "      <td>QTVW5600</td>\n",
       "      <td>羽绒服</td>\n",
       "      <td>XL</td>\n",
       "      <td>2019-06-30</td>\n",
       "      <td>538</td>\n",
       "      <td>269</td>\n",
       "      <td>1</td>\n",
       "      <td>平台B</td>\n",
       "      <td>四季</td>\n",
       "    </tr>\n",
       "    <tr>\n",
       "      <th>17518</th>\n",
       "      <td>LCHM9800</td>\n",
       "      <td>保暖内衣</td>\n",
       "      <td>M</td>\n",
       "      <td>2019-06-30</td>\n",
       "      <td>148</td>\n",
       "      <td>103</td>\n",
       "      <td>1</td>\n",
       "      <td>平台B</td>\n",
       "      <td>冬季</td>\n",
       "    </tr>\n",
       "    <tr>\n",
       "      <th>17519</th>\n",
       "      <td>HWLA4700</td>\n",
       "      <td>长袖T恤</td>\n",
       "      <td>L</td>\n",
       "      <td>2019-06-30</td>\n",
       "      <td>88</td>\n",
       "      <td>70</td>\n",
       "      <td>1</td>\n",
       "      <td>平台B</td>\n",
       "      <td>秋季</td>\n",
       "    </tr>\n",
       "  </tbody>\n",
       "</table>\n",
       "<p>17520 rows × 9 columns</p>\n",
       "</div>"
      ]
     },
     "execution_count": 14,
     "metadata": {},
     "output_type": "execute_result"
    }
   ],
   "execution_count": 14
  },
  {
   "cell_type": "code",
   "source": [
    "df.dtypes"
   ],
   "metadata": {
    "collapsed": false,
    "pycharm": {
     "name": "#%%\n"
    },
    "ExecuteTime": {
     "end_time": "2024-06-27T07:42:51.983859Z",
     "start_time": "2024-06-27T07:42:51.978627Z"
    }
   },
   "outputs": [
    {
     "data": {
      "text/plain": [
       "货号      string[python]\n",
       "商品名称    string[python]\n",
       "尺码      string[python]\n",
       "日期      datetime64[ns]\n",
       "售卖价              Int64\n",
       "实收金额             Int64\n",
       "销量               Int64\n",
       "平台      string[python]\n",
       "季节      string[python]\n",
       "dtype: object"
      ]
     },
     "execution_count": 15,
     "metadata": {},
     "output_type": "execute_result"
    }
   ],
   "execution_count": 15
  },
  {
   "cell_type": "code",
   "source": [
    "df['季节'].memory_usage()"
   ],
   "metadata": {
    "collapsed": false,
    "pycharm": {
     "name": "#%%\n"
    },
    "ExecuteTime": {
     "end_time": "2024-06-27T07:42:51.992088Z",
     "start_time": "2024-06-27T07:42:51.984861Z"
    }
   },
   "outputs": [
    {
     "data": {
      "text/plain": [
       "140292"
      ]
     },
     "execution_count": 16,
     "metadata": {},
     "output_type": "execute_result"
    }
   ],
   "execution_count": 16
  },
  {
   "cell_type": "code",
   "source": [
    "tb = pd.pivot_table(\n",
    "    df,\n",
    "    index='季节',\n",
    "    values='销量',\n",
    "    # aggfunc=sum  # 警告\n",
    "    aggfunc='sum'\n",
    ")\n",
    "tb"
   ],
   "metadata": {
    "collapsed": false,
    "pycharm": {
     "name": "#%%\n"
    },
    "ExecuteTime": {
     "end_time": "2024-06-27T07:42:52.005241Z",
     "start_time": "2024-06-27T07:42:51.995088Z"
    }
   },
   "outputs": [
    {
     "data": {
      "text/plain": [
       "      销量\n",
       "季节      \n",
       "冬季  7259\n",
       "四季  5464\n",
       "夏季  1862\n",
       "春季  3694\n",
       "秋季  3600"
      ],
      "text/html": [
       "<div>\n",
       "<style scoped>\n",
       "    .dataframe tbody tr th:only-of-type {\n",
       "        vertical-align: middle;\n",
       "    }\n",
       "\n",
       "    .dataframe tbody tr th {\n",
       "        vertical-align: top;\n",
       "    }\n",
       "\n",
       "    .dataframe thead th {\n",
       "        text-align: right;\n",
       "    }\n",
       "</style>\n",
       "<table border=\"1\" class=\"dataframe\">\n",
       "  <thead>\n",
       "    <tr style=\"text-align: right;\">\n",
       "      <th></th>\n",
       "      <th>销量</th>\n",
       "    </tr>\n",
       "    <tr>\n",
       "      <th>季节</th>\n",
       "      <th></th>\n",
       "    </tr>\n",
       "  </thead>\n",
       "  <tbody>\n",
       "    <tr>\n",
       "      <th>冬季</th>\n",
       "      <td>7259</td>\n",
       "    </tr>\n",
       "    <tr>\n",
       "      <th>四季</th>\n",
       "      <td>5464</td>\n",
       "    </tr>\n",
       "    <tr>\n",
       "      <th>夏季</th>\n",
       "      <td>1862</td>\n",
       "    </tr>\n",
       "    <tr>\n",
       "      <th>春季</th>\n",
       "      <td>3694</td>\n",
       "    </tr>\n",
       "    <tr>\n",
       "      <th>秋季</th>\n",
       "      <td>3600</td>\n",
       "    </tr>\n",
       "  </tbody>\n",
       "</table>\n",
       "</div>"
      ]
     },
     "execution_count": 17,
     "metadata": {},
     "output_type": "execute_result"
    }
   ],
   "execution_count": 17
  },
  {
   "cell_type": "code",
   "source": [
    "tb.sort_index()"
   ],
   "metadata": {
    "collapsed": false,
    "pycharm": {
     "name": "#%%\n"
    },
    "ExecuteTime": {
     "end_time": "2024-06-27T07:42:52.013252Z",
     "start_time": "2024-06-27T07:42:52.007695Z"
    }
   },
   "outputs": [
    {
     "data": {
      "text/plain": [
       "      销量\n",
       "季节      \n",
       "冬季  7259\n",
       "四季  5464\n",
       "夏季  1862\n",
       "春季  3694\n",
       "秋季  3600"
      ],
      "text/html": [
       "<div>\n",
       "<style scoped>\n",
       "    .dataframe tbody tr th:only-of-type {\n",
       "        vertical-align: middle;\n",
       "    }\n",
       "\n",
       "    .dataframe tbody tr th {\n",
       "        vertical-align: top;\n",
       "    }\n",
       "\n",
       "    .dataframe thead th {\n",
       "        text-align: right;\n",
       "    }\n",
       "</style>\n",
       "<table border=\"1\" class=\"dataframe\">\n",
       "  <thead>\n",
       "    <tr style=\"text-align: right;\">\n",
       "      <th></th>\n",
       "      <th>销量</th>\n",
       "    </tr>\n",
       "    <tr>\n",
       "      <th>季节</th>\n",
       "      <th></th>\n",
       "    </tr>\n",
       "  </thead>\n",
       "  <tbody>\n",
       "    <tr>\n",
       "      <th>冬季</th>\n",
       "      <td>7259</td>\n",
       "    </tr>\n",
       "    <tr>\n",
       "      <th>四季</th>\n",
       "      <td>5464</td>\n",
       "    </tr>\n",
       "    <tr>\n",
       "      <th>夏季</th>\n",
       "      <td>1862</td>\n",
       "    </tr>\n",
       "    <tr>\n",
       "      <th>春季</th>\n",
       "      <td>3694</td>\n",
       "    </tr>\n",
       "    <tr>\n",
       "      <th>秋季</th>\n",
       "      <td>3600</td>\n",
       "    </tr>\n",
       "  </tbody>\n",
       "</table>\n",
       "</div>"
      ]
     },
     "execution_count": 18,
     "metadata": {},
     "output_type": "execute_result"
    }
   ],
   "execution_count": 18
  },
  {
   "cell_type": "code",
   "source": [
    "tb.index.str.encode('utf-8')"
   ],
   "metadata": {
    "collapsed": false,
    "pycharm": {
     "name": "#%%\n"
    },
    "ExecuteTime": {
     "end_time": "2024-06-27T07:42:52.019223Z",
     "start_time": "2024-06-27T07:42:52.015266Z"
    }
   },
   "outputs": [
    {
     "data": {
      "text/plain": [
       "Index([b'\\xe5\\x86\\xac\\xe5\\xad\\xa3', b'\\xe5\\x9b\\x9b\\xe5\\xad\\xa3',\n",
       "       b'\\xe5\\xa4\\x8f\\xe5\\xad\\xa3', b'\\xe6\\x98\\xa5\\xe5\\xad\\xa3',\n",
       "       b'\\xe7\\xa7\\x8b\\xe5\\xad\\xa3'],\n",
       "      dtype='object', name='季节')"
      ]
     },
     "execution_count": 19,
     "metadata": {},
     "output_type": "execute_result"
    }
   ],
   "execution_count": 19
  },
  {
   "cell_type": "code",
   "source": [
    "my_type = pd.CategoricalDtype(\n",
    "    categories=['春季', '夏季', '秋季', '冬季', '四季'],\n",
    "    ordered=True\n",
    ")\n",
    "my_type"
   ],
   "metadata": {
    "collapsed": false,
    "pycharm": {
     "name": "#%%\n"
    },
    "ExecuteTime": {
     "end_time": "2024-06-27T07:42:52.027124Z",
     "start_time": "2024-06-27T07:42:52.021287Z"
    }
   },
   "outputs": [
    {
     "data": {
      "text/plain": [
       "CategoricalDtype(categories=['春季', '夏季', '秋季', '冬季', '四季'], ordered=True, categories_dtype=object)"
      ]
     },
     "execution_count": 20,
     "metadata": {},
     "output_type": "execute_result"
    }
   ],
   "execution_count": 20
  },
  {
   "cell_type": "code",
   "source": [
    "df['季节'] = df['季节'].astype(my_type)\n",
    "df.dtypes"
   ],
   "metadata": {
    "collapsed": false,
    "pycharm": {
     "name": "#%%\n"
    },
    "ExecuteTime": {
     "end_time": "2024-06-27T07:42:52.034905Z",
     "start_time": "2024-06-27T07:42:52.029132Z"
    }
   },
   "outputs": [
    {
     "data": {
      "text/plain": [
       "货号      string[python]\n",
       "商品名称    string[python]\n",
       "尺码      string[python]\n",
       "日期      datetime64[ns]\n",
       "售卖价              Int64\n",
       "实收金额             Int64\n",
       "销量               Int64\n",
       "平台      string[python]\n",
       "季节            category\n",
       "dtype: object"
      ]
     },
     "execution_count": 21,
     "metadata": {},
     "output_type": "execute_result"
    }
   ],
   "execution_count": 21
  },
  {
   "cell_type": "code",
   "source": [
    "df['季节'].memory_usage()"
   ],
   "metadata": {
    "collapsed": false,
    "pycharm": {
     "name": "#%%\n"
    },
    "ExecuteTime": {
     "end_time": "2024-06-27T07:42:52.040619Z",
     "start_time": "2024-06-27T07:42:52.036915Z"
    }
   },
   "outputs": [
    {
     "data": {
      "text/plain": [
       "17864"
      ]
     },
     "execution_count": 22,
     "metadata": {},
     "output_type": "execute_result"
    }
   ],
   "execution_count": 22
  },
  {
   "cell_type": "code",
   "source": [
    "tb1 = pd.pivot_table(\n",
    "    df,\n",
    "    index='季节',\n",
    "    values='销量',\n",
    "    # aggfunc=sum\n",
    "    aggfunc='sum'\n",
    ")\n",
    "tb1"
   ],
   "metadata": {
    "collapsed": false,
    "pycharm": {
     "name": "#%%\n"
    },
    "ExecuteTime": {
     "end_time": "2024-06-27T07:42:52.051493Z",
     "start_time": "2024-06-27T07:42:52.043124Z"
    }
   },
   "outputs": [
    {
     "name": "stderr",
     "output_type": "stream",
     "text": [
      "C:\\Users\\Administrator\\AppData\\Local\\Temp\\ipykernel_14284\\1653048130.py:1: FutureWarning: The default value of observed=False is deprecated and will change to observed=True in a future version of pandas. Specify observed=False to silence this warning and retain the current behavior\n",
      "  tb1 = pd.pivot_table(\n"
     ]
    },
    {
     "data": {
      "text/plain": [
       "      销量\n",
       "季节      \n",
       "春季  3694\n",
       "夏季  1862\n",
       "秋季  3600\n",
       "冬季  7259\n",
       "四季  5464"
      ],
      "text/html": [
       "<div>\n",
       "<style scoped>\n",
       "    .dataframe tbody tr th:only-of-type {\n",
       "        vertical-align: middle;\n",
       "    }\n",
       "\n",
       "    .dataframe tbody tr th {\n",
       "        vertical-align: top;\n",
       "    }\n",
       "\n",
       "    .dataframe thead th {\n",
       "        text-align: right;\n",
       "    }\n",
       "</style>\n",
       "<table border=\"1\" class=\"dataframe\">\n",
       "  <thead>\n",
       "    <tr style=\"text-align: right;\">\n",
       "      <th></th>\n",
       "      <th>销量</th>\n",
       "    </tr>\n",
       "    <tr>\n",
       "      <th>季节</th>\n",
       "      <th></th>\n",
       "    </tr>\n",
       "  </thead>\n",
       "  <tbody>\n",
       "    <tr>\n",
       "      <th>春季</th>\n",
       "      <td>3694</td>\n",
       "    </tr>\n",
       "    <tr>\n",
       "      <th>夏季</th>\n",
       "      <td>1862</td>\n",
       "    </tr>\n",
       "    <tr>\n",
       "      <th>秋季</th>\n",
       "      <td>3600</td>\n",
       "    </tr>\n",
       "    <tr>\n",
       "      <th>冬季</th>\n",
       "      <td>7259</td>\n",
       "    </tr>\n",
       "    <tr>\n",
       "      <th>四季</th>\n",
       "      <td>5464</td>\n",
       "    </tr>\n",
       "  </tbody>\n",
       "</table>\n",
       "</div>"
      ]
     },
     "execution_count": 23,
     "metadata": {},
     "output_type": "execute_result"
    }
   ],
   "execution_count": 23
  },
  {
   "cell_type": "code",
   "source": [
    "tb1.index"
   ],
   "metadata": {
    "collapsed": false,
    "pycharm": {
     "name": "#%%\n"
    },
    "ExecuteTime": {
     "end_time": "2024-06-27T07:42:52.057518Z",
     "start_time": "2024-06-27T07:42:52.053176Z"
    }
   },
   "outputs": [
    {
     "data": {
      "text/plain": [
       "CategoricalIndex(['春季', '夏季', '秋季', '冬季', '四季'], categories=['春季', '夏季', '秋季', '冬季', '四季'], ordered=True, dtype='category', name='季节')"
      ]
     },
     "execution_count": 24,
     "metadata": {},
     "output_type": "execute_result"
    }
   ],
   "execution_count": 24
  },
  {
   "cell_type": "code",
   "source": [
    "\n"
   ],
   "metadata": {
    "collapsed": false,
    "pycharm": {
     "name": "#%%\n"
    },
    "ExecuteTime": {
     "end_time": "2024-06-27T07:42:52.060413Z",
     "start_time": "2024-06-27T07:42:52.058521Z"
    }
   },
   "outputs": [],
   "execution_count": 24
  }
 ],
 "metadata": {
  "kernelspec": {
   "display_name": "Python 3",
   "language": "python",
   "name": "python3"
  },
  "language_info": {
   "codemirror_mode": {
    "name": "ipython",
    "version": 2
   },
   "file_extension": ".py",
   "mimetype": "text/x-python",
   "name": "python",
   "nbconvert_exporter": "python",
   "pygments_lexer": "ipython2",
   "version": "2.7.6"
  }
 },
 "nbformat": 4,
 "nbformat_minor": 0
}
