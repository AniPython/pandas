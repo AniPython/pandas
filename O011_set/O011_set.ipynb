{
 "cells": [
  {
   "cell_type": "markdown",
   "source": [
    "###### seaborn.set(): 设置风格和参数"
   ],
   "metadata": {
    "collapsed": false,
    "pycharm": {
     "name": "#%% md\n"
    }
   }
  },
  {
   "cell_type": "code",
   "metadata": {
    "collapsed": true,
    "pycharm": {
     "name": "#%%\n"
    },
    "ExecuteTime": {
     "end_time": "2024-06-27T09:40:57.248459Z",
     "start_time": "2024-06-27T09:40:57.245783Z"
    }
   },
   "source": [
    "import seaborn as sns\n",
    "import matplotlib.pyplot as plt"
   ],
   "outputs": [],
   "execution_count": 1
  },
  {
   "cell_type": "code",
   "source": [
    "df = sns.load_dataset('tips')\n",
    "df"
   ],
   "metadata": {
    "collapsed": false,
    "pycharm": {
     "name": "#%%\n"
    },
    "ExecuteTime": {
     "end_time": "2024-06-27T09:40:59.165212Z",
     "start_time": "2024-06-27T09:40:57.251473Z"
    }
   },
   "outputs": [
    {
     "data": {
      "text/plain": [
       "     total_bill   tip     sex smoker   day    time  size\n",
       "0         16.99  1.01  Female     No   Sun  Dinner     2\n",
       "1         10.34  1.66    Male     No   Sun  Dinner     3\n",
       "2         21.01  3.50    Male     No   Sun  Dinner     3\n",
       "3         23.68  3.31    Male     No   Sun  Dinner     2\n",
       "4         24.59  3.61  Female     No   Sun  Dinner     4\n",
       "..          ...   ...     ...    ...   ...     ...   ...\n",
       "239       29.03  5.92    Male     No   Sat  Dinner     3\n",
       "240       27.18  2.00  Female    Yes   Sat  Dinner     2\n",
       "241       22.67  2.00    Male    Yes   Sat  Dinner     2\n",
       "242       17.82  1.75    Male     No   Sat  Dinner     2\n",
       "243       18.78  3.00  Female     No  Thur  Dinner     2\n",
       "\n",
       "[244 rows x 7 columns]"
      ],
      "text/html": [
       "<div>\n",
       "<style scoped>\n",
       "    .dataframe tbody tr th:only-of-type {\n",
       "        vertical-align: middle;\n",
       "    }\n",
       "\n",
       "    .dataframe tbody tr th {\n",
       "        vertical-align: top;\n",
       "    }\n",
       "\n",
       "    .dataframe thead th {\n",
       "        text-align: right;\n",
       "    }\n",
       "</style>\n",
       "<table border=\"1\" class=\"dataframe\">\n",
       "  <thead>\n",
       "    <tr style=\"text-align: right;\">\n",
       "      <th></th>\n",
       "      <th>total_bill</th>\n",
       "      <th>tip</th>\n",
       "      <th>sex</th>\n",
       "      <th>smoker</th>\n",
       "      <th>day</th>\n",
       "      <th>time</th>\n",
       "      <th>size</th>\n",
       "    </tr>\n",
       "  </thead>\n",
       "  <tbody>\n",
       "    <tr>\n",
       "      <th>0</th>\n",
       "      <td>16.99</td>\n",
       "      <td>1.01</td>\n",
       "      <td>Female</td>\n",
       "      <td>No</td>\n",
       "      <td>Sun</td>\n",
       "      <td>Dinner</td>\n",
       "      <td>2</td>\n",
       "    </tr>\n",
       "    <tr>\n",
       "      <th>1</th>\n",
       "      <td>10.34</td>\n",
       "      <td>1.66</td>\n",
       "      <td>Male</td>\n",
       "      <td>No</td>\n",
       "      <td>Sun</td>\n",
       "      <td>Dinner</td>\n",
       "      <td>3</td>\n",
       "    </tr>\n",
       "    <tr>\n",
       "      <th>2</th>\n",
       "      <td>21.01</td>\n",
       "      <td>3.50</td>\n",
       "      <td>Male</td>\n",
       "      <td>No</td>\n",
       "      <td>Sun</td>\n",
       "      <td>Dinner</td>\n",
       "      <td>3</td>\n",
       "    </tr>\n",
       "    <tr>\n",
       "      <th>3</th>\n",
       "      <td>23.68</td>\n",
       "      <td>3.31</td>\n",
       "      <td>Male</td>\n",
       "      <td>No</td>\n",
       "      <td>Sun</td>\n",
       "      <td>Dinner</td>\n",
       "      <td>2</td>\n",
       "    </tr>\n",
       "    <tr>\n",
       "      <th>4</th>\n",
       "      <td>24.59</td>\n",
       "      <td>3.61</td>\n",
       "      <td>Female</td>\n",
       "      <td>No</td>\n",
       "      <td>Sun</td>\n",
       "      <td>Dinner</td>\n",
       "      <td>4</td>\n",
       "    </tr>\n",
       "    <tr>\n",
       "      <th>...</th>\n",
       "      <td>...</td>\n",
       "      <td>...</td>\n",
       "      <td>...</td>\n",
       "      <td>...</td>\n",
       "      <td>...</td>\n",
       "      <td>...</td>\n",
       "      <td>...</td>\n",
       "    </tr>\n",
       "    <tr>\n",
       "      <th>239</th>\n",
       "      <td>29.03</td>\n",
       "      <td>5.92</td>\n",
       "      <td>Male</td>\n",
       "      <td>No</td>\n",
       "      <td>Sat</td>\n",
       "      <td>Dinner</td>\n",
       "      <td>3</td>\n",
       "    </tr>\n",
       "    <tr>\n",
       "      <th>240</th>\n",
       "      <td>27.18</td>\n",
       "      <td>2.00</td>\n",
       "      <td>Female</td>\n",
       "      <td>Yes</td>\n",
       "      <td>Sat</td>\n",
       "      <td>Dinner</td>\n",
       "      <td>2</td>\n",
       "    </tr>\n",
       "    <tr>\n",
       "      <th>241</th>\n",
       "      <td>22.67</td>\n",
       "      <td>2.00</td>\n",
       "      <td>Male</td>\n",
       "      <td>Yes</td>\n",
       "      <td>Sat</td>\n",
       "      <td>Dinner</td>\n",
       "      <td>2</td>\n",
       "    </tr>\n",
       "    <tr>\n",
       "      <th>242</th>\n",
       "      <td>17.82</td>\n",
       "      <td>1.75</td>\n",
       "      <td>Male</td>\n",
       "      <td>No</td>\n",
       "      <td>Sat</td>\n",
       "      <td>Dinner</td>\n",
       "      <td>2</td>\n",
       "    </tr>\n",
       "    <tr>\n",
       "      <th>243</th>\n",
       "      <td>18.78</td>\n",
       "      <td>3.00</td>\n",
       "      <td>Female</td>\n",
       "      <td>No</td>\n",
       "      <td>Thur</td>\n",
       "      <td>Dinner</td>\n",
       "      <td>2</td>\n",
       "    </tr>\n",
       "  </tbody>\n",
       "</table>\n",
       "<p>244 rows × 7 columns</p>\n",
       "</div>"
      ]
     },
     "execution_count": 2,
     "metadata": {},
     "output_type": "execute_result"
    }
   ],
   "execution_count": 2
  },
  {
   "cell_type": "code",
   "source": [
    "df.info()"
   ],
   "metadata": {
    "collapsed": false,
    "pycharm": {
     "name": "#%%\n"
    },
    "ExecuteTime": {
     "end_time": "2024-06-27T09:40:59.178424Z",
     "start_time": "2024-06-27T09:40:59.168220Z"
    }
   },
   "outputs": [
    {
     "name": "stdout",
     "output_type": "stream",
     "text": [
      "<class 'pandas.core.frame.DataFrame'>\n",
      "RangeIndex: 244 entries, 0 to 243\n",
      "Data columns (total 7 columns):\n",
      " #   Column      Non-Null Count  Dtype   \n",
      "---  ------      --------------  -----   \n",
      " 0   total_bill  244 non-null    float64 \n",
      " 1   tip         244 non-null    float64 \n",
      " 2   sex         244 non-null    category\n",
      " 3   smoker      244 non-null    category\n",
      " 4   day         244 non-null    category\n",
      " 5   time        244 non-null    category\n",
      " 6   size        244 non-null    int64   \n",
      "dtypes: category(4), float64(2), int64(1)\n",
      "memory usage: 7.4 KB\n"
     ]
    }
   ],
   "execution_count": 3
  },
  {
   "cell_type": "code",
   "source": [
    "df.apply(lambda s: len(s.unique()))"
   ],
   "metadata": {
    "collapsed": false,
    "pycharm": {
     "name": "#%%\n"
    },
    "ExecuteTime": {
     "end_time": "2024-06-27T09:40:59.189480Z",
     "start_time": "2024-06-27T09:40:59.183427Z"
    }
   },
   "outputs": [
    {
     "data": {
      "text/plain": [
       "total_bill    229\n",
       "tip           123\n",
       "sex             2\n",
       "smoker          2\n",
       "day             4\n",
       "time            2\n",
       "size            6\n",
       "dtype: int64"
      ]
     },
     "execution_count": 4,
     "metadata": {},
     "output_type": "execute_result"
    }
   ],
   "execution_count": 4
  },
  {
   "cell_type": "code",
   "source": [
    "\n",
    "sns.set(\n",
    "    # context='talk', # {paper, notebook, talk, poster}\n",
    "    style='whitegrid', # {darkgrid, whitegrid, dark, white, ticks}\n",
    "    palette='muted', # deep, muted, bright, pastel, dark, colorblind,hls, husl, cmap, [colors]\n",
    "    font_scale=1.3,\n",
    "    rc={\n",
    "      'figure.facecolor': 'yellow',\n",
    "      'font.sans-serif': ['Hiragino Sans GB']  # ['SimHei']  # win\n",
    "    }\n",
    ")"
   ],
   "metadata": {
    "collapsed": false,
    "pycharm": {
     "name": "#%%\n"
    },
    "ExecuteTime": {
     "end_time": "2024-06-27T09:40:59.199731Z",
     "start_time": "2024-06-27T09:40:59.195253Z"
    }
   },
   "outputs": [],
   "execution_count": 5
  },
  {
   "cell_type": "code",
   "source": [
    "# plt.rcParams"
   ],
   "metadata": {
    "collapsed": false,
    "pycharm": {
     "name": "#%%\n"
    },
    "ExecuteTime": {
     "end_time": "2024-06-27T09:40:59.207781Z",
     "start_time": "2024-06-27T09:40:59.204882Z"
    }
   },
   "outputs": [],
   "execution_count": 6
  },
  {
   "cell_type": "code",
   "source": [
    "sns.scatterplot(\n",
    "    x='total_bill',\n",
    "    y='tip',\n",
    "    hue='day',\n",
    "    data=df\n",
    ")"
   ],
   "metadata": {
    "collapsed": false,
    "pycharm": {
     "name": "#%%\n"
    },
    "ExecuteTime": {
     "end_time": "2024-06-27T09:40:59.465121Z",
     "start_time": "2024-06-27T09:40:59.211793Z"
    }
   },
   "outputs": [
    {
     "data": {
      "text/plain": [
       "<Axes: xlabel='total_bill', ylabel='tip'>"
      ]
     },
     "execution_count": 7,
     "metadata": {},
     "output_type": "execute_result"
    },
    {
     "name": "stderr",
     "output_type": "stream",
     "text": [
      "findfont: Generic family 'sans-serif' not found because none of the following families were found: Hiragino Sans GB\n",
      "findfont: Generic family 'sans-serif' not found because none of the following families were found: Hiragino Sans GB\n",
      "findfont: Generic family 'sans-serif' not found because none of the following families were found: Hiragino Sans GB\n",
      "findfont: Generic family 'sans-serif' not found because none of the following families were found: Hiragino Sans GB\n",
      "findfont: Generic family 'sans-serif' not found because none of the following families were found: Hiragino Sans GB\n",
      "findfont: Generic family 'sans-serif' not found because none of the following families were found: Hiragino Sans GB\n",
      "findfont: Generic family 'sans-serif' not found because none of the following families were found: Hiragino Sans GB\n",
      "findfont: Generic family 'sans-serif' not found because none of the following families were found: Hiragino Sans GB\n",
      "findfont: Generic family 'sans-serif' not found because none of the following families were found: Hiragino Sans GB\n",
      "findfont: Generic family 'sans-serif' not found because none of the following families were found: Hiragino Sans GB\n",
      "findfont: Generic family 'sans-serif' not found because none of the following families were found: Hiragino Sans GB\n",
      "findfont: Generic family 'sans-serif' not found because none of the following families were found: Hiragino Sans GB\n",
      "findfont: Generic family 'sans-serif' not found because none of the following families were found: Hiragino Sans GB\n",
      "findfont: Generic family 'sans-serif' not found because none of the following families were found: Hiragino Sans GB\n",
      "findfont: Generic family 'sans-serif' not found because none of the following families were found: Hiragino Sans GB\n",
      "findfont: Generic family 'sans-serif' not found because none of the following families were found: Hiragino Sans GB\n",
      "findfont: Generic family 'sans-serif' not found because none of the following families were found: Hiragino Sans GB\n",
      "findfont: Generic family 'sans-serif' not found because none of the following families were found: Hiragino Sans GB\n",
      "findfont: Generic family 'sans-serif' not found because none of the following families were found: Hiragino Sans GB\n",
      "findfont: Generic family 'sans-serif' not found because none of the following families were found: Hiragino Sans GB\n",
      "findfont: Generic family 'sans-serif' not found because none of the following families were found: Hiragino Sans GB\n",
      "findfont: Generic family 'sans-serif' not found because none of the following families were found: Hiragino Sans GB\n",
      "findfont: Generic family 'sans-serif' not found because none of the following families were found: Hiragino Sans GB\n",
      "findfont: Generic family 'sans-serif' not found because none of the following families were found: Hiragino Sans GB\n",
      "findfont: Generic family 'sans-serif' not found because none of the following families were found: Hiragino Sans GB\n",
      "findfont: Generic family 'sans-serif' not found because none of the following families were found: Hiragino Sans GB\n",
      "findfont: Generic family 'sans-serif' not found because none of the following families were found: Hiragino Sans GB\n",
      "findfont: Generic family 'sans-serif' not found because none of the following families were found: Hiragino Sans GB\n",
      "findfont: Generic family 'sans-serif' not found because none of the following families were found: Hiragino Sans GB\n",
      "findfont: Generic family 'sans-serif' not found because none of the following families were found: Hiragino Sans GB\n",
      "findfont: Generic family 'sans-serif' not found because none of the following families were found: Hiragino Sans GB\n",
      "findfont: Generic family 'sans-serif' not found because none of the following families were found: Hiragino Sans GB\n",
      "findfont: Generic family 'sans-serif' not found because none of the following families were found: Hiragino Sans GB\n",
      "findfont: Generic family 'sans-serif' not found because none of the following families were found: Hiragino Sans GB\n",
      "findfont: Generic family 'sans-serif' not found because none of the following families were found: Hiragino Sans GB\n",
      "findfont: Generic family 'sans-serif' not found because none of the following families were found: Hiragino Sans GB\n",
      "findfont: Generic family 'sans-serif' not found because none of the following families were found: Hiragino Sans GB\n",
      "findfont: Generic family 'sans-serif' not found because none of the following families were found: Hiragino Sans GB\n",
      "findfont: Generic family 'sans-serif' not found because none of the following families were found: Hiragino Sans GB\n",
      "findfont: Generic family 'sans-serif' not found because none of the following families were found: Hiragino Sans GB\n",
      "findfont: Generic family 'sans-serif' not found because none of the following families were found: Hiragino Sans GB\n",
      "findfont: Generic family 'sans-serif' not found because none of the following families were found: Hiragino Sans GB\n",
      "findfont: Generic family 'sans-serif' not found because none of the following families were found: Hiragino Sans GB\n",
      "findfont: Generic family 'sans-serif' not found because none of the following families were found: Hiragino Sans GB\n",
      "findfont: Generic family 'sans-serif' not found because none of the following families were found: Hiragino Sans GB\n",
      "findfont: Generic family 'sans-serif' not found because none of the following families were found: Hiragino Sans GB\n",
      "findfont: Generic family 'sans-serif' not found because none of the following families were found: Hiragino Sans GB\n",
      "findfont: Generic family 'sans-serif' not found because none of the following families were found: Hiragino Sans GB\n",
      "findfont: Generic family 'sans-serif' not found because none of the following families were found: Hiragino Sans GB\n",
      "findfont: Generic family 'sans-serif' not found because none of the following families were found: Hiragino Sans GB\n",
      "findfont: Generic family 'sans-serif' not found because none of the following families were found: Hiragino Sans GB\n",
      "findfont: Generic family 'sans-serif' not found because none of the following families were found: Hiragino Sans GB\n",
      "findfont: Generic family 'sans-serif' not found because none of the following families were found: Hiragino Sans GB\n",
      "findfont: Generic family 'sans-serif' not found because none of the following families were found: Hiragino Sans GB\n",
      "findfont: Generic family 'sans-serif' not found because none of the following families were found: Hiragino Sans GB\n",
      "findfont: Generic family 'sans-serif' not found because none of the following families were found: Hiragino Sans GB\n",
      "findfont: Generic family 'sans-serif' not found because none of the following families were found: Hiragino Sans GB\n",
      "findfont: Generic family 'sans-serif' not found because none of the following families were found: Hiragino Sans GB\n",
      "findfont: Generic family 'sans-serif' not found because none of the following families were found: Hiragino Sans GB\n",
      "findfont: Generic family 'sans-serif' not found because none of the following families were found: Hiragino Sans GB\n",
      "findfont: Generic family 'sans-serif' not found because none of the following families were found: Hiragino Sans GB\n",
      "findfont: Generic family 'sans-serif' not found because none of the following families were found: Hiragino Sans GB\n",
      "findfont: Generic family 'sans-serif' not found because none of the following families were found: Hiragino Sans GB\n",
      "findfont: Generic family 'sans-serif' not found because none of the following families were found: Hiragino Sans GB\n",
      "findfont: Generic family 'sans-serif' not found because none of the following families were found: Hiragino Sans GB\n",
      "findfont: Generic family 'sans-serif' not found because none of the following families were found: Hiragino Sans GB\n",
      "findfont: Generic family 'sans-serif' not found because none of the following families were found: Hiragino Sans GB\n",
      "findfont: Generic family 'sans-serif' not found because none of the following families were found: Hiragino Sans GB\n",
      "findfont: Generic family 'sans-serif' not found because none of the following families were found: Hiragino Sans GB\n",
      "findfont: Generic family 'sans-serif' not found because none of the following families were found: Hiragino Sans GB\n",
      "findfont: Generic family 'sans-serif' not found because none of the following families were found: Hiragino Sans GB\n",
      "findfont: Generic family 'sans-serif' not found because none of the following families were found: Hiragino Sans GB\n",
      "findfont: Generic family 'sans-serif' not found because none of the following families were found: Hiragino Sans GB\n",
      "findfont: Generic family 'sans-serif' not found because none of the following families were found: Hiragino Sans GB\n",
      "findfont: Generic family 'sans-serif' not found because none of the following families were found: Hiragino Sans GB\n",
      "findfont: Generic family 'sans-serif' not found because none of the following families were found: Hiragino Sans GB\n",
      "findfont: Generic family 'sans-serif' not found because none of the following families were found: Hiragino Sans GB\n",
      "findfont: Generic family 'sans-serif' not found because none of the following families were found: Hiragino Sans GB\n",
      "findfont: Generic family 'sans-serif' not found because none of the following families were found: Hiragino Sans GB\n",
      "findfont: Generic family 'sans-serif' not found because none of the following families were found: Hiragino Sans GB\n",
      "findfont: Generic family 'sans-serif' not found because none of the following families were found: Hiragino Sans GB\n",
      "findfont: Generic family 'sans-serif' not found because none of the following families were found: Hiragino Sans GB\n",
      "findfont: Generic family 'sans-serif' not found because none of the following families were found: Hiragino Sans GB\n",
      "findfont: Generic family 'sans-serif' not found because none of the following families were found: Hiragino Sans GB\n",
      "findfont: Generic family 'sans-serif' not found because none of the following families were found: Hiragino Sans GB\n",
      "findfont: Generic family 'sans-serif' not found because none of the following families were found: Hiragino Sans GB\n",
      "findfont: Generic family 'sans-serif' not found because none of the following families were found: Hiragino Sans GB\n",
      "findfont: Generic family 'sans-serif' not found because none of the following families were found: Hiragino Sans GB\n",
      "findfont: Generic family 'sans-serif' not found because none of the following families were found: Hiragino Sans GB\n",
      "findfont: Generic family 'sans-serif' not found because none of the following families were found: Hiragino Sans GB\n",
      "findfont: Generic family 'sans-serif' not found because none of the following families were found: Hiragino Sans GB\n",
      "findfont: Generic family 'sans-serif' not found because none of the following families were found: Hiragino Sans GB\n",
      "findfont: Generic family 'sans-serif' not found because none of the following families were found: Hiragino Sans GB\n",
      "findfont: Generic family 'sans-serif' not found because none of the following families were found: Hiragino Sans GB\n",
      "findfont: Generic family 'sans-serif' not found because none of the following families were found: Hiragino Sans GB\n",
      "findfont: Generic family 'sans-serif' not found because none of the following families were found: Hiragino Sans GB\n",
      "findfont: Generic family 'sans-serif' not found because none of the following families were found: Hiragino Sans GB\n",
      "findfont: Generic family 'sans-serif' not found because none of the following families were found: Hiragino Sans GB\n",
      "findfont: Generic family 'sans-serif' not found because none of the following families were found: Hiragino Sans GB\n",
      "findfont: Generic family 'sans-serif' not found because none of the following families were found: Hiragino Sans GB\n",
      "findfont: Generic family 'sans-serif' not found because none of the following families were found: Hiragino Sans GB\n",
      "findfont: Generic family 'sans-serif' not found because none of the following families were found: Hiragino Sans GB\n",
      "findfont: Generic family 'sans-serif' not found because none of the following families were found: Hiragino Sans GB\n",
      "findfont: Generic family 'sans-serif' not found because none of the following families were found: Hiragino Sans GB\n",
      "findfont: Generic family 'sans-serif' not found because none of the following families were found: Hiragino Sans GB\n",
      "findfont: Generic family 'sans-serif' not found because none of the following families were found: Hiragino Sans GB\n",
      "findfont: Generic family 'sans-serif' not found because none of the following families were found: Hiragino Sans GB\n",
      "findfont: Generic family 'sans-serif' not found because none of the following families were found: Hiragino Sans GB\n",
      "findfont: Generic family 'sans-serif' not found because none of the following families were found: Hiragino Sans GB\n",
      "findfont: Generic family 'sans-serif' not found because none of the following families were found: Hiragino Sans GB\n",
      "findfont: Generic family 'sans-serif' not found because none of the following families were found: Hiragino Sans GB\n",
      "findfont: Generic family 'sans-serif' not found because none of the following families were found: Hiragino Sans GB\n",
      "findfont: Generic family 'sans-serif' not found because none of the following families were found: Hiragino Sans GB\n",
      "findfont: Generic family 'sans-serif' not found because none of the following families were found: Hiragino Sans GB\n",
      "findfont: Generic family 'sans-serif' not found because none of the following families were found: Hiragino Sans GB\n",
      "findfont: Generic family 'sans-serif' not found because none of the following families were found: Hiragino Sans GB\n",
      "findfont: Generic family 'sans-serif' not found because none of the following families were found: Hiragino Sans GB\n",
      "findfont: Generic family 'sans-serif' not found because none of the following families were found: Hiragino Sans GB\n",
      "findfont: Generic family 'sans-serif' not found because none of the following families were found: Hiragino Sans GB\n",
      "findfont: Generic family 'sans-serif' not found because none of the following families were found: Hiragino Sans GB\n",
      "findfont: Generic family 'sans-serif' not found because none of the following families were found: Hiragino Sans GB\n",
      "findfont: Generic family 'sans-serif' not found because none of the following families were found: Hiragino Sans GB\n",
      "findfont: Generic family 'sans-serif' not found because none of the following families were found: Hiragino Sans GB\n",
      "findfont: Generic family 'sans-serif' not found because none of the following families were found: Hiragino Sans GB\n",
      "findfont: Generic family 'sans-serif' not found because none of the following families were found: Hiragino Sans GB\n",
      "findfont: Generic family 'sans-serif' not found because none of the following families were found: Hiragino Sans GB\n",
      "findfont: Generic family 'sans-serif' not found because none of the following families were found: Hiragino Sans GB\n",
      "findfont: Generic family 'sans-serif' not found because none of the following families were found: Hiragino Sans GB\n",
      "findfont: Generic family 'sans-serif' not found because none of the following families were found: Hiragino Sans GB\n",
      "findfont: Generic family 'sans-serif' not found because none of the following families were found: Hiragino Sans GB\n",
      "findfont: Generic family 'sans-serif' not found because none of the following families were found: Hiragino Sans GB\n",
      "findfont: Generic family 'sans-serif' not found because none of the following families were found: Hiragino Sans GB\n",
      "findfont: Generic family 'sans-serif' not found because none of the following families were found: Hiragino Sans GB\n",
      "findfont: Generic family 'sans-serif' not found because none of the following families were found: Hiragino Sans GB\n",
      "findfont: Generic family 'sans-serif' not found because none of the following families were found: Hiragino Sans GB\n",
      "findfont: Generic family 'sans-serif' not found because none of the following families were found: Hiragino Sans GB\n",
      "findfont: Generic family 'sans-serif' not found because none of the following families were found: Hiragino Sans GB\n",
      "findfont: Generic family 'sans-serif' not found because none of the following families were found: Hiragino Sans GB\n",
      "findfont: Generic family 'sans-serif' not found because none of the following families were found: Hiragino Sans GB\n",
      "findfont: Generic family 'sans-serif' not found because none of the following families were found: Hiragino Sans GB\n",
      "findfont: Generic family 'sans-serif' not found because none of the following families were found: Hiragino Sans GB\n"
     ]
    },
    {
     "data": {
      "text/plain": [
       "<Figure size 640x480 with 1 Axes>"
      ],
      "image/png": "[encoded data removed]"
     },
     "metadata": {},
     "output_type": "display_data"
    }
   ],
   "execution_count": 7
  },
  {
   "cell_type": "code",
   "source": [
    "ax = sns.barplot(\n",
    "    x='day',\n",
    "    y='total_bill',\n",
    "    hue='sex',\n",
    "    data=df\n",
    ")\n",
    "ax.set_xlabel('周几')"
   ],
   "metadata": {
    "collapsed": false,
    "pycharm": {
     "name": "#%%\n"
    },
    "ExecuteTime": {
     "end_time": "2024-06-27T09:40:59.794093Z",
     "start_time": "2024-06-27T09:40:59.469122Z"
    }
   },
   "outputs": [
    {
     "data": {
      "text/plain": [
       "Text(0.5, 0, '周几')"
      ]
     },
     "execution_count": 8,
     "metadata": {},
     "output_type": "execute_result"
    },
    {
     "name": "stderr",
     "output_type": "stream",
     "text": [
      "findfont: Generic family 'sans-serif' not found because none of the following families were found: Hiragino Sans GB\n",
      "findfont: Generic family 'sans-serif' not found because none of the following families were found: Hiragino Sans GB\n",
      "findfont: Generic family 'sans-serif' not found because none of the following families were found: Hiragino Sans GB\n",
      "findfont: Generic family 'sans-serif' not found because none of the following families were found: Hiragino Sans GB\n",
      "findfont: Generic family 'sans-serif' not found because none of the following families were found: Hiragino Sans GB\n",
      "findfont: Generic family 'sans-serif' not found because none of the following families were found: Hiragino Sans GB\n",
      "findfont: Generic family 'sans-serif' not found because none of the following families were found: Hiragino Sans GB\n",
      "D:\\venv\\py312\\Lib\\site-packages\\IPython\\core\\events.py:82: UserWarning: Glyph 21608 (\\N{CJK UNIFIED IDEOGRAPH-5468}) missing from font(s) DejaVu Sans.\n",
      "  func(*args, **kwargs)\n",
      "D:\\venv\\py312\\Lib\\site-packages\\IPython\\core\\events.py:82: UserWarning: Glyph 20960 (\\N{CJK UNIFIED IDEOGRAPH-51E0}) missing from font(s) DejaVu Sans.\n",
      "  func(*args, **kwargs)\n",
      "findfont: Generic family 'sans-serif' not found because none of the following families were found: Hiragino Sans GB\n",
      "findfont: Generic family 'sans-serif' not found because none of the following families were found: Hiragino Sans GB\n",
      "findfont: Generic family 'sans-serif' not found because none of the following families were found: Hiragino Sans GB\n",
      "findfont: Generic family 'sans-serif' not found because none of the following families were found: Hiragino Sans GB\n",
      "findfont: Generic family 'sans-serif' not found because none of the following families were found: Hiragino Sans GB\n",
      "findfont: Generic family 'sans-serif' not found because none of the following families were found: Hiragino Sans GB\n",
      "findfont: Generic family 'sans-serif' not found because none of the following families were found: Hiragino Sans GB\n",
      "findfont: Generic family 'sans-serif' not found because none of the following families were found: Hiragino Sans GB\n",
      "findfont: Generic family 'sans-serif' not found because none of the following families were found: Hiragino Sans GB\n",
      "findfont: Generic family 'sans-serif' not found because none of the following families were found: Hiragino Sans GB\n",
      "findfont: Generic family 'sans-serif' not found because none of the following families were found: Hiragino Sans GB\n",
      "findfont: Generic family 'sans-serif' not found because none of the following families were found: Hiragino Sans GB\n",
      "findfont: Generic family 'sans-serif' not found because none of the following families were found: Hiragino Sans GB\n",
      "findfont: Generic family 'sans-serif' not found because none of the following families were found: Hiragino Sans GB\n",
      "findfont: Generic family 'sans-serif' not found because none of the following families were found: Hiragino Sans GB\n",
      "findfont: Generic family 'sans-serif' not found because none of the following families were found: Hiragino Sans GB\n",
      "findfont: Generic family 'sans-serif' not found because none of the following families were found: Hiragino Sans GB\n",
      "findfont: Generic family 'sans-serif' not found because none of the following families were found: Hiragino Sans GB\n",
      "findfont: Generic family 'sans-serif' not found because none of the following families were found: Hiragino Sans GB\n",
      "findfont: Generic family 'sans-serif' not found because none of the following families were found: Hiragino Sans GB\n",
      "findfont: Generic family 'sans-serif' not found because none of the following families were found: Hiragino Sans GB\n",
      "findfont: Generic family 'sans-serif' not found because none of the following families were found: Hiragino Sans GB\n",
      "findfont: Generic family 'sans-serif' not found because none of the following families were found: Hiragino Sans GB\n",
      "findfont: Generic family 'sans-serif' not found because none of the following families were found: Hiragino Sans GB\n",
      "findfont: Generic family 'sans-serif' not found because none of the following families were found: Hiragino Sans GB\n",
      "findfont: Generic family 'sans-serif' not found because none of the following families were found: Hiragino Sans GB\n",
      "findfont: Generic family 'sans-serif' not found because none of the following families were found: Hiragino Sans GB\n",
      "findfont: Generic family 'sans-serif' not found because none of the following families were found: Hiragino Sans GB\n",
      "findfont: Generic family 'sans-serif' not found because none of the following families were found: Hiragino Sans GB\n",
      "findfont: Generic family 'sans-serif' not found because none of the following families were found: Hiragino Sans GB\n",
      "findfont: Generic family 'sans-serif' not found because none of the following families were found: Hiragino Sans GB\n",
      "findfont: Generic family 'sans-serif' not found because none of the following families were found: Hiragino Sans GB\n",
      "findfont: Generic family 'sans-serif' not found because none of the following families were found: Hiragino Sans GB\n",
      "findfont: Generic family 'sans-serif' not found because none of the following families were found: Hiragino Sans GB\n",
      "findfont: Generic family 'sans-serif' not found because none of the following families were found: Hiragino Sans GB\n",
      "findfont: Generic family 'sans-serif' not found because none of the following families were found: Hiragino Sans GB\n",
      "findfont: Generic family 'sans-serif' not found because none of the following families were found: Hiragino Sans GB\n",
      "findfont: Generic family 'sans-serif' not found because none of the following families were found: Hiragino Sans GB\n",
      "findfont: Generic family 'sans-serif' not found because none of the following families were found: Hiragino Sans GB\n",
      "findfont: Generic family 'sans-serif' not found because none of the following families were found: Hiragino Sans GB\n",
      "findfont: Generic family 'sans-serif' not found because none of the following families were found: Hiragino Sans GB\n",
      "findfont: Generic family 'sans-serif' not found because none of the following families were found: Hiragino Sans GB\n",
      "findfont: Generic family 'sans-serif' not found because none of the following families were found: Hiragino Sans GB\n",
      "findfont: Generic family 'sans-serif' not found because none of the following families were found: Hiragino Sans GB\n",
      "findfont: Generic family 'sans-serif' not found because none of the following families were found: Hiragino Sans GB\n",
      "findfont: Generic family 'sans-serif' not found because none of the following families were found: Hiragino Sans GB\n",
      "findfont: Generic family 'sans-serif' not found because none of the following families were found: Hiragino Sans GB\n",
      "findfont: Generic family 'sans-serif' not found because none of the following families were found: Hiragino Sans GB\n",
      "findfont: Generic family 'sans-serif' not found because none of the following families were found: Hiragino Sans GB\n",
      "findfont: Generic family 'sans-serif' not found because none of the following families were found: Hiragino Sans GB\n",
      "findfont: Generic family 'sans-serif' not found because none of the following families were found: Hiragino Sans GB\n",
      "findfont: Generic family 'sans-serif' not found because none of the following families were found: Hiragino Sans GB\n",
      "findfont: Generic family 'sans-serif' not found because none of the following families were found: Hiragino Sans GB\n",
      "findfont: Generic family 'sans-serif' not found because none of the following families were found: Hiragino Sans GB\n",
      "findfont: Generic family 'sans-serif' not found because none of the following families were found: Hiragino Sans GB\n",
      "findfont: Generic family 'sans-serif' not found because none of the following families were found: Hiragino Sans GB\n",
      "findfont: Generic family 'sans-serif' not found because none of the following families were found: Hiragino Sans GB\n",
      "findfont: Generic family 'sans-serif' not found because none of the following families were found: Hiragino Sans GB\n",
      "findfont: Generic family 'sans-serif' not found because none of the following families were found: Hiragino Sans GB\n",
      "D:\\venv\\py312\\Lib\\site-packages\\IPython\\core\\pylabtools.py:170: UserWarning: Glyph 21608 (\\N{CJK UNIFIED IDEOGRAPH-5468}) missing from font(s) DejaVu Sans.\n",
      "  fig.canvas.print_figure(bytes_io, **kw)\n",
      "D:\\venv\\py312\\Lib\\site-packages\\IPython\\core\\pylabtools.py:170: UserWarning: Glyph 20960 (\\N{CJK UNIFIED IDEOGRAPH-51E0}) missing from font(s) DejaVu Sans.\n",
      "  fig.canvas.print_figure(bytes_io, **kw)\n",
      "findfont: Generic family 'sans-serif' not found because none of the following families were found: Hiragino Sans GB\n",
      "findfont: Generic family 'sans-serif' not found because none of the following families were found: Hiragino Sans GB\n",
      "findfont: Generic family 'sans-serif' not found because none of the following families were found: Hiragino Sans GB\n",
      "findfont: Generic family 'sans-serif' not found because none of the following families were found: Hiragino Sans GB\n",
      "findfont: Generic family 'sans-serif' not found because none of the following families were found: Hiragino Sans GB\n",
      "findfont: Generic family 'sans-serif' not found because none of the following families were found: Hiragino Sans GB\n",
      "findfont: Generic family 'sans-serif' not found because none of the following families were found: Hiragino Sans GB\n",
      "findfont: Generic family 'sans-serif' not found because none of the following families were found: Hiragino Sans GB\n",
      "findfont: Generic family 'sans-serif' not found because none of the following families were found: Hiragino Sans GB\n",
      "findfont: Generic family 'sans-serif' not found because none of the following families were found: Hiragino Sans GB\n",
      "findfont: Generic family 'sans-serif' not found because none of the following families were found: Hiragino Sans GB\n",
      "findfont: Generic family 'sans-serif' not found because none of the following families were found: Hiragino Sans GB\n",
      "findfont: Generic family 'sans-serif' not found because none of the following families were found: Hiragino Sans GB\n",
      "findfont: Generic family 'sans-serif' not found because none of the following families were found: Hiragino Sans GB\n",
      "findfont: Generic family 'sans-serif' not found because none of the following families were found: Hiragino Sans GB\n",
      "findfont: Generic family 'sans-serif' not found because none of the following families were found: Hiragino Sans GB\n",
      "findfont: Generic family 'sans-serif' not found because none of the following families were found: Hiragino Sans GB\n",
      "findfont: Generic family 'sans-serif' not found because none of the following families were found: Hiragino Sans GB\n",
      "findfont: Generic family 'sans-serif' not found because none of the following families were found: Hiragino Sans GB\n",
      "findfont: Generic family 'sans-serif' not found because none of the following families were found: Hiragino Sans GB\n",
      "findfont: Generic family 'sans-serif' not found because none of the following families were found: Hiragino Sans GB\n",
      "findfont: Generic family 'sans-serif' not found because none of the following families were found: Hiragino Sans GB\n",
      "findfont: Generic family 'sans-serif' not found because none of the following families were found: Hiragino Sans GB\n",
      "findfont: Generic family 'sans-serif' not found because none of the following families were found: Hiragino Sans GB\n",
      "findfont: Generic family 'sans-serif' not found because none of the following families were found: Hiragino Sans GB\n",
      "findfont: Generic family 'sans-serif' not found because none of the following families were found: Hiragino Sans GB\n",
      "findfont: Generic family 'sans-serif' not found because none of the following families were found: Hiragino Sans GB\n",
      "findfont: Generic family 'sans-serif' not found because none of the following families were found: Hiragino Sans GB\n",
      "findfont: Generic family 'sans-serif' not found because none of the following families were found: Hiragino Sans GB\n",
      "findfont: Generic family 'sans-serif' not found because none of the following families were found: Hiragino Sans GB\n",
      "findfont: Generic family 'sans-serif' not found because none of the following families were found: Hiragino Sans GB\n",
      "findfont: Generic family 'sans-serif' not found because none of the following families were found: Hiragino Sans GB\n",
      "findfont: Generic family 'sans-serif' not found because none of the following families were found: Hiragino Sans GB\n",
      "findfont: Generic family 'sans-serif' not found because none of the following families were found: Hiragino Sans GB\n",
      "findfont: Generic family 'sans-serif' not found because none of the following families were found: Hiragino Sans GB\n",
      "findfont: Generic family 'sans-serif' not found because none of the following families were found: Hiragino Sans GB\n",
      "findfont: Generic family 'sans-serif' not found because none of the following families were found: Hiragino Sans GB\n"
     ]
    },
    {
     "data": {
      "text/plain": [
       "<Figure size 640x480 with 1 Axes>"
      ],
      "image/png": "[encoded data removed]"
     },
     "metadata": {},
     "output_type": "display_data"
    }
   ],
   "execution_count": 8
  },
  {
   "cell_type": "code",
   "source": [],
   "metadata": {
    "collapsed": false,
    "pycharm": {
     "name": "#%%\n"
    }
   },
   "outputs": [],
   "execution_count": 8
  }
 ],
 "metadata": {
  "kernelspec": {
   "display_name": "Python 3",
   "language": "python",
   "name": "python3"
  },
  "language_info": {
   "codemirror_mode": {
    "name": "ipython",
    "version": 2
   },
   "file_extension": ".py",
   "mimetype": "text/x-python",
   "name": "python",
   "nbconvert_exporter": "python",
   "pygments_lexer": "ipython2",
   "version": "2.7.6"
  }
 },
 "nbformat": 4,
 "nbformat_minor": 0
}
