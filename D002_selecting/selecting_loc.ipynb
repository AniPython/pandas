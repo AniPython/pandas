{
 "cells": [
  {
   "cell_type": "code",
   "metadata": {
    "collapsed": true,
    "ExecuteTime": {
     "end_time": "2024-06-25T10:22:35.940636Z",
     "start_time": "2024-06-25T10:22:35.607658Z"
    }
   },
   "source": [
    "import pandas as pd"
   ],
   "execution_count": 1,
   "outputs": []
  },
  {
   "cell_type": "code",
   "source": [
    "df = pd.DataFrame([\n",
    "    [1, 2, 3, 4],\n",
    "    [5, 6, 7, 8],\n",
    "    [9, 10, 11, 12]],\n",
    "    columns=list('ABCD'),\n",
    "    index=list('XYZ'))\n",
    "df"
   ],
   "metadata": {
    "collapsed": false,
    "pycharm": {
     "name": "#%%\n"
    },
    "ExecuteTime": {
     "end_time": "2024-06-25T10:22:35.955995Z",
     "start_time": "2024-06-25T10:22:35.944134Z"
    }
   },
   "execution_count": 2,
   "outputs": []
  },
  {
   "cell_type": "code",
   "source": [
    "df.loc['Y']"
   ],
   "metadata": {
    "collapsed": false,
    "pycharm": {
     "name": "#%%\n"
    },
    "ExecuteTime": {
     "end_time": "2024-06-25T10:22:35.962719Z",
     "start_time": "2024-06-25T10:22:35.957994Z"
    }
   },
   "execution_count": 3,
   "outputs": []
  },
  {
   "cell_type": "code",
   "source": [
    "df.loc['Y', 'C']"
   ],
   "metadata": {
    "collapsed": false,
    "pycharm": {
     "name": "#%%\n"
    },
    "ExecuteTime": {
     "end_time": "2024-06-25T10:22:35.970214Z",
     "start_time": "2024-06-25T10:22:35.966721Z"
    }
   },
   "execution_count": 4,
   "outputs": []
  },
  {
   "cell_type": "code",
   "source": [
    "df.loc[['X', 'Y'], ['B', 'D']]"
   ],
   "metadata": {
    "collapsed": false,
    "pycharm": {
     "name": "#%%\n"
    },
    "ExecuteTime": {
     "end_time": "2024-06-25T10:22:35.977849Z",
     "start_time": "2024-06-25T10:22:35.972215Z"
    }
   },
   "execution_count": 5,
   "outputs": []
  },
  {
   "cell_type": "code",
   "source": [
    "df.loc['Y':'Z', 'B':'D']"
   ],
   "metadata": {
    "collapsed": false,
    "pycharm": {
     "name": "#%%\n"
    },
    "ExecuteTime": {
     "end_time": "2024-06-25T10:22:35.985644Z",
     "start_time": "2024-06-25T10:22:35.979847Z"
    }
   },
   "execution_count": 6,
   "outputs": []
  },
  {
   "cell_type": "code",
   "source": [
    "df.loc[:, 'B':'D']"
   ],
   "metadata": {
    "collapsed": false,
    "pycharm": {
     "name": "#%%\n"
    },
    "ExecuteTime": {
     "end_time": "2024-06-25T10:22:35.992130Z",
     "start_time": "2024-06-25T10:22:35.987642Z"
    }
   },
   "execution_count": 7,
   "outputs": []
  },
  {
   "cell_type": "code",
   "source": [
    "df.loc[:, ::-1]"
   ],
   "metadata": {
    "collapsed": false,
    "pycharm": {
     "name": "#%%\n"
    },
    "ExecuteTime": {
     "end_time": "2024-06-25T10:22:36.000450Z",
     "start_time": "2024-06-25T10:22:35.994129Z"
    }
   },
   "execution_count": 8,
   "outputs": []
  },
  {
   "cell_type": "code",
   "source": [
    "df.loc[::2, ::2]"
   ],
   "metadata": {
    "collapsed": false,
    "pycharm": {
     "name": "#%%\n"
    },
    "ExecuteTime": {
     "end_time": "2024-06-25T10:22:36.008579Z",
     "start_time": "2024-06-25T10:22:36.002463Z"
    }
   },
   "execution_count": 9,
   "outputs": []
  },
  {
   "cell_type": "code",
   "source": [
    "df.loc[[True, False, True],\n",
    "       [True, False, True, False]]"
   ],
   "metadata": {
    "collapsed": false,
    "pycharm": {
     "name": "#%%\n"
    },
    "ExecuteTime": {
     "end_time": "2024-06-25T10:22:36.018411Z",
     "start_time": "2024-06-25T10:22:36.012607Z"
    }
   },
   "execution_count": 10,
   "outputs": []
  },
  {
   "cell_type": "code",
   "source": [
    "df.loc[lambda df: [True, False, True],\n",
    "       lambda df: [True, False, True, False]]"
   ],
   "metadata": {
    "collapsed": false,
    "pycharm": {
     "name": "#%%\n"
    },
    "ExecuteTime": {
     "end_time": "2024-06-25T10:22:36.026967Z",
     "start_time": "2024-06-25T10:22:36.020429Z"
    }
   },
   "execution_count": 11,
   "outputs": []
  },
  {
   "cell_type": "code",
   "source": [
    "df = pd.read_csv(\n",
    "    'tips.csv',\n",
    "    usecols=['total_bill','day','time']\n",
    ")\n",
    "df"
   ],
   "metadata": {
    "collapsed": false,
    "pycharm": {
     "name": "#%%\n"
    },
    "ExecuteTime": {
     "end_time": "2024-06-25T10:22:36.037640Z",
     "start_time": "2024-06-25T10:22:36.029472Z"
    }
   },
   "execution_count": 12,
   "outputs": []
  },
  {
   "cell_type": "code",
   "source": [
    "df.groupby(['day','time']).sum()"
   ],
   "metadata": {
    "collapsed": false,
    "pycharm": {
     "name": "#%%\n"
    },
    "ExecuteTime": {
     "end_time": "2024-06-25T10:22:36.046625Z",
     "start_time": "2024-06-25T10:22:36.040141Z"
    }
   },
   "execution_count": 13,
   "outputs": []
  },
  {
   "cell_type": "code",
   "source": [
    "# df.groupby(['day','time']).sum()[\n",
    "#     df[df['total_bill']>100]\n",
    "# ]"
   ],
   "metadata": {
    "collapsed": false,
    "pycharm": {
     "name": "#%%\n"
    },
    "ExecuteTime": {
     "end_time": "2024-06-25T10:22:36.051832Z",
     "start_time": "2024-06-25T10:22:36.048626Z"
    }
   },
   "execution_count": 14,
   "outputs": []
  },
  {
   "cell_type": "code",
   "source": [
    "df.groupby(['day','time']).sum().loc[\n",
    "    lambda df: df['total_bill']>100\n",
    "]"
   ],
   "metadata": {
    "collapsed": false,
    "pycharm": {
     "name": "#%%\n"
    },
    "ExecuteTime": {
     "end_time": "2024-06-25T10:22:36.061933Z",
     "start_time": "2024-06-25T10:22:36.053833Z"
    }
   },
   "execution_count": 15,
   "outputs": []
  },
  {
   "cell_type": "code",
   "source": [
    "df = df.groupby(['day','time']).sum()\n",
    "df = df[df['total_bill']>100]\n",
    "df"
   ],
   "metadata": {
    "collapsed": false,
    "pycharm": {
     "name": "#%%\n"
    },
    "ExecuteTime": {
     "end_time": "2024-06-25T10:22:36.072177Z",
     "start_time": "2024-06-25T10:22:36.064929Z"
    }
   },
   "execution_count": 16,
   "outputs": []
  },
  {
   "cell_type": "code",
   "source": [
    "df.loc['X', 'B'] == df.at['X', 'B']  # 报错\n",
    "df.loc[1, 2] == df.iat[1, 2]\n"
   ],
   "metadata": {
    "collapsed": false,
    "pycharm": {
     "name": "#%%\n"
    },
    "ExecuteTime": {
     "end_time": "2024-06-25T10:22:36.865521Z",
     "start_time": "2024-06-25T10:22:36.075216Z"
    }
   },
   "execution_count": 17,
   "outputs": []
  }
 ],
 "metadata": {
  "kernelspec": {
   "display_name": "Python 3",
   "language": "python",
   "name": "python3"
  },
  "language_info": {
   "codemirror_mode": {
    "name": "ipython",
    "version": 2
   },
   "file_extension": ".py",
   "mimetype": "text/x-python",
   "name": "python",
   "nbconvert_exporter": "python",
   "pygments_lexer": "ipython2",
   "version": "2.7.6"
  }
 },
 "nbformat": 4,
 "nbformat_minor": 0
}
