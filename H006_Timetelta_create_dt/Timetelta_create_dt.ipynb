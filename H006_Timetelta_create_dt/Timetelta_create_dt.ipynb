{
 "cells": [
  {
   "cell_type": "code",
   "source": [
    "import pandas as pd"
   ],
   "metadata": {
    "collapsed": false,
    "pycharm": {
     "name": "#%%\n"
    },
    "ExecuteTime": {
     "end_time": "2024-06-25T10:44:02.024093Z",
     "start_time": "2024-06-25T10:44:01.685459Z"
    }
   },
   "outputs": [],
   "execution_count": 1
  },
  {
   "cell_type": "code",
   "source": [
    "pd.Timedelta(\n",
    "    '1 days 02:03:04'\n",
    ")"
   ],
   "metadata": {
    "collapsed": false,
    "pycharm": {
     "name": "#%%\n"
    },
    "ExecuteTime": {
     "end_time": "2024-06-25T10:44:02.038173Z",
     "start_time": "2024-06-25T10:44:02.030732Z"
    }
   },
   "outputs": [
    {
     "data": {
      "text/plain": [
       "Timedelta('1 days 02:03:04')"
      ]
     },
     "execution_count": 2,
     "metadata": {},
     "output_type": "execute_result"
    }
   ],
   "execution_count": 2
  },
  {
   "cell_type": "code",
   "source": [
    "pd.Timedelta('1 days')"
   ],
   "metadata": {
    "collapsed": false,
    "pycharm": {
     "name": "#%%\n"
    },
    "ExecuteTime": {
     "end_time": "2024-06-25T10:44:02.058350Z",
     "start_time": "2024-06-25T10:44:02.040172Z"
    }
   },
   "outputs": [
    {
     "data": {
      "text/plain": [
       "Timedelta('1 days 00:00:00')"
      ]
     },
     "execution_count": 3,
     "metadata": {},
     "output_type": "execute_result"
    }
   ],
   "execution_count": 3
  },
  {
   "cell_type": "code",
   "source": [
    "pd.Timedelta('3D')"
   ],
   "metadata": {
    "collapsed": false,
    "pycharm": {
     "name": "#%%\n"
    },
    "ExecuteTime": {
     "end_time": "2024-06-25T10:44:02.075326Z",
     "start_time": "2024-06-25T10:44:02.063742Z"
    }
   },
   "outputs": [
    {
     "data": {
      "text/plain": [
       "Timedelta('3 days 00:00:00')"
      ]
     },
     "execution_count": 4,
     "metadata": {},
     "output_type": "execute_result"
    }
   ],
   "execution_count": 4
  },
  {
   "cell_type": "code",
   "source": "pd.Timedelta('3H')  # 警告",
   "metadata": {
    "collapsed": false,
    "pycharm": {
     "name": "#%%\n"
    },
    "ExecuteTime": {
     "end_time": "2024-06-25T10:44:02.096708Z",
     "start_time": "2024-06-25T10:44:02.080671Z"
    }
   },
   "outputs": [
    {
     "name": "stderr",
     "output_type": "stream",
     "text": [
      "C:\\Users\\Administrator\\AppData\\Local\\Temp\\ipykernel_8188\\2281667214.py:1: FutureWarning: 'H' is deprecated and will be removed in a future version. Please use 'h' instead of 'H'.\n",
      "  pd.Timedelta('3H')\n"
     ]
    },
    {
     "data": {
      "text/plain": [
       "Timedelta('0 days 03:00:00')"
      ]
     },
     "execution_count": 5,
     "metadata": {},
     "output_type": "execute_result"
    }
   ],
   "execution_count": 5
  },
  {
   "cell_type": "code",
   "source": "pd.Timedelta('2D3H4T5S')  # 警告",
   "metadata": {
    "collapsed": false,
    "pycharm": {
     "name": "#%%\n"
    },
    "ExecuteTime": {
     "end_time": "2024-06-25T10:44:02.116667Z",
     "start_time": "2024-06-25T10:44:02.100709Z"
    }
   },
   "outputs": [
    {
     "name": "stderr",
     "output_type": "stream",
     "text": [
      "C:\\Users\\Administrator\\AppData\\Local\\Temp\\ipykernel_8188\\1232988774.py:1: FutureWarning: 'H' is deprecated and will be removed in a future version. Please use 'h' instead of 'H'.\n",
      "  pd.Timedelta('2D3H4T5S')\n",
      "C:\\Users\\Administrator\\AppData\\Local\\Temp\\ipykernel_8188\\1232988774.py:1: FutureWarning: 'T' is deprecated and will be removed in a future version. Please use 'min' instead of 'T'.\n",
      "  pd.Timedelta('2D3H4T5S')\n",
      "C:\\Users\\Administrator\\AppData\\Local\\Temp\\ipykernel_8188\\1232988774.py:1: FutureWarning: 'S' is deprecated and will be removed in a future version. Please use 's' instead of 'S'.\n",
      "  pd.Timedelta('2D3H4T5S')\n"
     ]
    },
    {
     "data": {
      "text/plain": [
       "Timedelta('2 days 03:04:05')"
      ]
     },
     "execution_count": 6,
     "metadata": {},
     "output_type": "execute_result"
    }
   ],
   "execution_count": 6
  },
  {
   "cell_type": "code",
   "source": [
    "pd.Timedelta(\n",
    "    2, unit='H'  # 警告\n",
    ")"
   ],
   "metadata": {
    "collapsed": false,
    "pycharm": {
     "name": "#%%\n"
    },
    "ExecuteTime": {
     "end_time": "2024-06-25T10:44:02.136941Z",
     "start_time": "2024-06-25T10:44:02.123428Z"
    }
   },
   "outputs": [
    {
     "name": "stderr",
     "output_type": "stream",
     "text": [
      "C:\\Users\\Administrator\\AppData\\Local\\Temp\\ipykernel_8188\\991709835.py:1: FutureWarning: 'H' is deprecated and will be removed in a future version. Please use 'h' instead of 'H'.\n",
      "  pd.Timedelta(\n"
     ]
    },
    {
     "data": {
      "text/plain": [
       "Timedelta('0 days 02:00:00')"
      ]
     },
     "execution_count": 7,
     "metadata": {},
     "output_type": "execute_result"
    }
   ],
   "execution_count": 7
  },
  {
   "cell_type": "code",
   "source": [
    "s = pd.Series([\n",
    "    pd.Timedelta('1 days'),\n",
    "    pd.Timedelta('2 days'),\n",
    "    pd.Timedelta('3 days')\n",
    "])\n",
    "s"
   ],
   "metadata": {
    "collapsed": false,
    "pycharm": {
     "name": "#%%\n"
    },
    "ExecuteTime": {
     "end_time": "2024-06-25T10:44:02.154316Z",
     "start_time": "2024-06-25T10:44:02.140956Z"
    }
   },
   "outputs": [
    {
     "data": {
      "text/plain": [
       "0   1 days\n",
       "1   2 days\n",
       "2   3 days\n",
       "dtype: timedelta64[ns]"
      ]
     },
     "execution_count": 8,
     "metadata": {},
     "output_type": "execute_result"
    }
   ],
   "execution_count": 8
  },
  {
   "cell_type": "code",
   "source": [
    "li = [1,2,3]\n",
    "li"
   ],
   "metadata": {
    "collapsed": false,
    "pycharm": {
     "name": "#%%\n"
    },
    "ExecuteTime": {
     "end_time": "2024-06-25T10:44:02.173731Z",
     "start_time": "2024-06-25T10:44:02.159823Z"
    }
   },
   "outputs": [
    {
     "data": {
      "text/plain": [
       "[1, 2, 3]"
      ]
     },
     "execution_count": 9,
     "metadata": {},
     "output_type": "execute_result"
    }
   ],
   "execution_count": 9
  },
  {
   "cell_type": "code",
   "source": [
    "pd.to_timedelta(li, unit='D')"
   ],
   "metadata": {
    "collapsed": false,
    "pycharm": {
     "name": "#%%\n"
    },
    "ExecuteTime": {
     "end_time": "2024-06-25T10:44:02.192759Z",
     "start_time": "2024-06-25T10:44:02.178234Z"
    }
   },
   "outputs": [
    {
     "data": {
      "text/plain": [
       "TimedeltaIndex(['1 days', '2 days', '3 days'], dtype='timedelta64[ns]', freq=None)"
      ]
     },
     "execution_count": 10,
     "metadata": {},
     "output_type": "execute_result"
    }
   ],
   "execution_count": 10
  },
  {
   "cell_type": "code",
   "source": "pd.to_timedelta(li, unit='H')  # 警告",
   "metadata": {
    "collapsed": false,
    "pycharm": {
     "name": "#%%\n"
    },
    "ExecuteTime": {
     "end_time": "2024-06-25T10:44:02.211252Z",
     "start_time": "2024-06-25T10:44:02.196760Z"
    }
   },
   "outputs": [
    {
     "name": "stderr",
     "output_type": "stream",
     "text": [
      "C:\\Users\\Administrator\\AppData\\Local\\Temp\\ipykernel_8188\\622722199.py:1: FutureWarning: 'H' is deprecated and will be removed in a future version. Please use 'h' instead of 'H'.\n",
      "  pd.to_timedelta(li, unit='H')\n"
     ]
    },
    {
     "data": {
      "text/plain": [
       "TimedeltaIndex(['0 days 01:00:00', '0 days 02:00:00', '0 days 03:00:00'], dtype='timedelta64[ns]', freq=None)"
      ]
     },
     "execution_count": 11,
     "metadata": {},
     "output_type": "execute_result"
    }
   ],
   "execution_count": 11
  },
  {
   "cell_type": "code",
   "source": [
    "pd.timedelta_range(\n",
    "    start='1D',\n",
    "    end='3D',\n",
    "    freq='D'\n",
    ")"
   ],
   "metadata": {
    "collapsed": false,
    "pycharm": {
     "name": "#%%\n"
    },
    "ExecuteTime": {
     "end_time": "2024-06-25T10:44:02.231276Z",
     "start_time": "2024-06-25T10:44:02.215743Z"
    }
   },
   "outputs": [
    {
     "data": {
      "text/plain": [
       "TimedeltaIndex(['1 days', '2 days', '3 days'], dtype='timedelta64[ns]', freq='D')"
      ]
     },
     "execution_count": 12,
     "metadata": {},
     "output_type": "execute_result"
    }
   ],
   "execution_count": 12
  },
  {
   "cell_type": "code",
   "source": [
    "t = pd.timedelta_range(\n",
    "    start='1D',\n",
    "    end='3D',\n",
    "    periods=8\n",
    ")"
   ],
   "metadata": {
    "collapsed": false,
    "pycharm": {
     "name": "#%%\n"
    },
    "ExecuteTime": {
     "end_time": "2024-06-25T10:44:02.247301Z",
     "start_time": "2024-06-25T10:44:02.236766Z"
    }
   },
   "outputs": [],
   "execution_count": 13
  },
  {
   "cell_type": "code",
   "source": [
    "s = pd.Series(t)\n",
    "s"
   ],
   "metadata": {
    "collapsed": false,
    "pycharm": {
     "name": "#%%\n"
    },
    "ExecuteTime": {
     "end_time": "2024-06-25T10:44:02.266173Z",
     "start_time": "2024-06-25T10:44:02.253295Z"
    }
   },
   "outputs": [
    {
     "data": {
      "text/plain": [
       "0             1 days 00:00:00\n",
       "1   1 days 06:51:25.714285714\n",
       "2   1 days 13:42:51.428571428\n",
       "3   1 days 20:34:17.142857142\n",
       "4   2 days 03:25:42.857142857\n",
       "5   2 days 10:17:08.571428571\n",
       "6   2 days 17:08:34.285714285\n",
       "7             3 days 00:00:00\n",
       "dtype: timedelta64[ns]"
      ]
     },
     "execution_count": 14,
     "metadata": {},
     "output_type": "execute_result"
    }
   ],
   "execution_count": 14
  },
  {
   "cell_type": "code",
   "source": [
    "s.dt.days"
   ],
   "metadata": {
    "collapsed": false,
    "pycharm": {
     "name": "#%%\n"
    },
    "ExecuteTime": {
     "end_time": "2024-06-25T10:44:02.287680Z",
     "start_time": "2024-06-25T10:44:02.274687Z"
    }
   },
   "outputs": [
    {
     "data": {
      "text/plain": [
       "0    1\n",
       "1    1\n",
       "2    1\n",
       "3    1\n",
       "4    2\n",
       "5    2\n",
       "6    2\n",
       "7    3\n",
       "dtype: int64"
      ]
     },
     "execution_count": 15,
     "metadata": {},
     "output_type": "execute_result"
    }
   ],
   "execution_count": 15
  },
  {
   "cell_type": "code",
   "source": [
    "s.dt.seconds"
   ],
   "metadata": {
    "collapsed": false,
    "pycharm": {
     "name": "#%%\n"
    },
    "ExecuteTime": {
     "end_time": "2024-06-25T10:44:02.307225Z",
     "start_time": "2024-06-25T10:44:02.291178Z"
    }
   },
   "outputs": [
    {
     "data": {
      "text/plain": [
       "0        0\n",
       "1    24685\n",
       "2    49371\n",
       "3    74057\n",
       "4    12342\n",
       "5    37028\n",
       "6    61714\n",
       "7        0\n",
       "dtype: int32"
      ]
     },
     "execution_count": 16,
     "metadata": {},
     "output_type": "execute_result"
    }
   ],
   "execution_count": 16
  },
  {
   "cell_type": "code",
   "source": [
    "s.dt.components"
   ],
   "metadata": {
    "collapsed": false,
    "pycharm": {
     "name": "#%%\n"
    },
    "ExecuteTime": {
     "end_time": "2024-06-25T10:44:02.331614Z",
     "start_time": "2024-06-25T10:44:02.311723Z"
    }
   },
   "outputs": [
    {
     "data": {
      "text/plain": [
       "   days  hours  minutes  seconds  milliseconds  microseconds  nanoseconds\n",
       "0     1      0        0        0             0             0            0\n",
       "1     1      6       51       25           714           285          714\n",
       "2     1     13       42       51           428           571          428\n",
       "3     1     20       34       17           142           857          142\n",
       "4     2      3       25       42           857           142          857\n",
       "5     2     10       17        8           571           428          571\n",
       "6     2     17        8       34           285           714          285\n",
       "7     3      0        0        0             0             0            0"
      ],
      "text/html": [
       "<div>\n",
       "<style scoped>\n",
       "    .dataframe tbody tr th:only-of-type {\n",
       "        vertical-align: middle;\n",
       "    }\n",
       "\n",
       "    .dataframe tbody tr th {\n",
       "        vertical-align: top;\n",
       "    }\n",
       "\n",
       "    .dataframe thead th {\n",
       "        text-align: right;\n",
       "    }\n",
       "</style>\n",
       "<table border=\"1\" class=\"dataframe\">\n",
       "  <thead>\n",
       "    <tr style=\"text-align: right;\">\n",
       "      <th></th>\n",
       "      <th>days</th>\n",
       "      <th>hours</th>\n",
       "      <th>minutes</th>\n",
       "      <th>seconds</th>\n",
       "      <th>milliseconds</th>\n",
       "      <th>microseconds</th>\n",
       "      <th>nanoseconds</th>\n",
       "    </tr>\n",
       "  </thead>\n",
       "  <tbody>\n",
       "    <tr>\n",
       "      <th>0</th>\n",
       "      <td>1</td>\n",
       "      <td>0</td>\n",
       "      <td>0</td>\n",
       "      <td>0</td>\n",
       "      <td>0</td>\n",
       "      <td>0</td>\n",
       "      <td>0</td>\n",
       "    </tr>\n",
       "    <tr>\n",
       "      <th>1</th>\n",
       "      <td>1</td>\n",
       "      <td>6</td>\n",
       "      <td>51</td>\n",
       "      <td>25</td>\n",
       "      <td>714</td>\n",
       "      <td>285</td>\n",
       "      <td>714</td>\n",
       "    </tr>\n",
       "    <tr>\n",
       "      <th>2</th>\n",
       "      <td>1</td>\n",
       "      <td>13</td>\n",
       "      <td>42</td>\n",
       "      <td>51</td>\n",
       "      <td>428</td>\n",
       "      <td>571</td>\n",
       "      <td>428</td>\n",
       "    </tr>\n",
       "    <tr>\n",
       "      <th>3</th>\n",
       "      <td>1</td>\n",
       "      <td>20</td>\n",
       "      <td>34</td>\n",
       "      <td>17</td>\n",
       "      <td>142</td>\n",
       "      <td>857</td>\n",
       "      <td>142</td>\n",
       "    </tr>\n",
       "    <tr>\n",
       "      <th>4</th>\n",
       "      <td>2</td>\n",
       "      <td>3</td>\n",
       "      <td>25</td>\n",
       "      <td>42</td>\n",
       "      <td>857</td>\n",
       "      <td>142</td>\n",
       "      <td>857</td>\n",
       "    </tr>\n",
       "    <tr>\n",
       "      <th>5</th>\n",
       "      <td>2</td>\n",
       "      <td>10</td>\n",
       "      <td>17</td>\n",
       "      <td>8</td>\n",
       "      <td>571</td>\n",
       "      <td>428</td>\n",
       "      <td>571</td>\n",
       "    </tr>\n",
       "    <tr>\n",
       "      <th>6</th>\n",
       "      <td>2</td>\n",
       "      <td>17</td>\n",
       "      <td>8</td>\n",
       "      <td>34</td>\n",
       "      <td>285</td>\n",
       "      <td>714</td>\n",
       "      <td>285</td>\n",
       "    </tr>\n",
       "    <tr>\n",
       "      <th>7</th>\n",
       "      <td>3</td>\n",
       "      <td>0</td>\n",
       "      <td>0</td>\n",
       "      <td>0</td>\n",
       "      <td>0</td>\n",
       "      <td>0</td>\n",
       "      <td>0</td>\n",
       "    </tr>\n",
       "  </tbody>\n",
       "</table>\n",
       "</div>"
      ]
     },
     "execution_count": 17,
     "metadata": {},
     "output_type": "execute_result"
    }
   ],
   "execution_count": 17
  },
  {
   "cell_type": "code",
   "source": [
    "s.dt.total_seconds()"
   ],
   "metadata": {
    "collapsed": false,
    "pycharm": {
     "name": "#%%\n"
    },
    "ExecuteTime": {
     "end_time": "2024-06-25T10:44:02.348088Z",
     "start_time": "2024-06-25T10:44:02.335620Z"
    }
   },
   "outputs": [
    {
     "data": {
      "text/plain": [
       "0     86400.000000\n",
       "1    111085.714286\n",
       "2    135771.428571\n",
       "3    160457.142857\n",
       "4    185142.857143\n",
       "5    209828.571429\n",
       "6    234514.285714\n",
       "7    259200.000000\n",
       "dtype: float64"
      ]
     },
     "execution_count": 18,
     "metadata": {},
     "output_type": "execute_result"
    }
   ],
   "execution_count": 18
  },
  {
   "cell_type": "code",
   "source": [
    "\n"
   ],
   "metadata": {
    "collapsed": false,
    "pycharm": {
     "name": "#%%\n"
    }
   },
   "outputs": [],
   "execution_count": 18
  }
 ],
 "metadata": {
  "kernelspec": {
   "display_name": "Python 3",
   "language": "python",
   "name": "python3"
  },
  "language_info": {
   "codemirror_mode": {
    "name": "ipython",
    "version": 2
   },
   "file_extension": ".py",
   "mimetype": "text/x-python",
   "name": "python",
   "nbconvert_exporter": "python",
   "pygments_lexer": "ipython2",
   "version": "2.7.6"
  }
 },
 "nbformat": 4,
 "nbformat_minor": 0
}
