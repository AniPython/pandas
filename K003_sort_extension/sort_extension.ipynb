{
 "cells": [
  {
   "cell_type": "code",
   "source": [
    "import pandas as pd"
   ],
   "metadata": {
    "collapsed": false,
    "pycharm": {
     "name": "#%%\n"
    },
    "ExecuteTime": {
     "end_time": "2024-06-27T07:43:41.833611Z",
     "start_time": "2024-06-27T07:43:41.509444Z"
    }
   },
   "outputs": [],
   "execution_count": 1
  },
  {
   "cell_type": "code",
   "source": [
    "df = pd.read_excel(\n",
    "    '2019销售总表.xlsx',\n",
    "    usecols=['货号', '平台']\n",
    ").sample(12)\n",
    "df"
   ],
   "metadata": {
    "collapsed": false,
    "pycharm": {
     "name": "#%%\n"
    },
    "ExecuteTime": {
     "end_time": "2024-06-27T07:43:42.851188Z",
     "start_time": "2024-06-27T07:43:41.835613Z"
    }
   },
   "outputs": [
    {
     "data": {
      "text/plain": [
       "             货号   平台\n",
       "2791   AXTB3200  平台A\n",
       "16314  QTVW5600  平台B\n",
       "12035  VBOY1800  平台B\n",
       "6086   XDQV5600  平台A\n",
       "4735   AGDH5500  平台A\n",
       "1945   XHQA3700  平台A\n",
       "7339   PWDK9200  平台A\n",
       "16995  QTVW5600  平台B\n",
       "33     UQNA9200  平台A\n",
       "1699   AGDH5500  平台A\n",
       "8053   AXTB3200  平台A\n",
       "7372   FLHR1800  平台A"
      ],
      "text/html": [
       "<div>\n",
       "<style scoped>\n",
       "    .dataframe tbody tr th:only-of-type {\n",
       "        vertical-align: middle;\n",
       "    }\n",
       "\n",
       "    .dataframe tbody tr th {\n",
       "        vertical-align: top;\n",
       "    }\n",
       "\n",
       "    .dataframe thead th {\n",
       "        text-align: right;\n",
       "    }\n",
       "</style>\n",
       "<table border=\"1\" class=\"dataframe\">\n",
       "  <thead>\n",
       "    <tr style=\"text-align: right;\">\n",
       "      <th></th>\n",
       "      <th>货号</th>\n",
       "      <th>平台</th>\n",
       "    </tr>\n",
       "  </thead>\n",
       "  <tbody>\n",
       "    <tr>\n",
       "      <th>2791</th>\n",
       "      <td>AXTB3200</td>\n",
       "      <td>平台A</td>\n",
       "    </tr>\n",
       "    <tr>\n",
       "      <th>16314</th>\n",
       "      <td>QTVW5600</td>\n",
       "      <td>平台B</td>\n",
       "    </tr>\n",
       "    <tr>\n",
       "      <th>12035</th>\n",
       "      <td>VBOY1800</td>\n",
       "      <td>平台B</td>\n",
       "    </tr>\n",
       "    <tr>\n",
       "      <th>6086</th>\n",
       "      <td>XDQV5600</td>\n",
       "      <td>平台A</td>\n",
       "    </tr>\n",
       "    <tr>\n",
       "      <th>4735</th>\n",
       "      <td>AGDH5500</td>\n",
       "      <td>平台A</td>\n",
       "    </tr>\n",
       "    <tr>\n",
       "      <th>1945</th>\n",
       "      <td>XHQA3700</td>\n",
       "      <td>平台A</td>\n",
       "    </tr>\n",
       "    <tr>\n",
       "      <th>7339</th>\n",
       "      <td>PWDK9200</td>\n",
       "      <td>平台A</td>\n",
       "    </tr>\n",
       "    <tr>\n",
       "      <th>16995</th>\n",
       "      <td>QTVW5600</td>\n",
       "      <td>平台B</td>\n",
       "    </tr>\n",
       "    <tr>\n",
       "      <th>33</th>\n",
       "      <td>UQNA9200</td>\n",
       "      <td>平台A</td>\n",
       "    </tr>\n",
       "    <tr>\n",
       "      <th>1699</th>\n",
       "      <td>AGDH5500</td>\n",
       "      <td>平台A</td>\n",
       "    </tr>\n",
       "    <tr>\n",
       "      <th>8053</th>\n",
       "      <td>AXTB3200</td>\n",
       "      <td>平台A</td>\n",
       "    </tr>\n",
       "    <tr>\n",
       "      <th>7372</th>\n",
       "      <td>FLHR1800</td>\n",
       "      <td>平台A</td>\n",
       "    </tr>\n",
       "  </tbody>\n",
       "</table>\n",
       "</div>"
      ]
     },
     "execution_count": 2,
     "metadata": {},
     "output_type": "execute_result"
    }
   ],
   "execution_count": 2
  },
  {
   "cell_type": "code",
   "source": [
    "df.sort_values(['货号', '平台'])"
   ],
   "metadata": {
    "collapsed": false,
    "pycharm": {
     "name": "#%%\n"
    },
    "ExecuteTime": {
     "end_time": "2024-06-27T07:43:42.859460Z",
     "start_time": "2024-06-27T07:43:42.852493Z"
    }
   },
   "outputs": [
    {
     "data": {
      "text/plain": [
       "             货号   平台\n",
       "4735   AGDH5500  平台A\n",
       "1699   AGDH5500  平台A\n",
       "2791   AXTB3200  平台A\n",
       "8053   AXTB3200  平台A\n",
       "7372   FLHR1800  平台A\n",
       "7339   PWDK9200  平台A\n",
       "16314  QTVW5600  平台B\n",
       "16995  QTVW5600  平台B\n",
       "33     UQNA9200  平台A\n",
       "12035  VBOY1800  平台B\n",
       "6086   XDQV5600  平台A\n",
       "1945   XHQA3700  平台A"
      ],
      "text/html": [
       "<div>\n",
       "<style scoped>\n",
       "    .dataframe tbody tr th:only-of-type {\n",
       "        vertical-align: middle;\n",
       "    }\n",
       "\n",
       "    .dataframe tbody tr th {\n",
       "        vertical-align: top;\n",
       "    }\n",
       "\n",
       "    .dataframe thead th {\n",
       "        text-align: right;\n",
       "    }\n",
       "</style>\n",
       "<table border=\"1\" class=\"dataframe\">\n",
       "  <thead>\n",
       "    <tr style=\"text-align: right;\">\n",
       "      <th></th>\n",
       "      <th>货号</th>\n",
       "      <th>平台</th>\n",
       "    </tr>\n",
       "  </thead>\n",
       "  <tbody>\n",
       "    <tr>\n",
       "      <th>4735</th>\n",
       "      <td>AGDH5500</td>\n",
       "      <td>平台A</td>\n",
       "    </tr>\n",
       "    <tr>\n",
       "      <th>1699</th>\n",
       "      <td>AGDH5500</td>\n",
       "      <td>平台A</td>\n",
       "    </tr>\n",
       "    <tr>\n",
       "      <th>2791</th>\n",
       "      <td>AXTB3200</td>\n",
       "      <td>平台A</td>\n",
       "    </tr>\n",
       "    <tr>\n",
       "      <th>8053</th>\n",
       "      <td>AXTB3200</td>\n",
       "      <td>平台A</td>\n",
       "    </tr>\n",
       "    <tr>\n",
       "      <th>7372</th>\n",
       "      <td>FLHR1800</td>\n",
       "      <td>平台A</td>\n",
       "    </tr>\n",
       "    <tr>\n",
       "      <th>7339</th>\n",
       "      <td>PWDK9200</td>\n",
       "      <td>平台A</td>\n",
       "    </tr>\n",
       "    <tr>\n",
       "      <th>16314</th>\n",
       "      <td>QTVW5600</td>\n",
       "      <td>平台B</td>\n",
       "    </tr>\n",
       "    <tr>\n",
       "      <th>16995</th>\n",
       "      <td>QTVW5600</td>\n",
       "      <td>平台B</td>\n",
       "    </tr>\n",
       "    <tr>\n",
       "      <th>33</th>\n",
       "      <td>UQNA9200</td>\n",
       "      <td>平台A</td>\n",
       "    </tr>\n",
       "    <tr>\n",
       "      <th>12035</th>\n",
       "      <td>VBOY1800</td>\n",
       "      <td>平台B</td>\n",
       "    </tr>\n",
       "    <tr>\n",
       "      <th>6086</th>\n",
       "      <td>XDQV5600</td>\n",
       "      <td>平台A</td>\n",
       "    </tr>\n",
       "    <tr>\n",
       "      <th>1945</th>\n",
       "      <td>XHQA3700</td>\n",
       "      <td>平台A</td>\n",
       "    </tr>\n",
       "  </tbody>\n",
       "</table>\n",
       "</div>"
      ]
     },
     "execution_count": 3,
     "metadata": {},
     "output_type": "execute_result"
    }
   ],
   "execution_count": 3
  },
  {
   "cell_type": "code",
   "source": [
    "df.sort_values(['货号', '平台'],\n",
    "               ascending=[True, False])"
   ],
   "metadata": {
    "collapsed": false,
    "pycharm": {
     "name": "#%%\n"
    },
    "ExecuteTime": {
     "end_time": "2024-06-27T07:43:42.879333Z",
     "start_time": "2024-06-27T07:43:42.860463Z"
    }
   },
   "outputs": [
    {
     "data": {
      "text/plain": [
       "             货号   平台\n",
       "4735   AGDH5500  平台A\n",
       "1699   AGDH5500  平台A\n",
       "2791   AXTB3200  平台A\n",
       "8053   AXTB3200  平台A\n",
       "7372   FLHR1800  平台A\n",
       "7339   PWDK9200  平台A\n",
       "16314  QTVW5600  平台B\n",
       "16995  QTVW5600  平台B\n",
       "33     UQNA9200  平台A\n",
       "12035  VBOY1800  平台B\n",
       "6086   XDQV5600  平台A\n",
       "1945   XHQA3700  平台A"
      ],
      "text/html": [
       "<div>\n",
       "<style scoped>\n",
       "    .dataframe tbody tr th:only-of-type {\n",
       "        vertical-align: middle;\n",
       "    }\n",
       "\n",
       "    .dataframe tbody tr th {\n",
       "        vertical-align: top;\n",
       "    }\n",
       "\n",
       "    .dataframe thead th {\n",
       "        text-align: right;\n",
       "    }\n",
       "</style>\n",
       "<table border=\"1\" class=\"dataframe\">\n",
       "  <thead>\n",
       "    <tr style=\"text-align: right;\">\n",
       "      <th></th>\n",
       "      <th>货号</th>\n",
       "      <th>平台</th>\n",
       "    </tr>\n",
       "  </thead>\n",
       "  <tbody>\n",
       "    <tr>\n",
       "      <th>4735</th>\n",
       "      <td>AGDH5500</td>\n",
       "      <td>平台A</td>\n",
       "    </tr>\n",
       "    <tr>\n",
       "      <th>1699</th>\n",
       "      <td>AGDH5500</td>\n",
       "      <td>平台A</td>\n",
       "    </tr>\n",
       "    <tr>\n",
       "      <th>2791</th>\n",
       "      <td>AXTB3200</td>\n",
       "      <td>平台A</td>\n",
       "    </tr>\n",
       "    <tr>\n",
       "      <th>8053</th>\n",
       "      <td>AXTB3200</td>\n",
       "      <td>平台A</td>\n",
       "    </tr>\n",
       "    <tr>\n",
       "      <th>7372</th>\n",
       "      <td>FLHR1800</td>\n",
       "      <td>平台A</td>\n",
       "    </tr>\n",
       "    <tr>\n",
       "      <th>7339</th>\n",
       "      <td>PWDK9200</td>\n",
       "      <td>平台A</td>\n",
       "    </tr>\n",
       "    <tr>\n",
       "      <th>16314</th>\n",
       "      <td>QTVW5600</td>\n",
       "      <td>平台B</td>\n",
       "    </tr>\n",
       "    <tr>\n",
       "      <th>16995</th>\n",
       "      <td>QTVW5600</td>\n",
       "      <td>平台B</td>\n",
       "    </tr>\n",
       "    <tr>\n",
       "      <th>33</th>\n",
       "      <td>UQNA9200</td>\n",
       "      <td>平台A</td>\n",
       "    </tr>\n",
       "    <tr>\n",
       "      <th>12035</th>\n",
       "      <td>VBOY1800</td>\n",
       "      <td>平台B</td>\n",
       "    </tr>\n",
       "    <tr>\n",
       "      <th>6086</th>\n",
       "      <td>XDQV5600</td>\n",
       "      <td>平台A</td>\n",
       "    </tr>\n",
       "    <tr>\n",
       "      <th>1945</th>\n",
       "      <td>XHQA3700</td>\n",
       "      <td>平台A</td>\n",
       "    </tr>\n",
       "  </tbody>\n",
       "</table>\n",
       "</div>"
      ]
     },
     "execution_count": 4,
     "metadata": {},
     "output_type": "execute_result"
    }
   ],
   "execution_count": 4
  },
  {
   "cell_type": "code",
   "source": [
    "\n"
   ],
   "metadata": {
    "collapsed": false,
    "pycharm": {
     "name": "#%%\n"
    },
    "ExecuteTime": {
     "end_time": "2024-06-27T07:43:42.883885Z",
     "start_time": "2024-06-27T07:43:42.881335Z"
    }
   },
   "outputs": [],
   "execution_count": 4
  }
 ],
 "metadata": {
  "kernelspec": {
   "display_name": "Python 3",
   "language": "python",
   "name": "python3"
  },
  "language_info": {
   "codemirror_mode": {
    "name": "ipython",
    "version": 2
   },
   "file_extension": ".py",
   "mimetype": "text/x-python",
   "name": "python",
   "nbconvert_exporter": "python",
   "pygments_lexer": "ipython2",
   "version": "2.7.6"
  }
 },
 "nbformat": 4,
 "nbformat_minor": 0
}
