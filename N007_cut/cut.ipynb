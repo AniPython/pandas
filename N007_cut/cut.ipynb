{
 "cells": [
  {
   "cell_type": "code",
   "execution_count": 33,
   "outputs": [],
   "source": [
    "# cut() 将值分类到离散间隔"
   ],
   "metadata": {
    "collapsed": false,
    "pycharm": {
     "name": "#%%\n"
    }
   }
  },
  {
   "cell_type": "code",
   "execution_count": 34,
   "metadata": {
    "collapsed": true
   },
   "outputs": [],
   "source": [
    "import pandas as pd"
   ]
  },
  {
   "cell_type": "code",
   "execution_count": 35,
   "outputs": [
    {
     "data": {
      "text/plain": "    成绩\n0   30\n1   60\n2   70\n3  100\n4    0\n5   96",
      "text/html": "<div>\n<style scoped>\n    .dataframe tbody tr th:only-of-type {\n        vertical-align: middle;\n    }\n\n    .dataframe tbody tr th {\n        vertical-align: top;\n    }\n\n    .dataframe thead th {\n        text-align: right;\n    }\n</style>\n<table border=\"1\" class=\"dataframe\">\n  <thead>\n    <tr style=\"text-align: right;\">\n      <th></th>\n      <th>成绩</th>\n    </tr>\n  </thead>\n  <tbody>\n    <tr>\n      <th>0</th>\n      <td>30</td>\n    </tr>\n    <tr>\n      <th>1</th>\n      <td>60</td>\n    </tr>\n    <tr>\n      <th>2</th>\n      <td>70</td>\n    </tr>\n    <tr>\n      <th>3</th>\n      <td>100</td>\n    </tr>\n    <tr>\n      <th>4</th>\n      <td>0</td>\n    </tr>\n    <tr>\n      <th>5</th>\n      <td>96</td>\n    </tr>\n  </tbody>\n</table>\n</div>"
     },
     "execution_count": 35,
     "metadata": {},
     "output_type": "execute_result"
    }
   ],
   "source": [
    "df = pd.DataFrame(\n",
    "    {'成绩': [30, 60, 70, 100, 0, 96]}\n",
    ")\n",
    "df"
   ],
   "metadata": {
    "collapsed": false,
    "pycharm": {
     "name": "#%%\n"
    }
   }
  },
  {
   "cell_type": "code",
   "execution_count": 36,
   "outputs": [
    {
     "data": {
      "text/plain": "    成绩              等级\n0   30  (-0.001, 60.0]\n1   60  (-0.001, 60.0]\n2   70    (60.0, 80.0]\n3  100   (80.0, 100.0]\n4    0  (-0.001, 60.0]\n5   96   (80.0, 100.0]",
      "text/html": "<div>\n<style scoped>\n    .dataframe tbody tr th:only-of-type {\n        vertical-align: middle;\n    }\n\n    .dataframe tbody tr th {\n        vertical-align: top;\n    }\n\n    .dataframe thead th {\n        text-align: right;\n    }\n</style>\n<table border=\"1\" class=\"dataframe\">\n  <thead>\n    <tr style=\"text-align: right;\">\n      <th></th>\n      <th>成绩</th>\n      <th>等级</th>\n    </tr>\n  </thead>\n  <tbody>\n    <tr>\n      <th>0</th>\n      <td>30</td>\n      <td>(-0.001, 60.0]</td>\n    </tr>\n    <tr>\n      <th>1</th>\n      <td>60</td>\n      <td>(-0.001, 60.0]</td>\n    </tr>\n    <tr>\n      <th>2</th>\n      <td>70</td>\n      <td>(60.0, 80.0]</td>\n    </tr>\n    <tr>\n      <th>3</th>\n      <td>100</td>\n      <td>(80.0, 100.0]</td>\n    </tr>\n    <tr>\n      <th>4</th>\n      <td>0</td>\n      <td>(-0.001, 60.0]</td>\n    </tr>\n    <tr>\n      <th>5</th>\n      <td>96</td>\n      <td>(80.0, 100.0]</td>\n    </tr>\n  </tbody>\n</table>\n</div>"
     },
     "execution_count": 36,
     "metadata": {},
     "output_type": "execute_result"
    }
   ],
   "source": [
    "df['等级'] = pd.cut(\n",
    "    df['成绩'],\n",
    "    bins=[0, 60, 80, 100],\n",
    "    include_lowest=True\n",
    ")\n",
    "df"
   ],
   "metadata": {
    "collapsed": false,
    "pycharm": {
     "name": "#%%\n"
    }
   }
  },
  {
   "cell_type": "code",
   "execution_count": 37,
   "outputs": [
    {
     "data": {
      "text/plain": "    成绩             等级\n0   30    [0.0, 60.0)\n1   60   [60.0, 80.0)\n2   70   [60.0, 80.0)\n3  100            NaN\n4    0    [0.0, 60.0)\n5   96  [80.0, 100.0)",
      "text/html": "<div>\n<style scoped>\n    .dataframe tbody tr th:only-of-type {\n        vertical-align: middle;\n    }\n\n    .dataframe tbody tr th {\n        vertical-align: top;\n    }\n\n    .dataframe thead th {\n        text-align: right;\n    }\n</style>\n<table border=\"1\" class=\"dataframe\">\n  <thead>\n    <tr style=\"text-align: right;\">\n      <th></th>\n      <th>成绩</th>\n      <th>等级</th>\n    </tr>\n  </thead>\n  <tbody>\n    <tr>\n      <th>0</th>\n      <td>30</td>\n      <td>[0.0, 60.0)</td>\n    </tr>\n    <tr>\n      <th>1</th>\n      <td>60</td>\n      <td>[60.0, 80.0)</td>\n    </tr>\n    <tr>\n      <th>2</th>\n      <td>70</td>\n      <td>[60.0, 80.0)</td>\n    </tr>\n    <tr>\n      <th>3</th>\n      <td>100</td>\n      <td>NaN</td>\n    </tr>\n    <tr>\n      <th>4</th>\n      <td>0</td>\n      <td>[0.0, 60.0)</td>\n    </tr>\n    <tr>\n      <th>5</th>\n      <td>96</td>\n      <td>[80.0, 100.0)</td>\n    </tr>\n  </tbody>\n</table>\n</div>"
     },
     "execution_count": 37,
     "metadata": {},
     "output_type": "execute_result"
    }
   ],
   "source": [
    "df['等级'] = pd.cut(\n",
    "    df['成绩'],\n",
    "    bins=[0, 60, 80, 100],\n",
    "    right=False\n",
    ")\n",
    "df"
   ],
   "metadata": {
    "collapsed": false,
    "pycharm": {
     "name": "#%%\n"
    }
   }
  },
  {
   "cell_type": "code",
   "execution_count": 38,
   "outputs": [
    {
     "data": {
      "text/plain": "    成绩   等级\n0   30  不及格\n1   60   及格\n2   70   及格\n3  100   优秀\n4    0  不及格\n5   96   优秀",
      "text/html": "<div>\n<style scoped>\n    .dataframe tbody tr th:only-of-type {\n        vertical-align: middle;\n    }\n\n    .dataframe tbody tr th {\n        vertical-align: top;\n    }\n\n    .dataframe thead th {\n        text-align: right;\n    }\n</style>\n<table border=\"1\" class=\"dataframe\">\n  <thead>\n    <tr style=\"text-align: right;\">\n      <th></th>\n      <th>成绩</th>\n      <th>等级</th>\n    </tr>\n  </thead>\n  <tbody>\n    <tr>\n      <th>0</th>\n      <td>30</td>\n      <td>不及格</td>\n    </tr>\n    <tr>\n      <th>1</th>\n      <td>60</td>\n      <td>及格</td>\n    </tr>\n    <tr>\n      <th>2</th>\n      <td>70</td>\n      <td>及格</td>\n    </tr>\n    <tr>\n      <th>3</th>\n      <td>100</td>\n      <td>优秀</td>\n    </tr>\n    <tr>\n      <th>4</th>\n      <td>0</td>\n      <td>不及格</td>\n    </tr>\n    <tr>\n      <th>5</th>\n      <td>96</td>\n      <td>优秀</td>\n    </tr>\n  </tbody>\n</table>\n</div>"
     },
     "execution_count": 38,
     "metadata": {},
     "output_type": "execute_result"
    }
   ],
   "source": [
    "df['等级'] = pd.cut(\n",
    "    df['成绩'],\n",
    "    bins=[0, 59.9, 80, 100],\n",
    "    include_lowest=True,\n",
    "    labels=['不及格', '及格', '优秀']\n",
    ")\n",
    "df"
   ],
   "metadata": {
    "collapsed": false,
    "pycharm": {
     "name": "#%%\n"
    }
   }
  },
  {
   "cell_type": "code",
   "execution_count": 41,
   "outputs": [
    {
     "data": {
      "text/plain": "    成绩  等级\n0   30   差\n1   60  中等\n2   70  优秀\n3  100  优秀\n4    0   差\n5   96  优秀",
      "text/html": "<div>\n<style scoped>\n    .dataframe tbody tr th:only-of-type {\n        vertical-align: middle;\n    }\n\n    .dataframe tbody tr th {\n        vertical-align: top;\n    }\n\n    .dataframe thead th {\n        text-align: right;\n    }\n</style>\n<table border=\"1\" class=\"dataframe\">\n  <thead>\n    <tr style=\"text-align: right;\">\n      <th></th>\n      <th>成绩</th>\n      <th>等级</th>\n    </tr>\n  </thead>\n  <tbody>\n    <tr>\n      <th>0</th>\n      <td>30</td>\n      <td>差</td>\n    </tr>\n    <tr>\n      <th>1</th>\n      <td>60</td>\n      <td>中等</td>\n    </tr>\n    <tr>\n      <th>2</th>\n      <td>70</td>\n      <td>优秀</td>\n    </tr>\n    <tr>\n      <th>3</th>\n      <td>100</td>\n      <td>优秀</td>\n    </tr>\n    <tr>\n      <th>4</th>\n      <td>0</td>\n      <td>差</td>\n    </tr>\n    <tr>\n      <th>5</th>\n      <td>96</td>\n      <td>优秀</td>\n    </tr>\n  </tbody>\n</table>\n</div>"
     },
     "execution_count": 41,
     "metadata": {},
     "output_type": "execute_result"
    }
   ],
   "source": [
    "df['等级'] = pd.cut(\n",
    "    df['成绩'],\n",
    "    bins=3,\n",
    "    labels=['差', '中等', '优秀']\n",
    ")\n",
    "df"
   ],
   "metadata": {
    "collapsed": false,
    "pycharm": {
     "name": "#%%\n"
    }
   }
  },
  {
   "cell_type": "code",
   "execution_count": null,
   "outputs": [],
   "source": [
    "\n"
   ],
   "metadata": {
    "collapsed": false,
    "pycharm": {
     "name": "#%%\n"
    }
   }
  }
 ],
 "metadata": {
  "kernelspec": {
   "display_name": "Python 3",
   "language": "python",
   "name": "python3"
  },
  "language_info": {
   "codemirror_mode": {
    "name": "ipython",
    "version": 2
   },
   "file_extension": ".py",
   "mimetype": "text/x-python",
   "name": "python",
   "nbconvert_exporter": "python",
   "pygments_lexer": "ipython2",
   "version": "2.7.6"
  }
 },
 "nbformat": 4,
 "nbformat_minor": 0
}