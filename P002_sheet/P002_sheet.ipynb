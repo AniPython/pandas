{
 "cells": [
  {
   "cell_type": "markdown",
   "metadata": {
    "collapsed": true,
    "pycharm": {
     "name": "#%% md\n"
    }
   },
   "source": [
    "#### openpyxl 对 sheet 的操作"
   ]
  },
  {
   "cell_type": "code",
   "source": [
    "from openpyxl import Workbook\n",
    "from openpyxl import load_workbook"
   ],
   "metadata": {
    "collapsed": false,
    "pycharm": {
     "name": "#%%\n"
    },
    "ExecuteTime": {
     "end_time": "2024-06-27T10:01:07.468138Z",
     "start_time": "2024-06-27T10:01:07.312693Z"
    }
   },
   "outputs": [],
   "execution_count": 1
  },
  {
   "cell_type": "code",
   "source": [
    "wb = Workbook()\n",
    "wx = wb.active\n",
    "wx.title = 'First'"
   ],
   "metadata": {
    "collapsed": false,
    "pycharm": {
     "name": "#%%\n"
    },
    "ExecuteTime": {
     "end_time": "2024-06-27T10:01:07.479501Z",
     "start_time": "2024-06-27T10:01:07.473654Z"
    }
   },
   "outputs": [],
   "execution_count": 2
  },
  {
   "cell_type": "code",
   "source": [
    "wb.create_sheet()\n",
    "wb.create_sheet(title='AAA')\n",
    "\n",
    "wb.create_sheet(\n",
    "    title='BBB',\n",
    "    index=0\n",
    ")\n",
    "\n",
    "wb.create_sheet(\n",
    "    title='CCC',\n",
    "    index=2\n",
    ")\n",
    "\n",
    "wb.create_sheet(\n",
    "    title='DDD',\n",
    "    index=-1\n",
    ")"
   ],
   "metadata": {
    "collapsed": false,
    "pycharm": {
     "name": "#%%\n"
    },
    "ExecuteTime": {
     "end_time": "2024-06-27T10:01:07.494043Z",
     "start_time": "2024-06-27T10:01:07.485503Z"
    }
   },
   "outputs": [
    {
     "data": {
      "text/plain": [
       "<Worksheet \"DDD\">"
      ]
     },
     "execution_count": 3,
     "metadata": {},
     "output_type": "execute_result"
    }
   ],
   "execution_count": 3
  },
  {
   "cell_type": "code",
   "source": [
    "wb.save('1.xlsx')"
   ],
   "metadata": {
    "collapsed": false,
    "pycharm": {
     "name": "#%%\n"
    },
    "ExecuteTime": {
     "end_time": "2024-06-27T10:01:07.519984Z",
     "start_time": "2024-06-27T10:01:07.499186Z"
    }
   },
   "outputs": [],
   "execution_count": 4
  },
  {
   "cell_type": "code",
   "source": [
    "wb = load_workbook('1.xlsx')\n",
    "wx = wb.active\n",
    "wx.title"
   ],
   "metadata": {
    "collapsed": false,
    "pycharm": {
     "name": "#%%\n"
    },
    "ExecuteTime": {
     "end_time": "2024-06-27T10:01:07.537660Z",
     "start_time": "2024-06-27T10:01:07.524002Z"
    }
   },
   "outputs": [
    {
     "data": {
      "text/plain": [
       "'BBB'"
      ]
     },
     "execution_count": 5,
     "metadata": {},
     "output_type": "execute_result"
    }
   ],
   "execution_count": 5
  },
  {
   "cell_type": "code",
   "source": [
    "wb.sheetnames"
   ],
   "metadata": {
    "collapsed": false,
    "pycharm": {
     "name": "#%%\n"
    },
    "ExecuteTime": {
     "end_time": "2024-06-27T10:01:07.547150Z",
     "start_time": "2024-06-27T10:01:07.543858Z"
    }
   },
   "outputs": [
    {
     "data": {
      "text/plain": [
       "['BBB', 'First', 'CCC', 'Sheet', 'DDD', 'AAA']"
      ]
     },
     "execution_count": 6,
     "metadata": {},
     "output_type": "execute_result"
    }
   ],
   "execution_count": 6
  },
  {
   "cell_type": "code",
   "source": [
    "wb['Sheet'].title"
   ],
   "metadata": {
    "collapsed": false,
    "pycharm": {
     "name": "#%%\n"
    }
   },
   "outputs": [
    {
     "data": {
      "text/plain": [
       "'Sheet'"
      ]
     },
     "execution_count": 7,
     "metadata": {},
     "output_type": "execute_result"
    }
   ],
   "execution_count": 7
  },
  {
   "cell_type": "code",
   "source": [
    "for i in wb:\n",
    "    print(i)"
   ],
   "metadata": {
    "collapsed": false,
    "pycharm": {
     "name": "#%%\n"
    }
   },
   "outputs": [
    {
     "name": "stdout",
     "output_type": "stream",
     "text": [
      "<Worksheet \"BBB\">\n",
      "<Worksheet \"First\">\n",
      "<Worksheet \"CCC\">\n",
      "<Worksheet \"Sheet\">\n",
      "<Worksheet \"DDD\">\n",
      "<Worksheet \"AAA\">\n"
     ]
    }
   ],
   "execution_count": 8
  },
  {
   "cell_type": "code",
   "source": [
    "wb.remove(wb['Sheet'])"
   ],
   "metadata": {
    "collapsed": false,
    "pycharm": {
     "name": "#%%\n"
    }
   },
   "outputs": [],
   "execution_count": 9
  },
  {
   "cell_type": "code",
   "source": [
    "wb.save('2.xlsx')"
   ],
   "metadata": {
    "collapsed": false,
    "pycharm": {
     "name": "#%%\n"
    },
    "ExecuteTime": {
     "end_time": "2024-06-27T10:01:07.594466Z",
     "start_time": "2024-06-27T10:01:07.579920Z"
    }
   },
   "outputs": [],
   "execution_count": 10
  },
  {
   "cell_type": "code",
   "source": [
    "\n"
   ],
   "metadata": {
    "collapsed": false,
    "pycharm": {
     "name": "#%%\n"
    },
    "ExecuteTime": {
     "end_time": "2024-06-27T10:01:07.604186Z",
     "start_time": "2024-06-27T10:01:07.601467Z"
    }
   },
   "outputs": [],
   "execution_count": 10
  }
 ],
 "metadata": {
  "kernelspec": {
   "display_name": "Python 3",
   "language": "python",
   "name": "python3"
  },
  "language_info": {
   "codemirror_mode": {
    "name": "ipython",
    "version": 2
   },
   "file_extension": ".py",
   "mimetype": "text/x-python",
   "name": "python",
   "nbconvert_exporter": "python",
   "pygments_lexer": "ipython2",
   "version": "2.7.6"
  }
 },
 "nbformat": 4,
 "nbformat_minor": 0
}
