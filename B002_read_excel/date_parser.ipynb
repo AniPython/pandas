{
 "cells": [
  {
   "cell_type": "code",
   "metadata": {
    "collapsed": true,
    "pycharm": {
     "is_executing": false
    },
    "ExecuteTime": {
     "end_time": "2024-06-25T10:07:30.947583Z",
     "start_time": "2024-06-25T10:07:30.566825Z"
    }
   },
   "source": [
    "import pandas as pd"
   ],
   "execution_count": 1,
   "outputs": []
  },
  {
   "cell_type": "code",
   "source": [
    "df = pd.read_excel(\n",
    "    'parse_dates.xlsx',\n",
    "    index_col=2\n",
    ")\n",
    "df"
   ],
   "metadata": {
    "collapsed": false,
    "pycharm": {
     "name": "#%%\n",
     "is_executing": false
    },
    "ExecuteTime": {
     "end_time": "2024-06-25T10:07:31.136424Z",
     "start_time": "2024-06-25T10:07:30.949580Z"
    }
   },
   "execution_count": 2,
   "outputs": []
  },
  {
   "cell_type": "code",
   "source": [
    "df.index"
   ],
   "metadata": {
    "collapsed": false,
    "pycharm": {
     "name": "#%%\n",
     "is_executing": false
    },
    "ExecuteTime": {
     "end_time": "2024-06-25T10:07:31.141113Z",
     "start_time": "2024-06-25T10:07:31.137424Z"
    }
   },
   "execution_count": 3,
   "outputs": []
  },
  {
   "cell_type": "code",
   "source": [
    "df = pd.read_excel(\n",
    "    'parse_dates.xlsx',\n",
    "    index_col=2,\n",
    "    parse_dates=True\n",
    ")\n",
    "df.index"
   ],
   "metadata": {
    "collapsed": false,
    "pycharm": {
     "name": "#%%\n",
     "is_executing": false
    },
    "ExecuteTime": {
     "end_time": "2024-06-25T10:07:31.164108Z",
     "start_time": "2024-06-25T10:07:31.143135Z"
    }
   },
   "execution_count": 4,
   "outputs": []
  },
  {
   "cell_type": "code",
   "source": [
    "df = pd.read_excel(\n",
    "    'parse_dates.xlsx'\n",
    ")\n",
    "df.dtypes"
   ],
   "metadata": {
    "collapsed": false,
    "pycharm": {
     "name": "#%%\n",
     "is_executing": false
    },
    "ExecuteTime": {
     "end_time": "2024-06-25T10:07:31.181970Z",
     "start_time": "2024-06-25T10:07:31.167105Z"
    }
   },
   "execution_count": 5,
   "outputs": []
  },
  {
   "cell_type": "code",
   "source": [
    "df = pd.read_excel(\n",
    "    'parse_dates.xlsx',\n",
    "    parse_dates=[0, 1, 2, 3, 4, 5, 6]\n",
    ")\n",
    "df.dtypes"
   ],
   "metadata": {
    "collapsed": false,
    "pycharm": {
     "name": "#%%\n",
     "is_executing": false
    },
    "ExecuteTime": {
     "end_time": "2024-06-25T10:07:31.202137Z",
     "start_time": "2024-06-25T10:07:31.183473Z"
    }
   },
   "execution_count": 6,
   "outputs": []
  },
  {
   "cell_type": "code",
   "source": [
    "df = pd.read_excel(\n",
    "    'parse_dates.xlsx',\n",
    "    sheet_name=1,\n",
    ")\n",
    "df"
   ],
   "metadata": {
    "collapsed": false,
    "pycharm": {
     "name": "#%%\n",
     "is_executing": false
    },
    "ExecuteTime": {
     "end_time": "2024-06-25T10:07:31.221762Z",
     "start_time": "2024-06-25T10:07:31.203146Z"
    }
   },
   "execution_count": 7,
   "outputs": []
  },
  {
   "cell_type": "code",
   "source": [
    "df = pd.read_excel(\n",
    "    'parse_dates.xlsx',\n",
    "    sheet_name=1,\n",
    "    # parse_dates=[[0, 1, 2]],\n",
    "    parse_dates=[['年', '月', '日']],\n",
    ")\n",
    "df"
   ],
   "metadata": {
    "collapsed": false,
    "pycharm": {
     "name": "#%%\n",
     "is_executing": false
    },
    "ExecuteTime": {
     "end_time": "2024-06-25T10:07:31.243164Z",
     "start_time": "2024-06-25T10:07:31.223426Z"
    }
   },
   "execution_count": 8,
   "outputs": []
  },
  {
   "cell_type": "code",
   "source": [
    "df.dtypes\n"
   ],
   "metadata": {
    "collapsed": false,
    "pycharm": {
     "name": "#%%\n",
     "is_executing": false
    },
    "ExecuteTime": {
     "end_time": "2024-06-25T10:07:31.250511Z",
     "start_time": "2024-06-25T10:07:31.245181Z"
    }
   },
   "execution_count": 9,
   "outputs": []
  },
  {
   "cell_type": "code",
   "source": [
    "df = pd.read_excel(\n",
    "    'parse_dates.xlsx',\n",
    "    sheet_name=1,\n",
    "    parse_dates={'日期': ['年', '月', '日']},\n",
    ")\n",
    "df"
   ],
   "metadata": {
    "collapsed": false,
    "pycharm": {
     "name": "#%%\n",
     "is_executing": false
    },
    "ExecuteTime": {
     "end_time": "2024-06-25T10:07:31.274766Z",
     "start_time": "2024-06-25T10:07:31.253512Z"
    }
   },
   "execution_count": 10,
   "outputs": []
  },
  {
   "cell_type": "code",
   "source": [
    "df.dtypes"
   ],
   "metadata": {
    "collapsed": false,
    "pycharm": {
     "name": "#%%\n",
     "is_executing": false
    },
    "ExecuteTime": {
     "end_time": "2024-06-25T10:07:31.280445Z",
     "start_time": "2024-06-25T10:07:31.275770Z"
    }
   },
   "execution_count": 11,
   "outputs": []
  },
  {
   "cell_type": "code",
   "source": [
    "\n"
   ],
   "metadata": {
    "collapsed": false,
    "pycharm": {
     "name": "#%%\n"
    },
    "ExecuteTime": {
     "end_time": "2024-06-25T10:07:31.284455Z",
     "start_time": "2024-06-25T10:07:31.282448Z"
    }
   },
   "execution_count": 11,
   "outputs": []
  }
 ],
 "metadata": {
  "kernelspec": {
   "display_name": "Python 3",
   "language": "python",
   "name": "python3"
  },
  "language_info": {
   "codemirror_mode": {
    "name": "ipython",
    "version": 2
   },
   "file_extension": ".py",
   "mimetype": "text/x-python",
   "name": "python",
   "nbconvert_exporter": "python",
   "pygments_lexer": "ipython2",
   "version": "2.7.6"
  },
  "pycharm": {
   "stem_cell": {
    "cell_type": "raw",
    "source": [],
    "metadata": {
     "collapsed": false
    }
   }
  }
 },
 "nbformat": 4,
 "nbformat_minor": 0
}
