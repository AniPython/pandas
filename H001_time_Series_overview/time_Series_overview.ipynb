{
 "cells": [
  {
   "cell_type": "code",
   "source": [
    "import pandas as pd"
   ],
   "metadata": {
    "collapsed": false,
    "pycharm": {
     "name": "#%%  pandas 时间 四个概念\n"
    },
    "ExecuteTime": {
     "end_time": "2024-06-25T10:36:43.917238Z",
     "start_time": "2024-06-25T10:36:43.587465Z"
    }
   },
   "outputs": [],
   "execution_count": 1
  },
  {
   "cell_type": "code",
   "source": [
    "s1 = pd.Series([\n",
    "    '2020-01-01',\n",
    "    '2020-01-02',\n",
    "], dtype='datetime64[ns]',\n",
    "   name='Timestamp')\n",
    "s1"
   ],
   "metadata": {
    "collapsed": false,
    "pycharm": {
     "name": "#%% Timestamp 时间戳\n"
    },
    "ExecuteTime": {
     "end_time": "2024-06-25T10:36:43.931261Z",
     "start_time": "2024-06-25T10:36:43.925216Z"
    }
   },
   "outputs": [
    {
     "data": {
      "text/plain": [
       "0   2020-01-01\n",
       "1   2020-01-02\n",
       "Name: Timestamp, dtype: datetime64[ns]"
      ]
     },
     "execution_count": 2,
     "metadata": {},
     "output_type": "execute_result"
    }
   ],
   "execution_count": 2
  },
  {
   "cell_type": "code",
   "source": [
    "s1[0]"
   ],
   "metadata": {
    "collapsed": false,
    "pycharm": {
     "name": "#%%\n"
    }
   },
   "outputs": [
    {
     "data": {
      "text/plain": [
       "Timestamp('2020-01-01 00:00:00')"
      ]
     },
     "execution_count": 3,
     "metadata": {},
     "output_type": "execute_result"
    }
   ],
   "execution_count": 3
  },
  {
   "cell_type": "code",
   "source": [
    "s2 = pd.Series([\n",
    "    '2020-01-01',\n",
    "    '2020-01-02',\n",
    "], dtype='period[D]',\n",
    "   name='Period')\n",
    "s2"
   ],
   "metadata": {
    "collapsed": false,
    "pycharm": {
     "name": "#%% Period 时间段\n"
    }
   },
   "outputs": [
    {
     "data": {
      "text/plain": [
       "0    2020-01-01\n",
       "1    2020-01-02\n",
       "Name: Period, dtype: period[D]"
      ]
     },
     "execution_count": 4,
     "metadata": {},
     "output_type": "execute_result"
    }
   ],
   "execution_count": 4
  },
  {
   "cell_type": "code",
   "source": [
    "s2[0]"
   ],
   "metadata": {
    "collapsed": false,
    "pycharm": {
     "name": "#%%\n"
    }
   },
   "outputs": [
    {
     "data": {
      "text/plain": [
       "Period('2020-01-01', 'D')"
      ]
     },
     "execution_count": 5,
     "metadata": {},
     "output_type": "execute_result"
    }
   ],
   "execution_count": 5
  },
  {
   "cell_type": "code",
   "source": [
    "s3 = pd.Series([\n",
    "    pd.Timedelta(days=-1),\n",
    "    pd.Timedelta(days=2),\n",
    "], name='Timedelta')\n",
    "s3"
   ],
   "metadata": {
    "collapsed": false,
    "pycharm": {
     "name": "#%% 绝对的持续时间\n"
    }
   },
   "outputs": [
    {
     "data": {
      "text/plain": [
       "0   -1 days\n",
       "1    2 days\n",
       "Name: Timedelta, dtype: timedelta64[ns]"
      ]
     },
     "execution_count": 6,
     "metadata": {},
     "output_type": "execute_result"
    }
   ],
   "execution_count": 6
  },
  {
   "cell_type": "code",
   "source": [
    "s3[1]"
   ],
   "metadata": {
    "collapsed": false,
    "pycharm": {
     "name": "#%%\n"
    }
   },
   "outputs": [
    {
     "data": {
      "text/plain": [
       "Timedelta('2 days 00:00:00')"
      ]
     },
     "execution_count": 7,
     "metadata": {},
     "output_type": "execute_result"
    }
   ],
   "execution_count": 7
  },
  {
   "cell_type": "code",
   "source": [
    "s4 = pd.Series([\n",
    "    pd.DateOffset(days=-1),\n",
    "    pd.DateOffset(days=2),\n",
    "], name='DateOffset')\n",
    "s4"
   ],
   "metadata": {
    "collapsed": false,
    "pycharm": {
     "name": "#%% 相对的持续时间\n"
    }
   },
   "outputs": [
    {
     "data": {
      "text/plain": [
       "0    <DateOffset: days=-1>\n",
       "1     <DateOffset: days=2>\n",
       "Name: DateOffset, dtype: object"
      ]
     },
     "execution_count": 8,
     "metadata": {},
     "output_type": "execute_result"
    }
   ],
   "execution_count": 8
  },
  {
   "cell_type": "code",
   "source": [
    "s5 = pd.Series([\n",
    "    pd.offsets.BDay(),\n",
    "    pd.offsets.BDay() * 2,\n",
    "], name='offsets_BDay')\n",
    "s5"
   ],
   "metadata": {
    "collapsed": false,
    "pycharm": {
     "name": "#%%\n"
    }
   },
   "outputs": [
    {
     "data": {
      "text/plain": [
       "0         <BusinessDay>\n",
       "1    <2 * BusinessDays>\n",
       "Name: offsets_BDay, dtype: object"
      ]
     },
     "execution_count": 9,
     "metadata": {},
     "output_type": "execute_result"
    }
   ],
   "execution_count": 9
  },
  {
   "cell_type": "code",
   "source": [
    "s1 + s3"
   ],
   "metadata": {
    "collapsed": false,
    "pycharm": {
     "name": "#%%\n"
    }
   },
   "outputs": [
    {
     "data": {
      "text/plain": [
       "0   2019-12-31\n",
       "1   2020-01-04\n",
       "dtype: datetime64[ns]"
      ]
     },
     "execution_count": 10,
     "metadata": {},
     "output_type": "execute_result"
    }
   ],
   "execution_count": 10
  },
  {
   "cell_type": "code",
   "source": "s1 + s4  # 警告",
   "metadata": {
    "collapsed": false,
    "pycharm": {
     "name": "#%%\n"
    }
   },
   "outputs": [
    {
     "name": "stderr",
     "output_type": "stream",
     "text": [
      "C:\\Users\\Administrator\\AppData\\Local\\Temp\\ipykernel_18124\\2241861730.py:1: PerformanceWarning: Adding/subtracting object-dtype array to DatetimeArray not vectorized.\n",
      "  s1 + s4\n"
     ]
    },
    {
     "data": {
      "text/plain": [
       "0    2019-12-31 00:00:00\n",
       "1    2020-01-04 00:00:00\n",
       "dtype: object"
      ]
     },
     "execution_count": 11,
     "metadata": {},
     "output_type": "execute_result"
    }
   ],
   "execution_count": 11
  },
  {
   "cell_type": "code",
   "source": "s1 + s5  # 警告",
   "metadata": {
    "collapsed": false,
    "pycharm": {
     "name": "#%%\n"
    }
   },
   "outputs": [
    {
     "name": "stderr",
     "output_type": "stream",
     "text": [
      "C:\\Users\\Administrator\\AppData\\Local\\Temp\\ipykernel_18124\\1981008924.py:1: PerformanceWarning: Adding/subtracting object-dtype array to DatetimeArray not vectorized.\n",
      "  s1 + s5\n"
     ]
    },
    {
     "data": {
      "text/plain": [
       "0    2020-01-02 00:00:00\n",
       "1    2020-01-06 00:00:00\n",
       "dtype: object"
      ]
     },
     "execution_count": 12,
     "metadata": {},
     "output_type": "execute_result"
    }
   ],
   "execution_count": 12
  },
  {
   "cell_type": "code",
   "source": [
    "df = pd.concat(\n",
    "    [s1, s2, s3, s4, s5],\n",
    "    axis=1\n",
    ")\n",
    "df"
   ],
   "metadata": {
    "collapsed": false,
    "pycharm": {
     "name": "#%%\n"
    }
   },
   "outputs": [
    {
     "data": {
      "text/plain": [
       "   Timestamp      Period Timedelta             DateOffset        offsets_BDay\n",
       "0 2020-01-01  2020-01-01   -1 days  <DateOffset: days=-1>       <BusinessDay>\n",
       "1 2020-01-02  2020-01-02    2 days   <DateOffset: days=2>  <2 * BusinessDays>"
      ],
      "text/html": [
       "<div>\n",
       "<style scoped>\n",
       "    .dataframe tbody tr th:only-of-type {\n",
       "        vertical-align: middle;\n",
       "    }\n",
       "\n",
       "    .dataframe tbody tr th {\n",
       "        vertical-align: top;\n",
       "    }\n",
       "\n",
       "    .dataframe thead th {\n",
       "        text-align: right;\n",
       "    }\n",
       "</style>\n",
       "<table border=\"1\" class=\"dataframe\">\n",
       "  <thead>\n",
       "    <tr style=\"text-align: right;\">\n",
       "      <th></th>\n",
       "      <th>Timestamp</th>\n",
       "      <th>Period</th>\n",
       "      <th>Timedelta</th>\n",
       "      <th>DateOffset</th>\n",
       "      <th>offsets_BDay</th>\n",
       "    </tr>\n",
       "  </thead>\n",
       "  <tbody>\n",
       "    <tr>\n",
       "      <th>0</th>\n",
       "      <td>2020-01-01</td>\n",
       "      <td>2020-01-01</td>\n",
       "      <td>-1 days</td>\n",
       "      <td>&lt;DateOffset: days=-1&gt;</td>\n",
       "      <td>&lt;BusinessDay&gt;</td>\n",
       "    </tr>\n",
       "    <tr>\n",
       "      <th>1</th>\n",
       "      <td>2020-01-02</td>\n",
       "      <td>2020-01-02</td>\n",
       "      <td>2 days</td>\n",
       "      <td>&lt;DateOffset: days=2&gt;</td>\n",
       "      <td>&lt;2 * BusinessDays&gt;</td>\n",
       "    </tr>\n",
       "  </tbody>\n",
       "</table>\n",
       "</div>"
      ]
     },
     "execution_count": 13,
     "metadata": {},
     "output_type": "execute_result"
    }
   ],
   "execution_count": 13
  },
  {
   "cell_type": "code",
   "source": [
    "df.to_excel('tb.xlsx', index=False)"
   ],
   "metadata": {
    "collapsed": false,
    "pycharm": {
     "name": "#%%\n"
    },
    "ExecuteTime": {
     "end_time": "2024-06-25T10:36:44.308245Z",
     "start_time": "2024-06-25T10:36:44.097918Z"
    }
   },
   "outputs": [],
   "execution_count": 14
  },
  {
   "cell_type": "code",
   "source": [
    "df1 = pd.read_excel(\n",
    "    'tb.xlsx',\n",
    "    dtype={\n",
    "        'Timestamp': 'datetime64[ns]',\n",
    "        'Period': 'Period[D]',\n",
    "        'Timedelta': 'timedelta64[D]'\n",
    "    }\n",
    ")\n",
    "df1"
   ],
   "metadata": {
    "collapsed": false,
    "pycharm": {
     "name": "#%%\n"
    },
    "ExecuteTime": {
     "end_time": "2024-06-25T10:36:44.332303Z",
     "start_time": "2024-06-25T10:36:44.316406Z"
    }
   },
   "outputs": [
    {
     "data": {
      "text/plain": [
       "   Timestamp      Period Timedelta             DateOffset        offsets_BDay\n",
       "0 2020-01-01  2020-01-01   -1 days  <DateOffset: days=-1>       <BusinessDay>\n",
       "1 2020-01-02  2020-01-02    2 days   <DateOffset: days=2>  <2 * BusinessDays>"
      ],
      "text/html": [
       "<div>\n",
       "<style scoped>\n",
       "    .dataframe tbody tr th:only-of-type {\n",
       "        vertical-align: middle;\n",
       "    }\n",
       "\n",
       "    .dataframe tbody tr th {\n",
       "        vertical-align: top;\n",
       "    }\n",
       "\n",
       "    .dataframe thead th {\n",
       "        text-align: right;\n",
       "    }\n",
       "</style>\n",
       "<table border=\"1\" class=\"dataframe\">\n",
       "  <thead>\n",
       "    <tr style=\"text-align: right;\">\n",
       "      <th></th>\n",
       "      <th>Timestamp</th>\n",
       "      <th>Period</th>\n",
       "      <th>Timedelta</th>\n",
       "      <th>DateOffset</th>\n",
       "      <th>offsets_BDay</th>\n",
       "    </tr>\n",
       "  </thead>\n",
       "  <tbody>\n",
       "    <tr>\n",
       "      <th>0</th>\n",
       "      <td>2020-01-01</td>\n",
       "      <td>2020-01-01</td>\n",
       "      <td>-1 days</td>\n",
       "      <td>&lt;DateOffset: days=-1&gt;</td>\n",
       "      <td>&lt;BusinessDay&gt;</td>\n",
       "    </tr>\n",
       "    <tr>\n",
       "      <th>1</th>\n",
       "      <td>2020-01-02</td>\n",
       "      <td>2020-01-02</td>\n",
       "      <td>2 days</td>\n",
       "      <td>&lt;DateOffset: days=2&gt;</td>\n",
       "      <td>&lt;2 * BusinessDays&gt;</td>\n",
       "    </tr>\n",
       "  </tbody>\n",
       "</table>\n",
       "</div>"
      ]
     },
     "execution_count": 15,
     "metadata": {},
     "output_type": "execute_result"
    }
   ],
   "execution_count": 15
  },
  {
   "cell_type": "code",
   "source": [
    "df1.dtypes"
   ],
   "metadata": {
    "collapsed": false,
    "pycharm": {
     "name": "#%%\n"
    },
    "ExecuteTime": {
     "end_time": "2024-06-25T10:36:44.355114Z",
     "start_time": "2024-06-25T10:36:44.346966Z"
    }
   },
   "outputs": [
    {
     "data": {
      "text/plain": [
       "Timestamp       datetime64[ns]\n",
       "Period               period[D]\n",
       "Timedelta       timedelta64[s]\n",
       "DateOffset              object\n",
       "offsets_BDay            object\n",
       "dtype: object"
      ]
     },
     "execution_count": 16,
     "metadata": {},
     "output_type": "execute_result"
    }
   ],
   "execution_count": 16
  },
  {
   "cell_type": "code",
   "source": [
    "df1 = df1.convert_dtypes()\n",
    "df1"
   ],
   "metadata": {
    "collapsed": false,
    "pycharm": {
     "name": "#%%\n"
    }
   },
   "outputs": [
    {
     "data": {
      "text/plain": [
       "   Timestamp      Period Timedelta             DateOffset        offsets_BDay\n",
       "0 2020-01-01  2020-01-01   -1 days  <DateOffset: days=-1>       <BusinessDay>\n",
       "1 2020-01-02  2020-01-02    2 days   <DateOffset: days=2>  <2 * BusinessDays>"
      ],
      "text/html": [
       "<div>\n",
       "<style scoped>\n",
       "    .dataframe tbody tr th:only-of-type {\n",
       "        vertical-align: middle;\n",
       "    }\n",
       "\n",
       "    .dataframe tbody tr th {\n",
       "        vertical-align: top;\n",
       "    }\n",
       "\n",
       "    .dataframe thead th {\n",
       "        text-align: right;\n",
       "    }\n",
       "</style>\n",
       "<table border=\"1\" class=\"dataframe\">\n",
       "  <thead>\n",
       "    <tr style=\"text-align: right;\">\n",
       "      <th></th>\n",
       "      <th>Timestamp</th>\n",
       "      <th>Period</th>\n",
       "      <th>Timedelta</th>\n",
       "      <th>DateOffset</th>\n",
       "      <th>offsets_BDay</th>\n",
       "    </tr>\n",
       "  </thead>\n",
       "  <tbody>\n",
       "    <tr>\n",
       "      <th>0</th>\n",
       "      <td>2020-01-01</td>\n",
       "      <td>2020-01-01</td>\n",
       "      <td>-1 days</td>\n",
       "      <td>&lt;DateOffset: days=-1&gt;</td>\n",
       "      <td>&lt;BusinessDay&gt;</td>\n",
       "    </tr>\n",
       "    <tr>\n",
       "      <th>1</th>\n",
       "      <td>2020-01-02</td>\n",
       "      <td>2020-01-02</td>\n",
       "      <td>2 days</td>\n",
       "      <td>&lt;DateOffset: days=2&gt;</td>\n",
       "      <td>&lt;2 * BusinessDays&gt;</td>\n",
       "    </tr>\n",
       "  </tbody>\n",
       "</table>\n",
       "</div>"
      ]
     },
     "execution_count": 17,
     "metadata": {},
     "output_type": "execute_result"
    }
   ],
   "execution_count": 17
  },
  {
   "cell_type": "code",
   "source": [
    "df1.dtypes"
   ],
   "metadata": {
    "collapsed": false,
    "pycharm": {
     "name": "#%%\n"
    }
   },
   "outputs": [
    {
     "data": {
      "text/plain": [
       "Timestamp       datetime64[ns]\n",
       "Period               period[D]\n",
       "Timedelta       timedelta64[s]\n",
       "DateOffset      string[python]\n",
       "offsets_BDay    string[python]\n",
       "dtype: object"
      ]
     },
     "execution_count": 18,
     "metadata": {},
     "output_type": "execute_result"
    }
   ],
   "execution_count": 18
  },
  {
   "cell_type": "code",
   "source": [
    "\n"
   ],
   "metadata": {
    "collapsed": false,
    "pycharm": {
     "name": "#%%\n"
    }
   },
   "outputs": [],
   "execution_count": 18
  }
 ],
 "metadata": {
  "kernelspec": {
   "display_name": "Python 3",
   "language": "python",
   "name": "python3"
  },
  "language_info": {
   "codemirror_mode": {
    "name": "ipython",
    "version": 2
   },
   "file_extension": ".py",
   "mimetype": "text/x-python",
   "name": "python",
   "nbconvert_exporter": "python",
   "pygments_lexer": "ipython2",
   "version": "2.7.6"
  }
 },
 "nbformat": 4,
 "nbformat_minor": 0
}
