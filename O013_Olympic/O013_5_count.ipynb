{
 "cells": [
  {
   "cell_type": "markdown",
   "source": [
    "#### count 条形图: 单列观测值数量\n",
    "- seaborn.catplot(kind='count'): figure-level\n",
    "- seaborn.countplot(): axes-level"
   ],
   "metadata": {
    "collapsed": false,
    "pycharm": {
     "name": "#%% md\n"
    }
   }
  },
  {
   "cell_type": "code",
   "metadata": {
    "collapsed": true,
    "ExecuteTime": {
     "end_time": "2024-06-27T09:47:37.201027Z",
     "start_time": "2024-06-27T09:47:37.197734Z"
    }
   },
   "source": [
    "import pandas as pd\n",
    "import numpy as np\n",
    "import matplotlib.pyplot as plt\n",
    "import seaborn as sns"
   ],
   "outputs": [],
   "execution_count": 1
  },
  {
   "cell_type": "code",
   "source": [
    "df1 = pd.read_csv('./input/athlete_events.csv')\n",
    "df2 = pd.read_csv('./input/noc_regions.csv')\n",
    "df = pd.merge(\n",
    "    df1, df2,\n",
    "    on='NOC',\n",
    "    how='left',\n",
    "    validate='m:1')"
   ],
   "metadata": {
    "collapsed": false,
    "pycharm": {
     "name": "#%%\n"
    },
    "ExecuteTime": {
     "end_time": "2024-06-27T09:47:37.637541Z",
     "start_time": "2024-06-27T09:47:37.203029Z"
    }
   },
   "outputs": [],
   "execution_count": 2
  },
  {
   "cell_type": "code",
   "source": [
    "sns.set(\n",
    "    context='talk',  # paper, notebook, talk, poster\n",
    "    style='darkgrid',  # darkgrid, whitegrid, dark, white, ticks\n",
    "    palette='pastel',  # deep,muted,bright,pastel,dark,colorblind,hls,husl,cm\n",
    "    rc={\n",
    "        'figure.figsize': [8, 6],\n",
    "        'font.sans-serif': ['Hiragino Sans GB']  # ['SimHei']\n",
    "    }\n",
    ")"
   ],
   "metadata": {
    "collapsed": false,
    "pycharm": {
     "name": "#%%\n"
    },
    "ExecuteTime": {
     "end_time": "2024-06-27T09:47:37.647260Z",
     "start_time": "2024-06-27T09:47:37.643543Z"
    }
   },
   "outputs": [],
   "execution_count": 3
  },
  {
   "cell_type": "code",
   "source": [
    "df_temp = pd.DataFrame({\n",
    "    'A': ['x', 'x', 'y', 'y', 'y', np.NaN],\n",
    "    'B': [1,2,3,4,5,6]\n",
    "})\n",
    "df_temp"
   ],
   "metadata": {
    "collapsed": false,
    "pycharm": {
     "name": "#%%\n"
    },
    "ExecuteTime": {
     "end_time": "2024-06-27T09:47:38.008166Z",
     "start_time": "2024-06-27T09:47:37.651001Z"
    }
   },
   "outputs": [
    {
     "ename": "AttributeError",
     "evalue": "`np.NaN` was removed in the NumPy 2.0 release. Use `np.nan` instead.",
     "output_type": "error",
     "traceback": [
      "\u001B[1;31m---------------------------------------------------------------------------\u001B[0m",
      "\u001B[1;31mAttributeError\u001B[0m                            Traceback (most recent call last)",
      "Cell \u001B[1;32mIn[4], line 2\u001B[0m\n\u001B[0;32m      1\u001B[0m df_temp \u001B[38;5;241m=\u001B[39m pd\u001B[38;5;241m.\u001B[39mDataFrame({\n\u001B[1;32m----> 2\u001B[0m     \u001B[38;5;124m'\u001B[39m\u001B[38;5;124mA\u001B[39m\u001B[38;5;124m'\u001B[39m: [\u001B[38;5;124m'\u001B[39m\u001B[38;5;124mx\u001B[39m\u001B[38;5;124m'\u001B[39m, \u001B[38;5;124m'\u001B[39m\u001B[38;5;124mx\u001B[39m\u001B[38;5;124m'\u001B[39m, \u001B[38;5;124m'\u001B[39m\u001B[38;5;124my\u001B[39m\u001B[38;5;124m'\u001B[39m, \u001B[38;5;124m'\u001B[39m\u001B[38;5;124my\u001B[39m\u001B[38;5;124m'\u001B[39m, \u001B[38;5;124m'\u001B[39m\u001B[38;5;124my\u001B[39m\u001B[38;5;124m'\u001B[39m, \u001B[43mnp\u001B[49m\u001B[38;5;241;43m.\u001B[39;49m\u001B[43mNaN\u001B[49m],\n\u001B[0;32m      3\u001B[0m     \u001B[38;5;124m'\u001B[39m\u001B[38;5;124mB\u001B[39m\u001B[38;5;124m'\u001B[39m: [\u001B[38;5;241m1\u001B[39m,\u001B[38;5;241m2\u001B[39m,\u001B[38;5;241m3\u001B[39m,\u001B[38;5;241m4\u001B[39m,\u001B[38;5;241m5\u001B[39m,\u001B[38;5;241m6\u001B[39m]\n\u001B[0;32m      4\u001B[0m })\n\u001B[0;32m      5\u001B[0m df_temp\n",
      "File \u001B[1;32mD:\\venv\\py312\\Lib\\site-packages\\numpy\\__init__.py:411\u001B[0m, in \u001B[0;36m__getattr__\u001B[1;34m(attr)\u001B[0m\n\u001B[0;32m    408\u001B[0m     \u001B[38;5;28;01mraise\u001B[39;00m \u001B[38;5;167;01mAttributeError\u001B[39;00m(__former_attrs__[attr])\n\u001B[0;32m    410\u001B[0m \u001B[38;5;28;01mif\u001B[39;00m attr \u001B[38;5;129;01min\u001B[39;00m __expired_attributes__:\n\u001B[1;32m--> 411\u001B[0m     \u001B[38;5;28;01mraise\u001B[39;00m \u001B[38;5;167;01mAttributeError\u001B[39;00m(\n\u001B[0;32m    412\u001B[0m         \u001B[38;5;124mf\u001B[39m\u001B[38;5;124m\"\u001B[39m\u001B[38;5;124m`np.\u001B[39m\u001B[38;5;132;01m{\u001B[39;00mattr\u001B[38;5;132;01m}\u001B[39;00m\u001B[38;5;124m` was removed in the NumPy 2.0 release. \u001B[39m\u001B[38;5;124m\"\u001B[39m\n\u001B[0;32m    413\u001B[0m         \u001B[38;5;124mf\u001B[39m\u001B[38;5;124m\"\u001B[39m\u001B[38;5;132;01m{\u001B[39;00m__expired_attributes__[attr]\u001B[38;5;132;01m}\u001B[39;00m\u001B[38;5;124m\"\u001B[39m\n\u001B[0;32m    414\u001B[0m     )\n\u001B[0;32m    416\u001B[0m \u001B[38;5;28;01mif\u001B[39;00m attr \u001B[38;5;241m==\u001B[39m \u001B[38;5;124m\"\u001B[39m\u001B[38;5;124mchararray\u001B[39m\u001B[38;5;124m\"\u001B[39m:\n\u001B[0;32m    417\u001B[0m     warnings\u001B[38;5;241m.\u001B[39mwarn(\n\u001B[0;32m    418\u001B[0m         \u001B[38;5;124m\"\u001B[39m\u001B[38;5;124m`np.chararray` is deprecated and will be removed from \u001B[39m\u001B[38;5;124m\"\u001B[39m\n\u001B[0;32m    419\u001B[0m         \u001B[38;5;124m\"\u001B[39m\u001B[38;5;124mthe main namespace in the future. Use an array with a string \u001B[39m\u001B[38;5;124m\"\u001B[39m\n\u001B[0;32m    420\u001B[0m         \u001B[38;5;124m\"\u001B[39m\u001B[38;5;124mor bytes dtype instead.\u001B[39m\u001B[38;5;124m\"\u001B[39m, \u001B[38;5;167;01mDeprecationWarning\u001B[39;00m, stacklevel\u001B[38;5;241m=\u001B[39m\u001B[38;5;241m2\u001B[39m)\n",
      "\u001B[1;31mAttributeError\u001B[0m: `np.NaN` was removed in the NumPy 2.0 release. Use `np.nan` instead."
     ]
    }
   ],
   "execution_count": 4
  },
  {
   "cell_type": "code",
   "source": [
    "sns.countplot(\n",
    "    x='A',\n",
    "    data=df_temp\n",
    ")"
   ],
   "metadata": {
    "collapsed": false,
    "pycharm": {
     "name": "#%%\n"
    },
    "ExecuteTime": {
     "end_time": "2024-06-27T09:47:38.011168Z",
     "start_time": "2024-06-27T09:47:38.011168Z"
    }
   },
   "outputs": [],
   "execution_count": null
  },
  {
   "cell_type": "code",
   "source": [
    "df_temp.groupby('A').agg('count')"
   ],
   "metadata": {
    "collapsed": false,
    "pycharm": {
     "name": "#%%\n"
    }
   },
   "outputs": [],
   "execution_count": null
  },
  {
   "cell_type": "code",
   "source": [
    "df_medal = df.dropna(subset=['Medal']).convert_dtypes()\n",
    "df_medal = df_medal.sort_values('Age')\n",
    "df_medal.info()"
   ],
   "metadata": {
    "collapsed": false,
    "pycharm": {
     "name": "#%%\n"
    },
    "ExecuteTime": {
     "end_time": "2024-06-27T09:47:38.018674Z",
     "start_time": "2024-06-27T09:47:38.018674Z"
    }
   },
   "outputs": [],
   "execution_count": null
  },
  {
   "cell_type": "code",
   "source": [
    "plt.figure(figsize=[18, 6])\n",
    "ax = sns.countplot(\n",
    "    x='Age',\n",
    "    data=df_medal\n",
    ")\n",
    "ax.tick_params(\n",
    "    rotation=90, axis='x')"
   ],
   "metadata": {
    "collapsed": false,
    "pycharm": {
     "name": "#%%\n"
    }
   },
   "outputs": [],
   "execution_count": null
  },
  {
   "cell_type": "code",
   "source": [
    "plt.figure(figsize=[18, 6])\n",
    "ax = sns.countplot(\n",
    "    df_medal['Age']\n",
    ")\n",
    "ax.tick_params(\n",
    "    rotation=90, axis='x')"
   ],
   "metadata": {
    "collapsed": false,
    "pycharm": {
     "name": "#%%\n"
    }
   },
   "outputs": [],
   "execution_count": null
  },
  {
   "cell_type": "code",
   "source": [
    "plt.figure(figsize=[18, 6])\n",
    "ax = sns.countplot(\n",
    "    x='Age',\n",
    "    data=df_medal.query(\"Medal=='Gold'\")\n",
    ")\n",
    "ax.tick_params(\n",
    "    rotation=90, axis='x')"
   ],
   "metadata": {
    "collapsed": false,
    "pycharm": {
     "name": "#%%\n"
    }
   },
   "outputs": [],
   "execution_count": null
  },
  {
   "cell_type": "code",
   "source": [
    "df_medal = df_medal.drop_duplicates(\n",
    "    subset=['Games', 'Event', 'Medal']\n",
    ")\n",
    "df_medal = df_medal.query('Year>=1984')\n",
    "df_medal.info()"
   ],
   "metadata": {
    "collapsed": false,
    "pycharm": {
     "name": "#%%\n"
    }
   },
   "outputs": [],
   "execution_count": null
  },
  {
   "cell_type": "code",
   "source": [
    "s = df_medal['region'].value_counts().head(10)\n",
    "s"
   ],
   "metadata": {
    "collapsed": false,
    "pycharm": {
     "name": "#%%\n"
    }
   },
   "outputs": [],
   "execution_count": null
  },
  {
   "cell_type": "code",
   "source": [
    "s.plot(kind='bar')"
   ],
   "metadata": {
    "collapsed": false,
    "pycharm": {
     "name": "#%%\n"
    }
   },
   "outputs": [],
   "execution_count": null
  },
  {
   "cell_type": "code",
   "source": [
    "sns.countplot(\n",
    "    x='Medal',\n",
    "    data=df_medal,\n",
    "    order=['Gold', 'Silver', 'Bronze'],\n",
    "    palette=['Gold', 'Silver', 'r']\n",
    ")"
   ],
   "metadata": {
    "collapsed": false,
    "pycharm": {
     "name": "#%%\n"
    }
   },
   "outputs": [],
   "execution_count": null
  },
  {
   "cell_type": "code",
   "source": [
    "ax = sns.countplot(\n",
    "    x='Medal',\n",
    "    hue='NOC',\n",
    "    data=df_medal[df_medal['NOC'].isin(['CHN', 'USA'])],\n",
    "    order=['Gold', 'Silver', 'Bronze'],\n",
    ")\n",
    "ax.set_title('中美1984年后奖牌总数对比')"
   ],
   "metadata": {
    "collapsed": false,
    "pycharm": {
     "name": "#%%\n"
    }
   },
   "outputs": [],
   "execution_count": null
  },
  {
   "cell_type": "code",
   "source": [
    "ax = sns.countplot(\n",
    "    x='Medal',\n",
    "    hue='NOC',\n",
    "    data=df_medal[\n",
    "        df_medal['NOC'].isin(['CHN', 'USA']) &\n",
    "        (df_medal['Year']==2008)\n",
    "    ],\n",
    "    order=['Gold', 'Silver', 'Bronze'],\n",
    ")\n",
    "ax.set_title('中美2008年奖牌总数对比')"
   ],
   "metadata": {
    "collapsed": false,
    "pycharm": {
     "name": "#%%\n"
    }
   },
   "outputs": [],
   "execution_count": null
  },
  {
   "cell_type": "code",
   "source": [
    "ax = sns.countplot(\n",
    "    x='Year',\n",
    "    data = df_medal[\n",
    "        df_medal['NOC'].isin(['CHN'])\n",
    "    ]\n",
    ")\n",
    "ax.tick_params(rotation=90, axis='x')"
   ],
   "metadata": {
    "collapsed": false,
    "pycharm": {
     "name": "#%%\n"
    }
   },
   "outputs": [],
   "execution_count": null
  },
  {
   "cell_type": "code",
   "source": [
    "ax = sns.countplot(\n",
    "    x='Year',\n",
    "    hue='Season',\n",
    "    data = df_medal[\n",
    "        df_medal['NOC'].isin(['CHN'])\n",
    "    ]\n",
    ")\n",
    "ax.tick_params(rotation=90, axis='x')\n",
    "ax.set_title(\"我国每年的奖牌数\")"
   ],
   "metadata": {
    "collapsed": false,
    "pycharm": {
     "name": "#%%\n"
    }
   },
   "outputs": [],
   "execution_count": null
  },
  {
   "cell_type": "code",
   "source": [
    "sns.catplot(\n",
    "    kind='count',\n",
    "    x='Year',\n",
    "    hue='NOC',\n",
    "    data = df_medal[df_medal['NOC'].isin(['CHN', 'USA'])],\n",
    "    aspect=2,\n",
    "    height=6\n",
    ")"
   ],
   "metadata": {
    "collapsed": false,
    "pycharm": {
     "name": "#%%\n"
    }
   },
   "outputs": [],
   "execution_count": null
  },
  {
   "cell_type": "code",
   "source": [
    "\n"
   ],
   "metadata": {
    "collapsed": false,
    "pycharm": {
     "name": "#%%\n"
    }
   },
   "outputs": [],
   "execution_count": null
  }
 ],
 "metadata": {
  "kernelspec": {
   "name": "python3",
   "language": "python",
   "display_name": "Python 3"
  },
  "language_info": {
   "codemirror_mode": {
    "name": "ipython",
    "version": 2
   },
   "file_extension": ".py",
   "mimetype": "text/x-python",
   "name": "python",
   "nbconvert_exporter": "python",
   "pygments_lexer": "ipython2",
   "version": "3.7.6-final"
  }
 },
 "nbformat": 4,
 "nbformat_minor": 0
}
