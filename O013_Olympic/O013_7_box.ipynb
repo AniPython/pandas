{
 "cells": [
  {
   "cell_type": "markdown",
   "source": [
    "#### box 箱形图: 以四分位数查看数值类型数据的分布\n",
    "- seaborn.catplot(kind='box'): figure-level\n",
    "- seaborn.boxplot(): axes-level"
   ],
   "metadata": {
    "collapsed": false,
    "pycharm": {
     "name": "#%% md\n"
    }
   }
  },
  {
   "cell_type": "code",
   "execution_count": 18,
   "metadata": {
    "collapsed": true
   },
   "outputs": [],
   "source": [
    "import pandas as pd\n",
    "import seaborn as sns\n",
    "import matplotlib.pyplot as plt"
   ]
  },
  {
   "cell_type": "code",
   "execution_count": 19,
   "outputs": [],
   "source": [
    "sns.set(\n",
    "    context='talk',  # paper, notebook, talk, poster\n",
    "    style='darkgrid',  # darkgrid, whitegrid, dark, white, ticks\n",
    "    palette='Set3',  # deep,muted,bright,pastel,dark,colorblind,hls,husl,cm\n",
    "    rc={\n",
    "        'figure.figsize': [8, 6]\n",
    "    }\n",
    ")"
   ],
   "metadata": {
    "collapsed": false,
    "pycharm": {
     "name": "#%%\n"
    }
   }
  },
  {
   "cell_type": "code",
   "execution_count": 20,
   "outputs": [],
   "source": [
    "df1 = pd.read_csv('./input/athlete_events.csv')\n",
    "df2 = pd.read_csv('./input/noc_regions.csv')\n",
    "df = pd.merge(\n",
    "    df1, df2,\n",
    "    on='NOC',\n",
    "    how='left',\n",
    "    validate='m:1')"
   ],
   "metadata": {
    "collapsed": false,
    "pycharm": {
     "name": "#%%\n"
    }
   }
  },
  {
   "cell_type": "code",
   "execution_count": 21,
   "outputs": [
    {
     "name": "stdout",
     "output_type": "stream",
     "text": [
      "<class 'pandas.core.frame.DataFrame'>\n",
      "Int64Index: 148480 entries, 0 to 271115\n",
      "Data columns (total 17 columns):\n",
      " #   Column  Non-Null Count   Dtype  \n",
      "---  ------  --------------   -----  \n",
      " 0   ID      148480 non-null  int64  \n",
      " 1   Name    148480 non-null  object \n",
      " 2   Sex     148480 non-null  object \n",
      " 3   Age     148095 non-null  float64\n",
      " 4   Height  140921 non-null  float64\n",
      " 5   Weight  140486 non-null  float64\n",
      " 6   Team    148480 non-null  object \n",
      " 7   NOC     148480 non-null  object \n",
      " 8   Games   148480 non-null  object \n",
      " 9   Year    148480 non-null  int64  \n",
      " 10  Season  148480 non-null  object \n",
      " 11  City    148480 non-null  object \n",
      " 12  Sport   148480 non-null  object \n",
      " 13  Event   148480 non-null  object \n",
      " 14  Medal   20324 non-null   object \n",
      " 15  region  148199 non-null  object \n",
      " 16  notes   2228 non-null    object \n",
      "dtypes: float64(3), int64(2), object(12)\n",
      "memory usage: 20.4+ MB\n"
     ]
    }
   ],
   "source": [
    "df = df.query(\"Year>=1984\")\n",
    "df.info()"
   ],
   "metadata": {
    "collapsed": false,
    "pycharm": {
     "name": "#%%\n"
    }
   }
  },
  {
   "cell_type": "code",
   "execution_count": 26,
   "outputs": [
    {
     "data": {
      "text/plain": "['USA', 'CAN', 'GER', 'ITA', 'FRA', 'CHN']"
     },
     "execution_count": 26,
     "metadata": {},
     "output_type": "execute_result"
    }
   ],
   "source": [
    "li = df['NOC'].value_counts().head(5).index.tolist() + ['CHN']\n",
    "li"
   ],
   "metadata": {
    "collapsed": false,
    "pycharm": {
     "name": "#%%\n"
    }
   }
  },
  {
   "cell_type": "code",
   "execution_count": 27,
   "outputs": [
    {
     "name": "stdout",
     "output_type": "stream",
     "text": [
      "<class 'pandas.core.frame.DataFrame'>\n",
      "Int64Index: 36686 entries, 0 to 271037\n",
      "Data columns (total 17 columns):\n",
      " #   Column  Non-Null Count  Dtype  \n",
      "---  ------  --------------  -----  \n",
      " 0   ID      36686 non-null  int64  \n",
      " 1   Name    36686 non-null  object \n",
      " 2   Sex     36686 non-null  object \n",
      " 3   Age     36672 non-null  float64\n",
      " 4   Height  36172 non-null  float64\n",
      " 5   Weight  36066 non-null  float64\n",
      " 6   Team    36686 non-null  object \n",
      " 7   NOC     36686 non-null  object \n",
      " 8   Games   36686 non-null  object \n",
      " 9   Year    36686 non-null  int64  \n",
      " 10  Season  36686 non-null  object \n",
      " 11  City    36686 non-null  object \n",
      " 12  Sport   36686 non-null  object \n",
      " 13  Event   36686 non-null  object \n",
      " 14  Medal   7262 non-null   object \n",
      " 15  region  36686 non-null  object \n",
      " 16  notes   0 non-null      object \n",
      "dtypes: float64(3), int64(2), object(12)\n",
      "memory usage: 5.0+ MB\n"
     ]
    }
   ],
   "source": [
    "df = df[df['NOC'].isin(li)]\n",
    "df.info()"
   ],
   "metadata": {
    "collapsed": false,
    "pycharm": {
     "name": "#%%\n"
    }
   }
  },
  {
   "cell_type": "code",
   "execution_count": 29,
   "outputs": [
    {
     "data": {
      "text/plain": "<matplotlib.axes._subplots.AxesSubplot at 0x7fc74dec8050>"
     },
     "execution_count": 29,
     "metadata": {},
     "output_type": "execute_result"
    },
    {
     "data": {
      "text/plain": "<Figure size 576x432 with 1 Axes>",
      "image/png": "[encoded data removed]"
     },
     "metadata": {},
     "output_type": "display_data"
    }
   ],
   "source": [
    "sns.boxplot(\n",
    "    x='NOC',\n",
    "    y='Age',\n",
    "    hue='Sex',\n",
    "    data=df\n",
    ")"
   ],
   "metadata": {
    "collapsed": false,
    "pycharm": {
     "name": "#%%\n"
    }
   }
  },
  {
   "cell_type": "code",
   "execution_count": null,
   "outputs": [],
   "source": [
    "sns.boxplot(\n",
    "    x='NOC',\n",
    "    y='Height',\n",
    "    hue='Sex',\n",
    "    data=df\n",
    ")\n",
    "plt.legend(loc='upper right')"
   ],
   "metadata": {
    "collapsed": false,
    "pycharm": {
     "name": "#%%\n"
    }
   }
  },
  {
   "cell_type": "code",
   "execution_count": null,
   "outputs": [],
   "source": [
    "sns.boxplot(\n",
    "    x='Height',\n",
    "    y='NOC',\n",
    "    hue='Sex',\n",
    "    data=df\n",
    ")"
   ],
   "metadata": {
    "collapsed": false,
    "pycharm": {
     "name": "#%%\n"
    }
   }
  },
  {
   "cell_type": "code",
   "execution_count": null,
   "outputs": [],
   "source": [
    "sns.boxplot(\n",
    "    data=df[['Height', 'Weight', 'NOC']]\n",
    ")"
   ],
   "metadata": {
    "collapsed": false,
    "pycharm": {
     "name": "#%%\n"
    }
   }
  },
  {
   "cell_type": "code",
   "execution_count": null,
   "outputs": [],
   "source": [
    "\n"
   ],
   "metadata": {
    "collapsed": false,
    "pycharm": {
     "name": "#%%\n"
    }
   }
  }
 ],
 "metadata": {
  "kernelspec": {
   "name": "python3",
   "language": "python",
   "display_name": "Python 3"
  },
  "language_info": {
   "codemirror_mode": {
    "name": "ipython",
    "version": 2
   },
   "file_extension": ".py",
   "mimetype": "text/x-python",
   "name": "python",
   "nbconvert_exporter": "python",
   "pygments_lexer": "ipython2",
   "version": "3.7.6-final"
  }
 },
 "nbformat": 4,
 "nbformat_minor": 0
}