{
 "cells": [
  {
   "cell_type": "code",
   "execution_count": 85,
   "outputs": [],
   "source": [
    "# resample()"
   ],
   "metadata": {
    "collapsed": false,
    "pycharm": {
     "name": "#%%\n"
    }
   }
  },
  {
   "cell_type": "code",
   "execution_count": 86,
   "metadata": {
    "collapsed": true
   },
   "outputs": [],
   "source": [
    "import pandas as pd"
   ]
  },
  {
   "cell_type": "code",
   "execution_count": 87,
   "outputs": [
    {
     "data": {
      "text/plain": "2000-01-01 00:01:10    0\n2000-01-01 00:02:20    1\n2000-01-01 00:03:00    2\n2000-01-01 00:04:30    3\n2000-01-01 00:05:40    4\n2000-01-01 00:06:50    5\ndtype: int64"
     },
     "execution_count": 87,
     "metadata": {},
     "output_type": "execute_result"
    }
   ],
   "source": [
    "index = pd.to_datetime([\n",
    "    '2000-01-01 00:01:10',\n",
    "    '2000-01-01 00:02:20',\n",
    "    '2000-01-01 00:03:00',\n",
    "    '2000-01-01 00:04:30',\n",
    "    '2000-01-01 00:05:40',\n",
    "    '2000-01-01 00:06:50',\n",
    "])\n",
    "s = pd.Series(range(6), index=index)\n",
    "s"
   ],
   "metadata": {
    "collapsed": false,
    "pycharm": {
     "name": "#%%\n"
    }
   }
  },
  {
   "cell_type": "code",
   "execution_count": 88,
   "outputs": [
    {
     "data": {
      "text/plain": "2000-01-01 00:00:00    0.0\n2000-01-01 00:02:00    1.5\n2000-01-01 00:04:00    3.5\n2000-01-01 00:06:00    5.0\nFreq: 2T, dtype: float64"
     },
     "execution_count": 88,
     "metadata": {},
     "output_type": "execute_result"
    }
   ],
   "source": [
    "s.resample('2T').mean()"
   ],
   "metadata": {
    "collapsed": false,
    "pycharm": {
     "name": "#%%\n"
    }
   }
  },
  {
   "cell_type": "code",
   "execution_count": 89,
   "outputs": [
    {
     "data": {
      "text/plain": "                货号        商品名称  热销度      首次售卖时间   尺码    三级品类类型  售卖价  客户数  \\\n日期                                                                         \n2019-11-16  ABEEAA  厚长袖家居服女士睡衣  畅销款  2019-10-21    M  女士睡衣/家居服  429    1   \n2019-11-30  BAEBEF  玉兔绒家居服女士睡衣  畅销款  2019-09-05    L  女士睡衣/家居服  319    1   \n2019-11-23  EEBDAD  棉长袖家居服女士睡衣  畅销款  2019-11-02    S  女士睡衣/家居服  389    1   \n2019-11-24  BCFBFD  约打底4条装女士内裤  畅销款  2019-08-21    L      女士内裤   69   15   \n2019-11-26  CBFAED  舒适两条装女士安全裤  畅销款  2019-08-28    L      女士内裤   69    1   \n...            ...         ...  ...         ...  ...       ...  ...  ...   \n2019-11-16  FDFFBF  厚长款家居服女童睡衣  畅销款  2019-10-08  140   儿童睡衣家居服  229    2   \n2019-11-20  CAACAF  力中腰平角裤男士内裤  畅销款  2019-10-08  XXL      男士内裤  109    1   \n2019-11-24   EDBCD  尚英文单裤女士长睡裤  畅销款  2019-08-21  XXL     女式休闲裤  119    1   \n2019-11-22  DDFBBE  绒夹棉家居服女士睡衣  畅销款  2019-11-05    L  女士睡衣/家居服  399    4   \n2019-11-23  EDBFCC  瑚绒女士家居服睡衣女  畅销款  2019-09-05   XL  女士睡衣/家居服  209   23   \n\n            实收金额（含拒退）   销售额  ...  加购物车人数  拒收量  拒收率  拒收金额  退货量     退货率  退货金额  \\\n日期                           ...                                              \n2019-11-16     242.90   299  ...       0    0  0.0     0    0  0.0000     0   \n2019-11-30     158.00   148  ...       9    0  0.0     0    0  0.0000     0   \n2019-11-23     288.00   278  ...      15    0  0.0     0    0  0.0000     0   \n2019-11-24     609.70   615  ...      92    0  0.0     0    0  0.0000     0   \n2019-11-26      27.38    28  ...      15    0  0.0     0    0  0.0000     0   \n...               ...   ...  ...     ...  ...  ...   ...  ...     ...   ...   \n2019-11-16     291.13   292  ...      47    0  0.0     0    0  0.0000     0   \n2019-11-20      76.30    78  ...      22    1  1.0    78    0  0.0000     0   \n2019-11-24      58.00    58  ...      44    0  0.0     0    0  0.0000     0   \n2019-11-22    1276.00  1276  ...      56    0  0.0     0    1  0.2500   319   \n2019-11-23    2179.45  2178  ...     482    0  0.0     0    3  0.1364   627   \n\n            拒退量     拒退率  拒退金额  \n日期                             \n2019-11-16    0  0.0000     0  \n2019-11-30    0  0.0000     0  \n2019-11-23    0  0.0000     0  \n2019-11-24    0  0.0000     0  \n2019-11-26    0  0.0000     0  \n...         ...     ...   ...  \n2019-11-16    0  0.0000     0  \n2019-11-20    1  1.0000    78  \n2019-11-24    0  0.0000     0  \n2019-11-22    1  0.2500   319  \n2019-11-23    3  0.1364   627  \n\n[1000 rows x 37 columns]",
      "text/html": "<div>\n<style scoped>\n    .dataframe tbody tr th:only-of-type {\n        vertical-align: middle;\n    }\n\n    .dataframe tbody tr th {\n        vertical-align: top;\n    }\n\n    .dataframe thead th {\n        text-align: right;\n    }\n</style>\n<table border=\"1\" class=\"dataframe\">\n  <thead>\n    <tr style=\"text-align: right;\">\n      <th></th>\n      <th>货号</th>\n      <th>商品名称</th>\n      <th>热销度</th>\n      <th>首次售卖时间</th>\n      <th>尺码</th>\n      <th>三级品类类型</th>\n      <th>售卖价</th>\n      <th>客户数</th>\n      <th>实收金额（含拒退）</th>\n      <th>销售额</th>\n      <th>...</th>\n      <th>加购物车人数</th>\n      <th>拒收量</th>\n      <th>拒收率</th>\n      <th>拒收金额</th>\n      <th>退货量</th>\n      <th>退货率</th>\n      <th>退货金额</th>\n      <th>拒退量</th>\n      <th>拒退率</th>\n      <th>拒退金额</th>\n    </tr>\n    <tr>\n      <th>日期</th>\n      <th></th>\n      <th></th>\n      <th></th>\n      <th></th>\n      <th></th>\n      <th></th>\n      <th></th>\n      <th></th>\n      <th></th>\n      <th></th>\n      <th></th>\n      <th></th>\n      <th></th>\n      <th></th>\n      <th></th>\n      <th></th>\n      <th></th>\n      <th></th>\n      <th></th>\n      <th></th>\n      <th></th>\n    </tr>\n  </thead>\n  <tbody>\n    <tr>\n      <th>2019-11-16</th>\n      <td>ABEEAA</td>\n      <td>厚长袖家居服女士睡衣</td>\n      <td>畅销款</td>\n      <td>2019-10-21</td>\n      <td>M</td>\n      <td>女士睡衣/家居服</td>\n      <td>429</td>\n      <td>1</td>\n      <td>242.90</td>\n      <td>299</td>\n      <td>...</td>\n      <td>0</td>\n      <td>0</td>\n      <td>0.0</td>\n      <td>0</td>\n      <td>0</td>\n      <td>0.0000</td>\n      <td>0</td>\n      <td>0</td>\n      <td>0.0000</td>\n      <td>0</td>\n    </tr>\n    <tr>\n      <th>2019-11-30</th>\n      <td>BAEBEF</td>\n      <td>玉兔绒家居服女士睡衣</td>\n      <td>畅销款</td>\n      <td>2019-09-05</td>\n      <td>L</td>\n      <td>女士睡衣/家居服</td>\n      <td>319</td>\n      <td>1</td>\n      <td>158.00</td>\n      <td>148</td>\n      <td>...</td>\n      <td>9</td>\n      <td>0</td>\n      <td>0.0</td>\n      <td>0</td>\n      <td>0</td>\n      <td>0.0000</td>\n      <td>0</td>\n      <td>0</td>\n      <td>0.0000</td>\n      <td>0</td>\n    </tr>\n    <tr>\n      <th>2019-11-23</th>\n      <td>EEBDAD</td>\n      <td>棉长袖家居服女士睡衣</td>\n      <td>畅销款</td>\n      <td>2019-11-02</td>\n      <td>S</td>\n      <td>女士睡衣/家居服</td>\n      <td>389</td>\n      <td>1</td>\n      <td>288.00</td>\n      <td>278</td>\n      <td>...</td>\n      <td>15</td>\n      <td>0</td>\n      <td>0.0</td>\n      <td>0</td>\n      <td>0</td>\n      <td>0.0000</td>\n      <td>0</td>\n      <td>0</td>\n      <td>0.0000</td>\n      <td>0</td>\n    </tr>\n    <tr>\n      <th>2019-11-24</th>\n      <td>BCFBFD</td>\n      <td>约打底4条装女士内裤</td>\n      <td>畅销款</td>\n      <td>2019-08-21</td>\n      <td>L</td>\n      <td>女士内裤</td>\n      <td>69</td>\n      <td>15</td>\n      <td>609.70</td>\n      <td>615</td>\n      <td>...</td>\n      <td>92</td>\n      <td>0</td>\n      <td>0.0</td>\n      <td>0</td>\n      <td>0</td>\n      <td>0.0000</td>\n      <td>0</td>\n      <td>0</td>\n      <td>0.0000</td>\n      <td>0</td>\n    </tr>\n    <tr>\n      <th>2019-11-26</th>\n      <td>CBFAED</td>\n      <td>舒适两条装女士安全裤</td>\n      <td>畅销款</td>\n      <td>2019-08-28</td>\n      <td>L</td>\n      <td>女士内裤</td>\n      <td>69</td>\n      <td>1</td>\n      <td>27.38</td>\n      <td>28</td>\n      <td>...</td>\n      <td>15</td>\n      <td>0</td>\n      <td>0.0</td>\n      <td>0</td>\n      <td>0</td>\n      <td>0.0000</td>\n      <td>0</td>\n      <td>0</td>\n      <td>0.0000</td>\n      <td>0</td>\n    </tr>\n    <tr>\n      <th>...</th>\n      <td>...</td>\n      <td>...</td>\n      <td>...</td>\n      <td>...</td>\n      <td>...</td>\n      <td>...</td>\n      <td>...</td>\n      <td>...</td>\n      <td>...</td>\n      <td>...</td>\n      <td>...</td>\n      <td>...</td>\n      <td>...</td>\n      <td>...</td>\n      <td>...</td>\n      <td>...</td>\n      <td>...</td>\n      <td>...</td>\n      <td>...</td>\n      <td>...</td>\n      <td>...</td>\n    </tr>\n    <tr>\n      <th>2019-11-16</th>\n      <td>FDFFBF</td>\n      <td>厚长款家居服女童睡衣</td>\n      <td>畅销款</td>\n      <td>2019-10-08</td>\n      <td>140</td>\n      <td>儿童睡衣家居服</td>\n      <td>229</td>\n      <td>2</td>\n      <td>291.13</td>\n      <td>292</td>\n      <td>...</td>\n      <td>47</td>\n      <td>0</td>\n      <td>0.0</td>\n      <td>0</td>\n      <td>0</td>\n      <td>0.0000</td>\n      <td>0</td>\n      <td>0</td>\n      <td>0.0000</td>\n      <td>0</td>\n    </tr>\n    <tr>\n      <th>2019-11-20</th>\n      <td>CAACAF</td>\n      <td>力中腰平角裤男士内裤</td>\n      <td>畅销款</td>\n      <td>2019-10-08</td>\n      <td>XXL</td>\n      <td>男士内裤</td>\n      <td>109</td>\n      <td>1</td>\n      <td>76.30</td>\n      <td>78</td>\n      <td>...</td>\n      <td>22</td>\n      <td>1</td>\n      <td>1.0</td>\n      <td>78</td>\n      <td>0</td>\n      <td>0.0000</td>\n      <td>0</td>\n      <td>1</td>\n      <td>1.0000</td>\n      <td>78</td>\n    </tr>\n    <tr>\n      <th>2019-11-24</th>\n      <td>EDBCD</td>\n      <td>尚英文单裤女士长睡裤</td>\n      <td>畅销款</td>\n      <td>2019-08-21</td>\n      <td>XXL</td>\n      <td>女式休闲裤</td>\n      <td>119</td>\n      <td>1</td>\n      <td>58.00</td>\n      <td>58</td>\n      <td>...</td>\n      <td>44</td>\n      <td>0</td>\n      <td>0.0</td>\n      <td>0</td>\n      <td>0</td>\n      <td>0.0000</td>\n      <td>0</td>\n      <td>0</td>\n      <td>0.0000</td>\n      <td>0</td>\n    </tr>\n    <tr>\n      <th>2019-11-22</th>\n      <td>DDFBBE</td>\n      <td>绒夹棉家居服女士睡衣</td>\n      <td>畅销款</td>\n      <td>2019-11-05</td>\n      <td>L</td>\n      <td>女士睡衣/家居服</td>\n      <td>399</td>\n      <td>4</td>\n      <td>1276.00</td>\n      <td>1276</td>\n      <td>...</td>\n      <td>56</td>\n      <td>0</td>\n      <td>0.0</td>\n      <td>0</td>\n      <td>1</td>\n      <td>0.2500</td>\n      <td>319</td>\n      <td>1</td>\n      <td>0.2500</td>\n      <td>319</td>\n    </tr>\n    <tr>\n      <th>2019-11-23</th>\n      <td>EDBFCC</td>\n      <td>瑚绒女士家居服睡衣女</td>\n      <td>畅销款</td>\n      <td>2019-09-05</td>\n      <td>XL</td>\n      <td>女士睡衣/家居服</td>\n      <td>209</td>\n      <td>23</td>\n      <td>2179.45</td>\n      <td>2178</td>\n      <td>...</td>\n      <td>482</td>\n      <td>0</td>\n      <td>0.0</td>\n      <td>0</td>\n      <td>3</td>\n      <td>0.1364</td>\n      <td>627</td>\n      <td>3</td>\n      <td>0.1364</td>\n      <td>627</td>\n    </tr>\n  </tbody>\n</table>\n<p>1000 rows × 37 columns</p>\n</div>"
     },
     "execution_count": 89,
     "metadata": {},
     "output_type": "execute_result"
    }
   ],
   "source": [
    "df = pd.read_excel(\n",
    "    'sales_data_1000.xlsx',\n",
    "    index_col='日期',\n",
    "    parse_dates=True\n",
    ")\n",
    "df"
   ],
   "metadata": {
    "collapsed": false,
    "pycharm": {
     "name": "#%%\n"
    }
   }
  },
  {
   "cell_type": "code",
   "execution_count": 90,
   "outputs": [
    {
     "data": {
      "text/plain": "货号               object\n商品名称             object\n热销度              object\n首次售卖时间           object\n尺码               object\n三级品类类型           object\n售卖价               int64\n客户数               int64\n实收金额（含拒退）       float64\n销售额               int64\n销售额（到手价不含拒退）    float64\n拒退销售额（到手价）      float64\n销售量（含拒退）          int64\n销售量（不含拒退）         int64\n销售额（含满减含拒退）       int64\n销售额（扣满减含拒退）       int64\n销售额(扣满减不含拒退)      int64\n售卖比（销售额）        float64\n品牌券金额             int64\n拒退实收金额          float64\n实收金额（不含拒退）      float64\n可售货值              int64\n可售货量              int64\nUV                int64\n转化率             float64\n收藏人数              int64\n商品CTR           float64\n加购物车人数            int64\n拒收量               int64\n拒收率             float64\n拒收金额              int64\n退货量               int64\n退货率             float64\n退货金额              int64\n拒退量               int64\n拒退率             float64\n拒退金额              int64\ndtype: object"
     },
     "execution_count": 90,
     "metadata": {},
     "output_type": "execute_result"
    }
   ],
   "source": [
    "df.dtypes"
   ],
   "metadata": {
    "collapsed": false,
    "pycharm": {
     "name": "#%%\n"
    }
   }
  },
  {
   "cell_type": "code",
   "execution_count": 91,
   "outputs": [
    {
     "data": {
      "text/plain": "                   售卖价   客户数\n日期                          \n2019-11-16  240.972477   653\n2019-11-18  244.928571   749\n2019-11-20  236.646617   561\n2019-11-22  236.386792   433\n2019-11-24  245.096774   685\n2019-11-26  243.756757  1005\n2019-11-28  253.324675   945\n2019-11-30  239.944444   442",
      "text/html": "<div>\n<style scoped>\n    .dataframe tbody tr th:only-of-type {\n        vertical-align: middle;\n    }\n\n    .dataframe tbody tr th {\n        vertical-align: top;\n    }\n\n    .dataframe thead th {\n        text-align: right;\n    }\n</style>\n<table border=\"1\" class=\"dataframe\">\n  <thead>\n    <tr style=\"text-align: right;\">\n      <th></th>\n      <th>售卖价</th>\n      <th>客户数</th>\n    </tr>\n    <tr>\n      <th>日期</th>\n      <th></th>\n      <th></th>\n    </tr>\n  </thead>\n  <tbody>\n    <tr>\n      <th>2019-11-16</th>\n      <td>240.972477</td>\n      <td>653</td>\n    </tr>\n    <tr>\n      <th>2019-11-18</th>\n      <td>244.928571</td>\n      <td>749</td>\n    </tr>\n    <tr>\n      <th>2019-11-20</th>\n      <td>236.646617</td>\n      <td>561</td>\n    </tr>\n    <tr>\n      <th>2019-11-22</th>\n      <td>236.386792</td>\n      <td>433</td>\n    </tr>\n    <tr>\n      <th>2019-11-24</th>\n      <td>245.096774</td>\n      <td>685</td>\n    </tr>\n    <tr>\n      <th>2019-11-26</th>\n      <td>243.756757</td>\n      <td>1005</td>\n    </tr>\n    <tr>\n      <th>2019-11-28</th>\n      <td>253.324675</td>\n      <td>945</td>\n    </tr>\n    <tr>\n      <th>2019-11-30</th>\n      <td>239.944444</td>\n      <td>442</td>\n    </tr>\n  </tbody>\n</table>\n</div>"
     },
     "execution_count": 91,
     "metadata": {},
     "output_type": "execute_result"
    }
   ],
   "source": [
    "df.resample('2D').agg(\n",
    "    {'售卖价': 'mean',\n",
    "     '客户数': 'sum'}\n",
    ")"
   ],
   "metadata": {
    "collapsed": false,
    "pycharm": {
     "name": "#%%\n"
    }
   }
  },
  {
   "cell_type": "code",
   "execution_count": 92,
   "outputs": [
    {
     "data": {
      "text/plain": "         货号        商品名称  热销度      首次售卖时间   尺码         日期    三级品类类型  售卖价  客户数  \\\n0    ABEEAA  厚长袖家居服女士睡衣  畅销款  2019-10-21    M 2019-11-16  女士睡衣/家居服  429    1   \n1    BAEBEF  玉兔绒家居服女士睡衣  畅销款  2019-09-05    L 2019-11-30  女士睡衣/家居服  319    1   \n2    EEBDAD  棉长袖家居服女士睡衣  畅销款  2019-11-02    S 2019-11-23  女士睡衣/家居服  389    1   \n3    BCFBFD  约打底4条装女士内裤  畅销款  2019-08-21    L 2019-11-24      女士内裤   69   15   \n4    CBFAED  舒适两条装女士安全裤  畅销款  2019-08-28    L 2019-11-26      女士内裤   69    1   \n..      ...         ...  ...         ...  ...        ...       ...  ...  ...   \n995  FDFFBF  厚长款家居服女童睡衣  畅销款  2019-10-08  140 2019-11-16   儿童睡衣家居服  229    2   \n996  CAACAF  力中腰平角裤男士内裤  畅销款  2019-10-08  XXL 2019-11-20      男士内裤  109    1   \n997   EDBCD  尚英文单裤女士长睡裤  畅销款  2019-08-21  XXL 2019-11-24     女式休闲裤  119    1   \n998  DDFBBE  绒夹棉家居服女士睡衣  畅销款  2019-11-05    L 2019-11-22  女士睡衣/家居服  399    4   \n999  EDBFCC  瑚绒女士家居服睡衣女  畅销款  2019-09-05   XL 2019-11-23  女士睡衣/家居服  209   23   \n\n     实收金额（含拒退）  ...  加购物车人数  拒收量  拒收率  拒收金额  退货量     退货率  退货金额  拒退量     拒退率  \\\n0       242.90  ...       0    0  0.0     0    0  0.0000     0    0  0.0000   \n1       158.00  ...       9    0  0.0     0    0  0.0000     0    0  0.0000   \n2       288.00  ...      15    0  0.0     0    0  0.0000     0    0  0.0000   \n3       609.70  ...      92    0  0.0     0    0  0.0000     0    0  0.0000   \n4        27.38  ...      15    0  0.0     0    0  0.0000     0    0  0.0000   \n..         ...  ...     ...  ...  ...   ...  ...     ...   ...  ...     ...   \n995     291.13  ...      47    0  0.0     0    0  0.0000     0    0  0.0000   \n996      76.30  ...      22    1  1.0    78    0  0.0000     0    1  1.0000   \n997      58.00  ...      44    0  0.0     0    0  0.0000     0    0  0.0000   \n998    1276.00  ...      56    0  0.0     0    1  0.2500   319    1  0.2500   \n999    2179.45  ...     482    0  0.0     0    3  0.1364   627    3  0.1364   \n\n     拒退金额  \n0       0  \n1       0  \n2       0  \n3       0  \n4       0  \n..    ...  \n995     0  \n996    78  \n997     0  \n998   319  \n999   627  \n\n[1000 rows x 38 columns]",
      "text/html": "<div>\n<style scoped>\n    .dataframe tbody tr th:only-of-type {\n        vertical-align: middle;\n    }\n\n    .dataframe tbody tr th {\n        vertical-align: top;\n    }\n\n    .dataframe thead th {\n        text-align: right;\n    }\n</style>\n<table border=\"1\" class=\"dataframe\">\n  <thead>\n    <tr style=\"text-align: right;\">\n      <th></th>\n      <th>货号</th>\n      <th>商品名称</th>\n      <th>热销度</th>\n      <th>首次售卖时间</th>\n      <th>尺码</th>\n      <th>日期</th>\n      <th>三级品类类型</th>\n      <th>售卖价</th>\n      <th>客户数</th>\n      <th>实收金额（含拒退）</th>\n      <th>...</th>\n      <th>加购物车人数</th>\n      <th>拒收量</th>\n      <th>拒收率</th>\n      <th>拒收金额</th>\n      <th>退货量</th>\n      <th>退货率</th>\n      <th>退货金额</th>\n      <th>拒退量</th>\n      <th>拒退率</th>\n      <th>拒退金额</th>\n    </tr>\n  </thead>\n  <tbody>\n    <tr>\n      <th>0</th>\n      <td>ABEEAA</td>\n      <td>厚长袖家居服女士睡衣</td>\n      <td>畅销款</td>\n      <td>2019-10-21</td>\n      <td>M</td>\n      <td>2019-11-16</td>\n      <td>女士睡衣/家居服</td>\n      <td>429</td>\n      <td>1</td>\n      <td>242.90</td>\n      <td>...</td>\n      <td>0</td>\n      <td>0</td>\n      <td>0.0</td>\n      <td>0</td>\n      <td>0</td>\n      <td>0.0000</td>\n      <td>0</td>\n      <td>0</td>\n      <td>0.0000</td>\n      <td>0</td>\n    </tr>\n    <tr>\n      <th>1</th>\n      <td>BAEBEF</td>\n      <td>玉兔绒家居服女士睡衣</td>\n      <td>畅销款</td>\n      <td>2019-09-05</td>\n      <td>L</td>\n      <td>2019-11-30</td>\n      <td>女士睡衣/家居服</td>\n      <td>319</td>\n      <td>1</td>\n      <td>158.00</td>\n      <td>...</td>\n      <td>9</td>\n      <td>0</td>\n      <td>0.0</td>\n      <td>0</td>\n      <td>0</td>\n      <td>0.0000</td>\n      <td>0</td>\n      <td>0</td>\n      <td>0.0000</td>\n      <td>0</td>\n    </tr>\n    <tr>\n      <th>2</th>\n      <td>EEBDAD</td>\n      <td>棉长袖家居服女士睡衣</td>\n      <td>畅销款</td>\n      <td>2019-11-02</td>\n      <td>S</td>\n      <td>2019-11-23</td>\n      <td>女士睡衣/家居服</td>\n      <td>389</td>\n      <td>1</td>\n      <td>288.00</td>\n      <td>...</td>\n      <td>15</td>\n      <td>0</td>\n      <td>0.0</td>\n      <td>0</td>\n      <td>0</td>\n      <td>0.0000</td>\n      <td>0</td>\n      <td>0</td>\n      <td>0.0000</td>\n      <td>0</td>\n    </tr>\n    <tr>\n      <th>3</th>\n      <td>BCFBFD</td>\n      <td>约打底4条装女士内裤</td>\n      <td>畅销款</td>\n      <td>2019-08-21</td>\n      <td>L</td>\n      <td>2019-11-24</td>\n      <td>女士内裤</td>\n      <td>69</td>\n      <td>15</td>\n      <td>609.70</td>\n      <td>...</td>\n      <td>92</td>\n      <td>0</td>\n      <td>0.0</td>\n      <td>0</td>\n      <td>0</td>\n      <td>0.0000</td>\n      <td>0</td>\n      <td>0</td>\n      <td>0.0000</td>\n      <td>0</td>\n    </tr>\n    <tr>\n      <th>4</th>\n      <td>CBFAED</td>\n      <td>舒适两条装女士安全裤</td>\n      <td>畅销款</td>\n      <td>2019-08-28</td>\n      <td>L</td>\n      <td>2019-11-26</td>\n      <td>女士内裤</td>\n      <td>69</td>\n      <td>1</td>\n      <td>27.38</td>\n      <td>...</td>\n      <td>15</td>\n      <td>0</td>\n      <td>0.0</td>\n      <td>0</td>\n      <td>0</td>\n      <td>0.0000</td>\n      <td>0</td>\n      <td>0</td>\n      <td>0.0000</td>\n      <td>0</td>\n    </tr>\n    <tr>\n      <th>...</th>\n      <td>...</td>\n      <td>...</td>\n      <td>...</td>\n      <td>...</td>\n      <td>...</td>\n      <td>...</td>\n      <td>...</td>\n      <td>...</td>\n      <td>...</td>\n      <td>...</td>\n      <td>...</td>\n      <td>...</td>\n      <td>...</td>\n      <td>...</td>\n      <td>...</td>\n      <td>...</td>\n      <td>...</td>\n      <td>...</td>\n      <td>...</td>\n      <td>...</td>\n      <td>...</td>\n    </tr>\n    <tr>\n      <th>995</th>\n      <td>FDFFBF</td>\n      <td>厚长款家居服女童睡衣</td>\n      <td>畅销款</td>\n      <td>2019-10-08</td>\n      <td>140</td>\n      <td>2019-11-16</td>\n      <td>儿童睡衣家居服</td>\n      <td>229</td>\n      <td>2</td>\n      <td>291.13</td>\n      <td>...</td>\n      <td>47</td>\n      <td>0</td>\n      <td>0.0</td>\n      <td>0</td>\n      <td>0</td>\n      <td>0.0000</td>\n      <td>0</td>\n      <td>0</td>\n      <td>0.0000</td>\n      <td>0</td>\n    </tr>\n    <tr>\n      <th>996</th>\n      <td>CAACAF</td>\n      <td>力中腰平角裤男士内裤</td>\n      <td>畅销款</td>\n      <td>2019-10-08</td>\n      <td>XXL</td>\n      <td>2019-11-20</td>\n      <td>男士内裤</td>\n      <td>109</td>\n      <td>1</td>\n      <td>76.30</td>\n      <td>...</td>\n      <td>22</td>\n      <td>1</td>\n      <td>1.0</td>\n      <td>78</td>\n      <td>0</td>\n      <td>0.0000</td>\n      <td>0</td>\n      <td>1</td>\n      <td>1.0000</td>\n      <td>78</td>\n    </tr>\n    <tr>\n      <th>997</th>\n      <td>EDBCD</td>\n      <td>尚英文单裤女士长睡裤</td>\n      <td>畅销款</td>\n      <td>2019-08-21</td>\n      <td>XXL</td>\n      <td>2019-11-24</td>\n      <td>女式休闲裤</td>\n      <td>119</td>\n      <td>1</td>\n      <td>58.00</td>\n      <td>...</td>\n      <td>44</td>\n      <td>0</td>\n      <td>0.0</td>\n      <td>0</td>\n      <td>0</td>\n      <td>0.0000</td>\n      <td>0</td>\n      <td>0</td>\n      <td>0.0000</td>\n      <td>0</td>\n    </tr>\n    <tr>\n      <th>998</th>\n      <td>DDFBBE</td>\n      <td>绒夹棉家居服女士睡衣</td>\n      <td>畅销款</td>\n      <td>2019-11-05</td>\n      <td>L</td>\n      <td>2019-11-22</td>\n      <td>女士睡衣/家居服</td>\n      <td>399</td>\n      <td>4</td>\n      <td>1276.00</td>\n      <td>...</td>\n      <td>56</td>\n      <td>0</td>\n      <td>0.0</td>\n      <td>0</td>\n      <td>1</td>\n      <td>0.2500</td>\n      <td>319</td>\n      <td>1</td>\n      <td>0.2500</td>\n      <td>319</td>\n    </tr>\n    <tr>\n      <th>999</th>\n      <td>EDBFCC</td>\n      <td>瑚绒女士家居服睡衣女</td>\n      <td>畅销款</td>\n      <td>2019-09-05</td>\n      <td>XL</td>\n      <td>2019-11-23</td>\n      <td>女士睡衣/家居服</td>\n      <td>209</td>\n      <td>23</td>\n      <td>2179.45</td>\n      <td>...</td>\n      <td>482</td>\n      <td>0</td>\n      <td>0.0</td>\n      <td>0</td>\n      <td>3</td>\n      <td>0.1364</td>\n      <td>627</td>\n      <td>3</td>\n      <td>0.1364</td>\n      <td>627</td>\n    </tr>\n  </tbody>\n</table>\n<p>1000 rows × 38 columns</p>\n</div>"
     },
     "execution_count": 92,
     "metadata": {},
     "output_type": "execute_result"
    }
   ],
   "source": [
    "df = pd.read_excel(\n",
    "    'sales_data_1000.xlsx',\n",
    "    parse_dates=['日期']\n",
    ")\n",
    "df"
   ],
   "metadata": {
    "collapsed": false,
    "pycharm": {
     "name": "#%%\n"
    }
   }
  },
  {
   "cell_type": "code",
   "execution_count": 93,
   "outputs": [
    {
     "data": {
      "text/plain": "货号                      object\n商品名称                    object\n热销度                     object\n首次售卖时间                  object\n尺码                      object\n日期              datetime64[ns]\n三级品类类型                  object\n售卖价                      int64\n客户数                      int64\n实收金额（含拒退）              float64\n销售额                      int64\n销售额（到手价不含拒退）           float64\n拒退销售额（到手价）             float64\n销售量（含拒退）                 int64\n销售量（不含拒退）                int64\n销售额（含满减含拒退）              int64\n销售额（扣满减含拒退）              int64\n销售额(扣满减不含拒退)             int64\n售卖比（销售额）               float64\n品牌券金额                    int64\n拒退实收金额                 float64\n实收金额（不含拒退）             float64\n可售货值                     int64\n可售货量                     int64\nUV                       int64\n转化率                    float64\n收藏人数                     int64\n商品CTR                  float64\n加购物车人数                   int64\n拒收量                      int64\n拒收率                    float64\n拒收金额                     int64\n退货量                      int64\n退货率                    float64\n退货金额                     int64\n拒退量                      int64\n拒退率                    float64\n拒退金额                     int64\ndtype: object"
     },
     "execution_count": 93,
     "metadata": {},
     "output_type": "execute_result"
    }
   ],
   "source": [
    "df.dtypes"
   ],
   "metadata": {
    "collapsed": false,
    "pycharm": {
     "name": "#%%\n"
    }
   }
  },
  {
   "cell_type": "code",
   "execution_count": 94,
   "outputs": [
    {
     "data": {
      "text/plain": "              售卖价   客户数  实收金额（含拒退）     销售额  销售额（到手价不含拒退）  拒退销售额（到手价）  \\\n日期                                                                     \n2019-11-16  26266   653   78141.60   78548      66582.92    11965.08   \n2019-11-18  37719   749   91390.14   91738      79827.24    11910.76   \n2019-11-20  31474   561   72374.95   72722      63791.34     8930.66   \n2019-11-22  25057   433   55361.47   55632      50268.00     5364.00   \n2019-11-24  30392   685   80421.07   80981      71336.89     9644.11   \n2019-11-26  36076  1005  119381.06  119924     114789.00     5135.00   \n2019-11-28  39012   945  126801.92  127482     126480.00     1002.00   \n2019-11-30  17276   442   59432.80   59617      59617.00        0.00   \n\n            销售量（含拒退）  销售量（不含拒退）  销售额（含满减含拒退）  销售额（扣满减含拒退）  ...  加购物车人数  拒收量  \\\n日期                                                         ...                \n2019-11-16       650        563       141918        90578  ...   11494    5   \n2019-11-18       740        649       161639        93458  ...   13995    8   \n2019-11-20       556        492       121421        76592  ...    9263    7   \n2019-11-22       425        390        96412        61512  ...    8293    2   \n2019-11-24       678        611       143539        90401  ...   11917    2   \n2019-11-26      1006        971       210339       154451  ...   18516    4   \n2019-11-28       947        942       217939       144242  ...   17014    2   \n2019-11-30       450        450       108938        66977  ...    9023    0   \n\n               拒收率  拒收金额  退货量      退货率   退货金额  拒退量      拒退率   拒退金额  \n日期                                                                  \n2019-11-16  1.4414   853   82  19.3126  12323   87  20.7540  13176  \n2019-11-18  1.0544  1143   83  20.4647  10986   91  21.5191  12129  \n2019-11-20  3.3415  1095   57  15.2849   7963   64  18.6263   9058  \n2019-11-22  0.0945   344   33   9.7153   5780   35   9.8098   6124  \n2019-11-24  0.5833   188   65  18.4187  10123   67  19.0020  10311  \n2019-11-26  1.4054   752   31   6.8665   5523   35   8.2719   6275  \n2019-11-28  0.5904   472    3   0.1531    530    5   0.7434   1002  \n2019-11-30  0.0000     0    0   0.0000      0    0   0.0000      0  \n\n[8 rows x 31 columns]",
      "text/html": "<div>\n<style scoped>\n    .dataframe tbody tr th:only-of-type {\n        vertical-align: middle;\n    }\n\n    .dataframe tbody tr th {\n        vertical-align: top;\n    }\n\n    .dataframe thead th {\n        text-align: right;\n    }\n</style>\n<table border=\"1\" class=\"dataframe\">\n  <thead>\n    <tr style=\"text-align: right;\">\n      <th></th>\n      <th>售卖价</th>\n      <th>客户数</th>\n      <th>实收金额（含拒退）</th>\n      <th>销售额</th>\n      <th>销售额（到手价不含拒退）</th>\n      <th>拒退销售额（到手价）</th>\n      <th>销售量（含拒退）</th>\n      <th>销售量（不含拒退）</th>\n      <th>销售额（含满减含拒退）</th>\n      <th>销售额（扣满减含拒退）</th>\n      <th>...</th>\n      <th>加购物车人数</th>\n      <th>拒收量</th>\n      <th>拒收率</th>\n      <th>拒收金额</th>\n      <th>退货量</th>\n      <th>退货率</th>\n      <th>退货金额</th>\n      <th>拒退量</th>\n      <th>拒退率</th>\n      <th>拒退金额</th>\n    </tr>\n    <tr>\n      <th>日期</th>\n      <th></th>\n      <th></th>\n      <th></th>\n      <th></th>\n      <th></th>\n      <th></th>\n      <th></th>\n      <th></th>\n      <th></th>\n      <th></th>\n      <th></th>\n      <th></th>\n      <th></th>\n      <th></th>\n      <th></th>\n      <th></th>\n      <th></th>\n      <th></th>\n      <th></th>\n      <th></th>\n      <th></th>\n    </tr>\n  </thead>\n  <tbody>\n    <tr>\n      <th>2019-11-16</th>\n      <td>26266</td>\n      <td>653</td>\n      <td>78141.60</td>\n      <td>78548</td>\n      <td>66582.92</td>\n      <td>11965.08</td>\n      <td>650</td>\n      <td>563</td>\n      <td>141918</td>\n      <td>90578</td>\n      <td>...</td>\n      <td>11494</td>\n      <td>5</td>\n      <td>1.4414</td>\n      <td>853</td>\n      <td>82</td>\n      <td>19.3126</td>\n      <td>12323</td>\n      <td>87</td>\n      <td>20.7540</td>\n      <td>13176</td>\n    </tr>\n    <tr>\n      <th>2019-11-18</th>\n      <td>37719</td>\n      <td>749</td>\n      <td>91390.14</td>\n      <td>91738</td>\n      <td>79827.24</td>\n      <td>11910.76</td>\n      <td>740</td>\n      <td>649</td>\n      <td>161639</td>\n      <td>93458</td>\n      <td>...</td>\n      <td>13995</td>\n      <td>8</td>\n      <td>1.0544</td>\n      <td>1143</td>\n      <td>83</td>\n      <td>20.4647</td>\n      <td>10986</td>\n      <td>91</td>\n      <td>21.5191</td>\n      <td>12129</td>\n    </tr>\n    <tr>\n      <th>2019-11-20</th>\n      <td>31474</td>\n      <td>561</td>\n      <td>72374.95</td>\n      <td>72722</td>\n      <td>63791.34</td>\n      <td>8930.66</td>\n      <td>556</td>\n      <td>492</td>\n      <td>121421</td>\n      <td>76592</td>\n      <td>...</td>\n      <td>9263</td>\n      <td>7</td>\n      <td>3.3415</td>\n      <td>1095</td>\n      <td>57</td>\n      <td>15.2849</td>\n      <td>7963</td>\n      <td>64</td>\n      <td>18.6263</td>\n      <td>9058</td>\n    </tr>\n    <tr>\n      <th>2019-11-22</th>\n      <td>25057</td>\n      <td>433</td>\n      <td>55361.47</td>\n      <td>55632</td>\n      <td>50268.00</td>\n      <td>5364.00</td>\n      <td>425</td>\n      <td>390</td>\n      <td>96412</td>\n      <td>61512</td>\n      <td>...</td>\n      <td>8293</td>\n      <td>2</td>\n      <td>0.0945</td>\n      <td>344</td>\n      <td>33</td>\n      <td>9.7153</td>\n      <td>5780</td>\n      <td>35</td>\n      <td>9.8098</td>\n      <td>6124</td>\n    </tr>\n    <tr>\n      <th>2019-11-24</th>\n      <td>30392</td>\n      <td>685</td>\n      <td>80421.07</td>\n      <td>80981</td>\n      <td>71336.89</td>\n      <td>9644.11</td>\n      <td>678</td>\n      <td>611</td>\n      <td>143539</td>\n      <td>90401</td>\n      <td>...</td>\n      <td>11917</td>\n      <td>2</td>\n      <td>0.5833</td>\n      <td>188</td>\n      <td>65</td>\n      <td>18.4187</td>\n      <td>10123</td>\n      <td>67</td>\n      <td>19.0020</td>\n      <td>10311</td>\n    </tr>\n    <tr>\n      <th>2019-11-26</th>\n      <td>36076</td>\n      <td>1005</td>\n      <td>119381.06</td>\n      <td>119924</td>\n      <td>114789.00</td>\n      <td>5135.00</td>\n      <td>1006</td>\n      <td>971</td>\n      <td>210339</td>\n      <td>154451</td>\n      <td>...</td>\n      <td>18516</td>\n      <td>4</td>\n      <td>1.4054</td>\n      <td>752</td>\n      <td>31</td>\n      <td>6.8665</td>\n      <td>5523</td>\n      <td>35</td>\n      <td>8.2719</td>\n      <td>6275</td>\n    </tr>\n    <tr>\n      <th>2019-11-28</th>\n      <td>39012</td>\n      <td>945</td>\n      <td>126801.92</td>\n      <td>127482</td>\n      <td>126480.00</td>\n      <td>1002.00</td>\n      <td>947</td>\n      <td>942</td>\n      <td>217939</td>\n      <td>144242</td>\n      <td>...</td>\n      <td>17014</td>\n      <td>2</td>\n      <td>0.5904</td>\n      <td>472</td>\n      <td>3</td>\n      <td>0.1531</td>\n      <td>530</td>\n      <td>5</td>\n      <td>0.7434</td>\n      <td>1002</td>\n    </tr>\n    <tr>\n      <th>2019-11-30</th>\n      <td>17276</td>\n      <td>442</td>\n      <td>59432.80</td>\n      <td>59617</td>\n      <td>59617.00</td>\n      <td>0.00</td>\n      <td>450</td>\n      <td>450</td>\n      <td>108938</td>\n      <td>66977</td>\n      <td>...</td>\n      <td>9023</td>\n      <td>0</td>\n      <td>0.0000</td>\n      <td>0</td>\n      <td>0</td>\n      <td>0.0000</td>\n      <td>0</td>\n      <td>0</td>\n      <td>0.0000</td>\n      <td>0</td>\n    </tr>\n  </tbody>\n</table>\n<p>8 rows × 31 columns</p>\n</div>"
     },
     "execution_count": 94,
     "metadata": {},
     "output_type": "execute_result"
    }
   ],
   "source": [
    "df.resample('2D', on='日期').sum()"
   ],
   "metadata": {
    "collapsed": false,
    "pycharm": {
     "name": "#%%\n"
    }
   }
  },
  {
   "cell_type": "code",
   "execution_count": 95,
   "outputs": [
    {
     "data": {
      "text/plain": "                         商品名称  热销度      首次售卖时间   尺码    三级品类类型  售卖价  客户数  \\\n货号     日期                                                                 \nABEEAA 2019-11-16  厚长袖家居服女士睡衣  畅销款  2019-10-21    M  女士睡衣/家居服  429    1   \nBAEBEF 2019-11-30  玉兔绒家居服女士睡衣  畅销款  2019-09-05    L  女士睡衣/家居服  319    1   \nEEBDAD 2019-11-23  棉长袖家居服女士睡衣  畅销款  2019-11-02    S  女士睡衣/家居服  389    1   \nBCFBFD 2019-11-24  约打底4条装女士内裤  畅销款  2019-08-21    L      女士内裤   69   15   \nCBFAED 2019-11-26  舒适两条装女士安全裤  畅销款  2019-08-28    L      女士内裤   69    1   \n...                       ...  ...         ...  ...       ...  ...  ...   \nFDFFBF 2019-11-16  厚长款家居服女童睡衣  畅销款  2019-10-08  140   儿童睡衣家居服  229    2   \nCAACAF 2019-11-20  力中腰平角裤男士内裤  畅销款  2019-10-08  XXL      男士内裤  109    1   \nEDBCD  2019-11-24  尚英文单裤女士长睡裤  畅销款  2019-08-21  XXL     女式休闲裤  119    1   \nDDFBBE 2019-11-22  绒夹棉家居服女士睡衣  畅销款  2019-11-05    L  女士睡衣/家居服  399    4   \nEDBFCC 2019-11-23  瑚绒女士家居服睡衣女  畅销款  2019-09-05   XL  女士睡衣/家居服  209   23   \n\n                   实收金额（含拒退）   销售额  销售额（到手价不含拒退）  ...  加购物车人数  拒收量  拒收率  拒收金额  \\\n货号     日期                                         ...                           \nABEEAA 2019-11-16     242.90   299         299.0  ...       0    0  0.0     0   \nBAEBEF 2019-11-30     158.00   148         148.0  ...       9    0  0.0     0   \nEEBDAD 2019-11-23     288.00   278         278.0  ...      15    0  0.0     0   \nBCFBFD 2019-11-24     609.70   615         615.0  ...      92    0  0.0     0   \nCBFAED 2019-11-26      27.38    28          28.0  ...      15    0  0.0     0   \n...                      ...   ...           ...  ...     ...  ...  ...   ...   \nFDFFBF 2019-11-16     291.13   292         292.0  ...      47    0  0.0     0   \nCAACAF 2019-11-20      76.30    78           0.0  ...      22    1  1.0    78   \nEDBCD  2019-11-24      58.00    58          58.0  ...      44    0  0.0     0   \nDDFBBE 2019-11-22    1276.00  1276         957.0  ...      56    0  0.0     0   \nEDBFCC 2019-11-23    2179.45  2178        1881.0  ...     482    0  0.0     0   \n\n                   退货量     退货率  退货金额  拒退量     拒退率  拒退金额  \n货号     日期                                                \nABEEAA 2019-11-16    0  0.0000     0    0  0.0000     0  \nBAEBEF 2019-11-30    0  0.0000     0    0  0.0000     0  \nEEBDAD 2019-11-23    0  0.0000     0    0  0.0000     0  \nBCFBFD 2019-11-24    0  0.0000     0    0  0.0000     0  \nCBFAED 2019-11-26    0  0.0000     0    0  0.0000     0  \n...                ...     ...   ...  ...     ...   ...  \nFDFFBF 2019-11-16    0  0.0000     0    0  0.0000     0  \nCAACAF 2019-11-20    0  0.0000     0    1  1.0000    78  \nEDBCD  2019-11-24    0  0.0000     0    0  0.0000     0  \nDDFBBE 2019-11-22    1  0.2500   319    1  0.2500   319  \nEDBFCC 2019-11-23    3  0.1364   627    3  0.1364   627  \n\n[1000 rows x 36 columns]",
      "text/html": "<div>\n<style scoped>\n    .dataframe tbody tr th:only-of-type {\n        vertical-align: middle;\n    }\n\n    .dataframe tbody tr th {\n        vertical-align: top;\n    }\n\n    .dataframe thead th {\n        text-align: right;\n    }\n</style>\n<table border=\"1\" class=\"dataframe\">\n  <thead>\n    <tr style=\"text-align: right;\">\n      <th></th>\n      <th></th>\n      <th>商品名称</th>\n      <th>热销度</th>\n      <th>首次售卖时间</th>\n      <th>尺码</th>\n      <th>三级品类类型</th>\n      <th>售卖价</th>\n      <th>客户数</th>\n      <th>实收金额（含拒退）</th>\n      <th>销售额</th>\n      <th>销售额（到手价不含拒退）</th>\n      <th>...</th>\n      <th>加购物车人数</th>\n      <th>拒收量</th>\n      <th>拒收率</th>\n      <th>拒收金额</th>\n      <th>退货量</th>\n      <th>退货率</th>\n      <th>退货金额</th>\n      <th>拒退量</th>\n      <th>拒退率</th>\n      <th>拒退金额</th>\n    </tr>\n    <tr>\n      <th>货号</th>\n      <th>日期</th>\n      <th></th>\n      <th></th>\n      <th></th>\n      <th></th>\n      <th></th>\n      <th></th>\n      <th></th>\n      <th></th>\n      <th></th>\n      <th></th>\n      <th></th>\n      <th></th>\n      <th></th>\n      <th></th>\n      <th></th>\n      <th></th>\n      <th></th>\n      <th></th>\n      <th></th>\n      <th></th>\n      <th></th>\n    </tr>\n  </thead>\n  <tbody>\n    <tr>\n      <th>ABEEAA</th>\n      <th>2019-11-16</th>\n      <td>厚长袖家居服女士睡衣</td>\n      <td>畅销款</td>\n      <td>2019-10-21</td>\n      <td>M</td>\n      <td>女士睡衣/家居服</td>\n      <td>429</td>\n      <td>1</td>\n      <td>242.90</td>\n      <td>299</td>\n      <td>299.0</td>\n      <td>...</td>\n      <td>0</td>\n      <td>0</td>\n      <td>0.0</td>\n      <td>0</td>\n      <td>0</td>\n      <td>0.0000</td>\n      <td>0</td>\n      <td>0</td>\n      <td>0.0000</td>\n      <td>0</td>\n    </tr>\n    <tr>\n      <th>BAEBEF</th>\n      <th>2019-11-30</th>\n      <td>玉兔绒家居服女士睡衣</td>\n      <td>畅销款</td>\n      <td>2019-09-05</td>\n      <td>L</td>\n      <td>女士睡衣/家居服</td>\n      <td>319</td>\n      <td>1</td>\n      <td>158.00</td>\n      <td>148</td>\n      <td>148.0</td>\n      <td>...</td>\n      <td>9</td>\n      <td>0</td>\n      <td>0.0</td>\n      <td>0</td>\n      <td>0</td>\n      <td>0.0000</td>\n      <td>0</td>\n      <td>0</td>\n      <td>0.0000</td>\n      <td>0</td>\n    </tr>\n    <tr>\n      <th>EEBDAD</th>\n      <th>2019-11-23</th>\n      <td>棉长袖家居服女士睡衣</td>\n      <td>畅销款</td>\n      <td>2019-11-02</td>\n      <td>S</td>\n      <td>女士睡衣/家居服</td>\n      <td>389</td>\n      <td>1</td>\n      <td>288.00</td>\n      <td>278</td>\n      <td>278.0</td>\n      <td>...</td>\n      <td>15</td>\n      <td>0</td>\n      <td>0.0</td>\n      <td>0</td>\n      <td>0</td>\n      <td>0.0000</td>\n      <td>0</td>\n      <td>0</td>\n      <td>0.0000</td>\n      <td>0</td>\n    </tr>\n    <tr>\n      <th>BCFBFD</th>\n      <th>2019-11-24</th>\n      <td>约打底4条装女士内裤</td>\n      <td>畅销款</td>\n      <td>2019-08-21</td>\n      <td>L</td>\n      <td>女士内裤</td>\n      <td>69</td>\n      <td>15</td>\n      <td>609.70</td>\n      <td>615</td>\n      <td>615.0</td>\n      <td>...</td>\n      <td>92</td>\n      <td>0</td>\n      <td>0.0</td>\n      <td>0</td>\n      <td>0</td>\n      <td>0.0000</td>\n      <td>0</td>\n      <td>0</td>\n      <td>0.0000</td>\n      <td>0</td>\n    </tr>\n    <tr>\n      <th>CBFAED</th>\n      <th>2019-11-26</th>\n      <td>舒适两条装女士安全裤</td>\n      <td>畅销款</td>\n      <td>2019-08-28</td>\n      <td>L</td>\n      <td>女士内裤</td>\n      <td>69</td>\n      <td>1</td>\n      <td>27.38</td>\n      <td>28</td>\n      <td>28.0</td>\n      <td>...</td>\n      <td>15</td>\n      <td>0</td>\n      <td>0.0</td>\n      <td>0</td>\n      <td>0</td>\n      <td>0.0000</td>\n      <td>0</td>\n      <td>0</td>\n      <td>0.0000</td>\n      <td>0</td>\n    </tr>\n    <tr>\n      <th>...</th>\n      <th>...</th>\n      <td>...</td>\n      <td>...</td>\n      <td>...</td>\n      <td>...</td>\n      <td>...</td>\n      <td>...</td>\n      <td>...</td>\n      <td>...</td>\n      <td>...</td>\n      <td>...</td>\n      <td>...</td>\n      <td>...</td>\n      <td>...</td>\n      <td>...</td>\n      <td>...</td>\n      <td>...</td>\n      <td>...</td>\n      <td>...</td>\n      <td>...</td>\n      <td>...</td>\n      <td>...</td>\n    </tr>\n    <tr>\n      <th>FDFFBF</th>\n      <th>2019-11-16</th>\n      <td>厚长款家居服女童睡衣</td>\n      <td>畅销款</td>\n      <td>2019-10-08</td>\n      <td>140</td>\n      <td>儿童睡衣家居服</td>\n      <td>229</td>\n      <td>2</td>\n      <td>291.13</td>\n      <td>292</td>\n      <td>292.0</td>\n      <td>...</td>\n      <td>47</td>\n      <td>0</td>\n      <td>0.0</td>\n      <td>0</td>\n      <td>0</td>\n      <td>0.0000</td>\n      <td>0</td>\n      <td>0</td>\n      <td>0.0000</td>\n      <td>0</td>\n    </tr>\n    <tr>\n      <th>CAACAF</th>\n      <th>2019-11-20</th>\n      <td>力中腰平角裤男士内裤</td>\n      <td>畅销款</td>\n      <td>2019-10-08</td>\n      <td>XXL</td>\n      <td>男士内裤</td>\n      <td>109</td>\n      <td>1</td>\n      <td>76.30</td>\n      <td>78</td>\n      <td>0.0</td>\n      <td>...</td>\n      <td>22</td>\n      <td>1</td>\n      <td>1.0</td>\n      <td>78</td>\n      <td>0</td>\n      <td>0.0000</td>\n      <td>0</td>\n      <td>1</td>\n      <td>1.0000</td>\n      <td>78</td>\n    </tr>\n    <tr>\n      <th>EDBCD</th>\n      <th>2019-11-24</th>\n      <td>尚英文单裤女士长睡裤</td>\n      <td>畅销款</td>\n      <td>2019-08-21</td>\n      <td>XXL</td>\n      <td>女式休闲裤</td>\n      <td>119</td>\n      <td>1</td>\n      <td>58.00</td>\n      <td>58</td>\n      <td>58.0</td>\n      <td>...</td>\n      <td>44</td>\n      <td>0</td>\n      <td>0.0</td>\n      <td>0</td>\n      <td>0</td>\n      <td>0.0000</td>\n      <td>0</td>\n      <td>0</td>\n      <td>0.0000</td>\n      <td>0</td>\n    </tr>\n    <tr>\n      <th>DDFBBE</th>\n      <th>2019-11-22</th>\n      <td>绒夹棉家居服女士睡衣</td>\n      <td>畅销款</td>\n      <td>2019-11-05</td>\n      <td>L</td>\n      <td>女士睡衣/家居服</td>\n      <td>399</td>\n      <td>4</td>\n      <td>1276.00</td>\n      <td>1276</td>\n      <td>957.0</td>\n      <td>...</td>\n      <td>56</td>\n      <td>0</td>\n      <td>0.0</td>\n      <td>0</td>\n      <td>1</td>\n      <td>0.2500</td>\n      <td>319</td>\n      <td>1</td>\n      <td>0.2500</td>\n      <td>319</td>\n    </tr>\n    <tr>\n      <th>EDBFCC</th>\n      <th>2019-11-23</th>\n      <td>瑚绒女士家居服睡衣女</td>\n      <td>畅销款</td>\n      <td>2019-09-05</td>\n      <td>XL</td>\n      <td>女士睡衣/家居服</td>\n      <td>209</td>\n      <td>23</td>\n      <td>2179.45</td>\n      <td>2178</td>\n      <td>1881.0</td>\n      <td>...</td>\n      <td>482</td>\n      <td>0</td>\n      <td>0.0</td>\n      <td>0</td>\n      <td>3</td>\n      <td>0.1364</td>\n      <td>627</td>\n      <td>3</td>\n      <td>0.1364</td>\n      <td>627</td>\n    </tr>\n  </tbody>\n</table>\n<p>1000 rows × 36 columns</p>\n</div>"
     },
     "execution_count": 95,
     "metadata": {},
     "output_type": "execute_result"
    }
   ],
   "source": [
    "df = df.set_index(['货号', '日期'])\n",
    "df"
   ],
   "metadata": {
    "collapsed": false,
    "pycharm": {
     "name": "#%%\n"
    }
   }
  },
  {
   "cell_type": "code",
   "execution_count": 97,
   "outputs": [
    {
     "data": {
      "text/plain": "              售卖价  客户数  实收金额（含拒退）    销售额  销售额（到手价不含拒退）  拒退销售额（到手价）  销售量（含拒退）  \\\n日期                                                                             \n2019-11-16  14250  239   31688.22  31793      26214.00     5579.00       236   \n2019-11-17  12016  414   46453.38  46755      40368.92     6386.08       414   \n2019-11-18  19225  323   37031.12  37190      31178.47     6011.53       322   \n2019-11-19  18494  426   54359.02  54548      48648.77     5899.23       418   \n2019-11-20  16154  377   48778.36  49037      43386.34     5650.66       373   \n2019-11-21  15320  184   23596.59  23685      20405.00     3280.00       183   \n2019-11-22  12382  209   29579.42  29685      26932.00     2753.00       206   \n2019-11-23  12675  224   25782.05  25947      23336.00     2611.00       219   \n2019-11-24  15292  422   46338.85  46400      41067.88     5332.12       418   \n2019-11-25  15100  263   34082.22  34581      30269.01     4311.99       260   \n2019-11-26  15711  289   38027.08  38106      34961.00     3145.00       283   \n2019-11-27  20365  716   81353.98  81818      79828.00     1990.00       723   \n2019-11-28  22309  622   83157.32  83648      82849.00      799.00       621   \n2019-11-29  16703  323   43644.60  43834      43631.00      203.00       326   \n2019-11-30  17276  442   59432.80  59617      59617.00        0.00       450   \n\n            销售量（不含拒退）  销售额（含满减含拒退）  销售额（扣满减含拒退）  ...  加购物车人数  拒收量     拒收率  \\\n日期                                               ...                        \n2019-11-16        198        56621        37073  ...    4066    1  0.3333   \n2019-11-17        365        85297        53505  ...    7428    4  1.1081   \n2019-11-18        278        65735        37840  ...    6270    3  0.2470   \n2019-11-19        371        95904        55618  ...    7725    5  0.8074   \n2019-11-20        331        83005        52507  ...    5318    3  2.0239   \n2019-11-21        161        38416        24085  ...    3945    4  1.3176   \n2019-11-22        188        49654        32985  ...    3891    2  0.0945   \n2019-11-23        202        46758        28527  ...    4402    0  0.0000   \n2019-11-24        378        84296        55820  ...    7556    0  0.0000   \n2019-11-25        233        59243        34581  ...    4361    2  0.5833   \n2019-11-26        263        64588        42576  ...    5926    4  1.4054   \n2019-11-27        708       145751       111875  ...   12590    0  0.0000   \n2019-11-28        617       145326        93978  ...   10125    1  0.0904   \n2019-11-29        325        72613        50264  ...    6889    1  0.5000   \n2019-11-30        450       108938        66977  ...    9023    0  0.0000   \n\n            拒收金额  退货量      退货率  退货金额  拒退量      拒退率  拒退金额  \n日期                                                        \n2019-11-16   264   37  10.3005  5975   38  10.6338  6239  \n2019-11-17   589   45   9.0121  6348   49  10.1202  6937  \n2019-11-18   386   41  13.0187  5646   44  13.2658  6032  \n2019-11-19   757   42   7.4460  5340   47   8.2533  6097  \n2019-11-20   424   39   7.8515  5354   42   9.8753  5778  \n2019-11-21   671   18   7.4334  2609   22   8.7510  3280  \n2019-11-22   344   16   4.7688  2759   18   4.8633  3103  \n2019-11-23     0   17   4.9465  3021   17   4.9465  3021  \n2019-11-24     0   40   9.6932  5991   40   9.6932  5991  \n2019-11-25   188   25   8.7255  4132   27   9.3088  4320  \n2019-11-26   752   16   4.4189  2723   20   5.8243  3475  \n2019-11-27     0   15   2.4476  2800   15   2.4476  2800  \n2019-11-28   269    3   0.1531   530    4   0.2434   799  \n2019-11-29   203    0   0.0000     0    1   0.5000   203  \n2019-11-30     0    0   0.0000     0    0   0.0000     0  \n\n[15 rows x 31 columns]",
      "text/html": "<div>\n<style scoped>\n    .dataframe tbody tr th:only-of-type {\n        vertical-align: middle;\n    }\n\n    .dataframe tbody tr th {\n        vertical-align: top;\n    }\n\n    .dataframe thead th {\n        text-align: right;\n    }\n</style>\n<table border=\"1\" class=\"dataframe\">\n  <thead>\n    <tr style=\"text-align: right;\">\n      <th></th>\n      <th>售卖价</th>\n      <th>客户数</th>\n      <th>实收金额（含拒退）</th>\n      <th>销售额</th>\n      <th>销售额（到手价不含拒退）</th>\n      <th>拒退销售额（到手价）</th>\n      <th>销售量（含拒退）</th>\n      <th>销售量（不含拒退）</th>\n      <th>销售额（含满减含拒退）</th>\n      <th>销售额（扣满减含拒退）</th>\n      <th>...</th>\n      <th>加购物车人数</th>\n      <th>拒收量</th>\n      <th>拒收率</th>\n      <th>拒收金额</th>\n      <th>退货量</th>\n      <th>退货率</th>\n      <th>退货金额</th>\n      <th>拒退量</th>\n      <th>拒退率</th>\n      <th>拒退金额</th>\n    </tr>\n    <tr>\n      <th>日期</th>\n      <th></th>\n      <th></th>\n      <th></th>\n      <th></th>\n      <th></th>\n      <th></th>\n      <th></th>\n      <th></th>\n      <th></th>\n      <th></th>\n      <th></th>\n      <th></th>\n      <th></th>\n      <th></th>\n      <th></th>\n      <th></th>\n      <th></th>\n      <th></th>\n      <th></th>\n      <th></th>\n      <th></th>\n    </tr>\n  </thead>\n  <tbody>\n    <tr>\n      <th>2019-11-16</th>\n      <td>14250</td>\n      <td>239</td>\n      <td>31688.22</td>\n      <td>31793</td>\n      <td>26214.00</td>\n      <td>5579.00</td>\n      <td>236</td>\n      <td>198</td>\n      <td>56621</td>\n      <td>37073</td>\n      <td>...</td>\n      <td>4066</td>\n      <td>1</td>\n      <td>0.3333</td>\n      <td>264</td>\n      <td>37</td>\n      <td>10.3005</td>\n      <td>5975</td>\n      <td>38</td>\n      <td>10.6338</td>\n      <td>6239</td>\n    </tr>\n    <tr>\n      <th>2019-11-17</th>\n      <td>12016</td>\n      <td>414</td>\n      <td>46453.38</td>\n      <td>46755</td>\n      <td>40368.92</td>\n      <td>6386.08</td>\n      <td>414</td>\n      <td>365</td>\n      <td>85297</td>\n      <td>53505</td>\n      <td>...</td>\n      <td>7428</td>\n      <td>4</td>\n      <td>1.1081</td>\n      <td>589</td>\n      <td>45</td>\n      <td>9.0121</td>\n      <td>6348</td>\n      <td>49</td>\n      <td>10.1202</td>\n      <td>6937</td>\n    </tr>\n    <tr>\n      <th>2019-11-18</th>\n      <td>19225</td>\n      <td>323</td>\n      <td>37031.12</td>\n      <td>37190</td>\n      <td>31178.47</td>\n      <td>6011.53</td>\n      <td>322</td>\n      <td>278</td>\n      <td>65735</td>\n      <td>37840</td>\n      <td>...</td>\n      <td>6270</td>\n      <td>3</td>\n      <td>0.2470</td>\n      <td>386</td>\n      <td>41</td>\n      <td>13.0187</td>\n      <td>5646</td>\n      <td>44</td>\n      <td>13.2658</td>\n      <td>6032</td>\n    </tr>\n    <tr>\n      <th>2019-11-19</th>\n      <td>18494</td>\n      <td>426</td>\n      <td>54359.02</td>\n      <td>54548</td>\n      <td>48648.77</td>\n      <td>5899.23</td>\n      <td>418</td>\n      <td>371</td>\n      <td>95904</td>\n      <td>55618</td>\n      <td>...</td>\n      <td>7725</td>\n      <td>5</td>\n      <td>0.8074</td>\n      <td>757</td>\n      <td>42</td>\n      <td>7.4460</td>\n      <td>5340</td>\n      <td>47</td>\n      <td>8.2533</td>\n      <td>6097</td>\n    </tr>\n    <tr>\n      <th>2019-11-20</th>\n      <td>16154</td>\n      <td>377</td>\n      <td>48778.36</td>\n      <td>49037</td>\n      <td>43386.34</td>\n      <td>5650.66</td>\n      <td>373</td>\n      <td>331</td>\n      <td>83005</td>\n      <td>52507</td>\n      <td>...</td>\n      <td>5318</td>\n      <td>3</td>\n      <td>2.0239</td>\n      <td>424</td>\n      <td>39</td>\n      <td>7.8515</td>\n      <td>5354</td>\n      <td>42</td>\n      <td>9.8753</td>\n      <td>5778</td>\n    </tr>\n    <tr>\n      <th>2019-11-21</th>\n      <td>15320</td>\n      <td>184</td>\n      <td>23596.59</td>\n      <td>23685</td>\n      <td>20405.00</td>\n      <td>3280.00</td>\n      <td>183</td>\n      <td>161</td>\n      <td>38416</td>\n      <td>24085</td>\n      <td>...</td>\n      <td>3945</td>\n      <td>4</td>\n      <td>1.3176</td>\n      <td>671</td>\n      <td>18</td>\n      <td>7.4334</td>\n      <td>2609</td>\n      <td>22</td>\n      <td>8.7510</td>\n      <td>3280</td>\n    </tr>\n    <tr>\n      <th>2019-11-22</th>\n      <td>12382</td>\n      <td>209</td>\n      <td>29579.42</td>\n      <td>29685</td>\n      <td>26932.00</td>\n      <td>2753.00</td>\n      <td>206</td>\n      <td>188</td>\n      <td>49654</td>\n      <td>32985</td>\n      <td>...</td>\n      <td>3891</td>\n      <td>2</td>\n      <td>0.0945</td>\n      <td>344</td>\n      <td>16</td>\n      <td>4.7688</td>\n      <td>2759</td>\n      <td>18</td>\n      <td>4.8633</td>\n      <td>3103</td>\n    </tr>\n    <tr>\n      <th>2019-11-23</th>\n      <td>12675</td>\n      <td>224</td>\n      <td>25782.05</td>\n      <td>25947</td>\n      <td>23336.00</td>\n      <td>2611.00</td>\n      <td>219</td>\n      <td>202</td>\n      <td>46758</td>\n      <td>28527</td>\n      <td>...</td>\n      <td>4402</td>\n      <td>0</td>\n      <td>0.0000</td>\n      <td>0</td>\n      <td>17</td>\n      <td>4.9465</td>\n      <td>3021</td>\n      <td>17</td>\n      <td>4.9465</td>\n      <td>3021</td>\n    </tr>\n    <tr>\n      <th>2019-11-24</th>\n      <td>15292</td>\n      <td>422</td>\n      <td>46338.85</td>\n      <td>46400</td>\n      <td>41067.88</td>\n      <td>5332.12</td>\n      <td>418</td>\n      <td>378</td>\n      <td>84296</td>\n      <td>55820</td>\n      <td>...</td>\n      <td>7556</td>\n      <td>0</td>\n      <td>0.0000</td>\n      <td>0</td>\n      <td>40</td>\n      <td>9.6932</td>\n      <td>5991</td>\n      <td>40</td>\n      <td>9.6932</td>\n      <td>5991</td>\n    </tr>\n    <tr>\n      <th>2019-11-25</th>\n      <td>15100</td>\n      <td>263</td>\n      <td>34082.22</td>\n      <td>34581</td>\n      <td>30269.01</td>\n      <td>4311.99</td>\n      <td>260</td>\n      <td>233</td>\n      <td>59243</td>\n      <td>34581</td>\n      <td>...</td>\n      <td>4361</td>\n      <td>2</td>\n      <td>0.5833</td>\n      <td>188</td>\n      <td>25</td>\n      <td>8.7255</td>\n      <td>4132</td>\n      <td>27</td>\n      <td>9.3088</td>\n      <td>4320</td>\n    </tr>\n    <tr>\n      <th>2019-11-26</th>\n      <td>15711</td>\n      <td>289</td>\n      <td>38027.08</td>\n      <td>38106</td>\n      <td>34961.00</td>\n      <td>3145.00</td>\n      <td>283</td>\n      <td>263</td>\n      <td>64588</td>\n      <td>42576</td>\n      <td>...</td>\n      <td>5926</td>\n      <td>4</td>\n      <td>1.4054</td>\n      <td>752</td>\n      <td>16</td>\n      <td>4.4189</td>\n      <td>2723</td>\n      <td>20</td>\n      <td>5.8243</td>\n      <td>3475</td>\n    </tr>\n    <tr>\n      <th>2019-11-27</th>\n      <td>20365</td>\n      <td>716</td>\n      <td>81353.98</td>\n      <td>81818</td>\n      <td>79828.00</td>\n      <td>1990.00</td>\n      <td>723</td>\n      <td>708</td>\n      <td>145751</td>\n      <td>111875</td>\n      <td>...</td>\n      <td>12590</td>\n      <td>0</td>\n      <td>0.0000</td>\n      <td>0</td>\n      <td>15</td>\n      <td>2.4476</td>\n      <td>2800</td>\n      <td>15</td>\n      <td>2.4476</td>\n      <td>2800</td>\n    </tr>\n    <tr>\n      <th>2019-11-28</th>\n      <td>22309</td>\n      <td>622</td>\n      <td>83157.32</td>\n      <td>83648</td>\n      <td>82849.00</td>\n      <td>799.00</td>\n      <td>621</td>\n      <td>617</td>\n      <td>145326</td>\n      <td>93978</td>\n      <td>...</td>\n      <td>10125</td>\n      <td>1</td>\n      <td>0.0904</td>\n      <td>269</td>\n      <td>3</td>\n      <td>0.1531</td>\n      <td>530</td>\n      <td>4</td>\n      <td>0.2434</td>\n      <td>799</td>\n    </tr>\n    <tr>\n      <th>2019-11-29</th>\n      <td>16703</td>\n      <td>323</td>\n      <td>43644.60</td>\n      <td>43834</td>\n      <td>43631.00</td>\n      <td>203.00</td>\n      <td>326</td>\n      <td>325</td>\n      <td>72613</td>\n      <td>50264</td>\n      <td>...</td>\n      <td>6889</td>\n      <td>1</td>\n      <td>0.5000</td>\n      <td>203</td>\n      <td>0</td>\n      <td>0.0000</td>\n      <td>0</td>\n      <td>1</td>\n      <td>0.5000</td>\n      <td>203</td>\n    </tr>\n    <tr>\n      <th>2019-11-30</th>\n      <td>17276</td>\n      <td>442</td>\n      <td>59432.80</td>\n      <td>59617</td>\n      <td>59617.00</td>\n      <td>0.00</td>\n      <td>450</td>\n      <td>450</td>\n      <td>108938</td>\n      <td>66977</td>\n      <td>...</td>\n      <td>9023</td>\n      <td>0</td>\n      <td>0.0000</td>\n      <td>0</td>\n      <td>0</td>\n      <td>0.0000</td>\n      <td>0</td>\n      <td>0</td>\n      <td>0.0000</td>\n      <td>0</td>\n    </tr>\n  </tbody>\n</table>\n<p>15 rows × 31 columns</p>\n</div>"
     },
     "execution_count": 97,
     "metadata": {},
     "output_type": "execute_result"
    }
   ],
   "source": [
    "df.resample('D', level=1).sum()"
   ],
   "metadata": {
    "collapsed": false,
    "pycharm": {
     "name": "#%%\n"
    }
   }
  },
  {
   "cell_type": "code",
   "execution_count": null,
   "outputs": [],
   "source": [
    "\n"
   ],
   "metadata": {
    "collapsed": false,
    "pycharm": {
     "name": "#%%\n"
    }
   }
  }
 ],
 "metadata": {
  "kernelspec": {
   "display_name": "Python 3",
   "language": "python",
   "name": "python3"
  },
  "language_info": {
   "codemirror_mode": {
    "name": "ipython",
    "version": 2
   },
   "file_extension": ".py",
   "mimetype": "text/x-python",
   "name": "python",
   "nbconvert_exporter": "python",
   "pygments_lexer": "ipython2",
   "version": "2.7.6"
  }
 },
 "nbformat": 4,
 "nbformat_minor": 0
}