{
 "cells": [
  {
   "cell_type": "code",
   "metadata": {
    "collapsed": true,
    "pycharm": {
     "name": "#%% OO-style (object oriented)\n"
    },
    "ExecuteTime": {
     "end_time": "2024-06-27T09:33:22.051895Z",
     "start_time": "2024-06-27T09:33:22.050385Z"
    }
   },
   "source": [],
   "outputs": [],
   "execution_count": null
  },
  {
   "cell_type": "code",
   "source": [
    "import pandas as pd\n",
    "import matplotlib.pyplot as plt"
   ],
   "metadata": {
    "collapsed": false,
    "pycharm": {
     "name": "#%% pyplot-style\n"
    },
    "ExecuteTime": {
     "end_time": "2024-06-27T09:33:22.059283Z",
     "start_time": "2024-06-27T09:33:22.053897Z"
    }
   },
   "outputs": [],
   "execution_count": 1
  },
  {
   "cell_type": "code",
   "source": [
    "df = pd.DataFrame({\n",
    "    'A': [1,2,3,4]\n",
    "})\n",
    "df['B'] = df['A'] ** 2\n",
    "df"
   ],
   "metadata": {
    "collapsed": false,
    "pycharm": {
     "name": "#%%\n"
    },
    "ExecuteTime": {
     "end_time": "2024-06-27T09:33:22.071865Z",
     "start_time": "2024-06-27T09:33:22.061295Z"
    }
   },
   "outputs": [
    {
     "data": {
      "text/plain": [
       "   A   B\n",
       "0  1   1\n",
       "1  2   4\n",
       "2  3   9\n",
       "3  4  16"
      ],
      "text/html": [
       "<div>\n",
       "<style scoped>\n",
       "    .dataframe tbody tr th:only-of-type {\n",
       "        vertical-align: middle;\n",
       "    }\n",
       "\n",
       "    .dataframe tbody tr th {\n",
       "        vertical-align: top;\n",
       "    }\n",
       "\n",
       "    .dataframe thead th {\n",
       "        text-align: right;\n",
       "    }\n",
       "</style>\n",
       "<table border=\"1\" class=\"dataframe\">\n",
       "  <thead>\n",
       "    <tr style=\"text-align: right;\">\n",
       "      <th></th>\n",
       "      <th>A</th>\n",
       "      <th>B</th>\n",
       "    </tr>\n",
       "  </thead>\n",
       "  <tbody>\n",
       "    <tr>\n",
       "      <th>0</th>\n",
       "      <td>1</td>\n",
       "      <td>1</td>\n",
       "    </tr>\n",
       "    <tr>\n",
       "      <th>1</th>\n",
       "      <td>2</td>\n",
       "      <td>4</td>\n",
       "    </tr>\n",
       "    <tr>\n",
       "      <th>2</th>\n",
       "      <td>3</td>\n",
       "      <td>9</td>\n",
       "    </tr>\n",
       "    <tr>\n",
       "      <th>3</th>\n",
       "      <td>4</td>\n",
       "      <td>16</td>\n",
       "    </tr>\n",
       "  </tbody>\n",
       "</table>\n",
       "</div>"
      ]
     },
     "execution_count": 2,
     "metadata": {},
     "output_type": "execute_result"
    }
   ],
   "execution_count": 2
  },
  {
   "cell_type": "code",
   "source": [
    "plt.rcParams['font.sans-serif'] = ['Hiragino Sans GB']  # mac\n",
    "# plt.rcParams['font.sans-serif'] = ['SimHei']  # win\n",
    "plt.rcParams['axes.unicode_minus'] = False\n",
    "\n",
    "\n",
    "# plt.figure(\n",
    "#     facecolor='white',\n",
    "#     figsize=(6, 6),\n",
    "#     dpi=100\n",
    "# )\n",
    "fig, ax = plt.subplots(\n",
    "    facecolor='white',\n",
    "    figsize=(6, 6),\n",
    "    dpi=100)\n",
    "\n",
    "ax.plot(df['A'], df['B'])\n",
    "ax.set_title('我是标题',\n",
    "          fontsize=30,\n",
    "          color='r'\n",
    "          )\n",
    "\n",
    "ax.set_xlabel('X轴',\n",
    "          fontsize=24,\n",
    "          color='g')\n",
    "ax.set_ylabel('Y轴',\n",
    "           fontsize=24,\n",
    "           color='b',\n",
    "           rotation=0,\n",
    "           labelpad=30)\n",
    "\n",
    "ax.set_xlim([-1, 5])\n",
    "ax.set_ylim([0, 20])\n",
    "# plt.xticks(fontsize=20)\n",
    "# plt.yticks([0,5,10,15,20], fontsize=20)\n",
    "\n",
    "ax.set_xticks([1,2,3,4])\n",
    "ax.set_yticks([1,4,9,16])\n",
    "ax.tick_params(labelsize=20)\n",
    "\n",
    "ax.xaxis.set_major_locator(\n",
    "    plt.MultipleLocator(2)\n",
    ")\n",
    "ax.xaxis.set_minor_locator(\n",
    "    plt.MultipleLocator(0.5)\n",
    ")\n",
    "ax.yaxis.set_major_locator(\n",
    "    plt.MultipleLocator(5)\n",
    ")\n",
    "ax.yaxis.set_minor_locator(\n",
    "    plt.MultipleLocator(1)\n",
    ")\n",
    "\n",
    "# plt.grid(color='y')\n",
    "ax.grid(color='y')"
   ],
   "metadata": {
    "collapsed": false,
    "pycharm": {
     "name": "#%%\n"
    },
    "ExecuteTime": {
     "end_time": "2024-06-27T09:33:22.273252Z",
     "start_time": "2024-06-27T09:33:22.074871Z"
    }
   },
   "outputs": [
    {
     "name": "stderr",
     "output_type": "stream",
     "text": [
      "findfont: Generic family 'sans-serif' not found because none of the following families were found: Hiragino Sans GB\n",
      "findfont: Generic family 'sans-serif' not found because none of the following families were found: Hiragino Sans GB\n",
      "findfont: Generic family 'sans-serif' not found because none of the following families were found: Hiragino Sans GB\n",
      "findfont: Generic family 'sans-serif' not found because none of the following families were found: Hiragino Sans GB\n",
      "findfont: Generic family 'sans-serif' not found because none of the following families were found: Hiragino Sans GB\n",
      "findfont: Generic family 'sans-serif' not found because none of the following families were found: Hiragino Sans GB\n",
      "D:\\venv\\py312\\Lib\\site-packages\\IPython\\core\\events.py:82: UserWarning: Glyph 36724 (\\N{CJK UNIFIED IDEOGRAPH-8F74}) missing from font(s) DejaVu Sans.\n",
      "  func(*args, **kwargs)\n",
      "findfont: Generic family 'sans-serif' not found because none of the following families were found: Hiragino Sans GB\n",
      "findfont: Generic family 'sans-serif' not found because none of the following families were found: Hiragino Sans GB\n",
      "findfont: Generic family 'sans-serif' not found because none of the following families were found: Hiragino Sans GB\n",
      "findfont: Generic family 'sans-serif' not found because none of the following families were found: Hiragino Sans GB\n",
      "findfont: Generic family 'sans-serif' not found because none of the following families were found: Hiragino Sans GB\n",
      "findfont: Generic family 'sans-serif' not found because none of the following families were found: Hiragino Sans GB\n",
      "findfont: Generic family 'sans-serif' not found because none of the following families were found: Hiragino Sans GB\n",
      "D:\\venv\\py312\\Lib\\site-packages\\IPython\\core\\events.py:82: UserWarning: Glyph 25105 (\\N{CJK UNIFIED IDEOGRAPH-6211}) missing from font(s) DejaVu Sans.\n",
      "  func(*args, **kwargs)\n",
      "D:\\venv\\py312\\Lib\\site-packages\\IPython\\core\\events.py:82: UserWarning: Glyph 26159 (\\N{CJK UNIFIED IDEOGRAPH-662F}) missing from font(s) DejaVu Sans.\n",
      "  func(*args, **kwargs)\n",
      "D:\\venv\\py312\\Lib\\site-packages\\IPython\\core\\events.py:82: UserWarning: Glyph 26631 (\\N{CJK UNIFIED IDEOGRAPH-6807}) missing from font(s) DejaVu Sans.\n",
      "  func(*args, **kwargs)\n",
      "D:\\venv\\py312\\Lib\\site-packages\\IPython\\core\\events.py:82: UserWarning: Glyph 39064 (\\N{CJK UNIFIED IDEOGRAPH-9898}) missing from font(s) DejaVu Sans.\n",
      "  func(*args, **kwargs)\n",
      "findfont: Generic family 'sans-serif' not found because none of the following families were found: Hiragino Sans GB\n",
      "findfont: Generic family 'sans-serif' not found because none of the following families were found: Hiragino Sans GB\n",
      "findfont: Generic family 'sans-serif' not found because none of the following families were found: Hiragino Sans GB\n",
      "findfont: Generic family 'sans-serif' not found because none of the following families were found: Hiragino Sans GB\n",
      "findfont: Generic family 'sans-serif' not found because none of the following families were found: Hiragino Sans GB\n",
      "findfont: Generic family 'sans-serif' not found because none of the following families were found: Hiragino Sans GB\n",
      "findfont: Generic family 'sans-serif' not found because none of the following families were found: Hiragino Sans GB\n",
      "findfont: Generic family 'sans-serif' not found because none of the following families were found: Hiragino Sans GB\n",
      "findfont: Generic family 'sans-serif' not found because none of the following families were found: Hiragino Sans GB\n",
      "findfont: Generic family 'sans-serif' not found because none of the following families were found: Hiragino Sans GB\n",
      "findfont: Generic family 'sans-serif' not found because none of the following families were found: Hiragino Sans GB\n",
      "findfont: Generic family 'sans-serif' not found because none of the following families were found: Hiragino Sans GB\n",
      "findfont: Generic family 'sans-serif' not found because none of the following families were found: Hiragino Sans GB\n",
      "findfont: Generic family 'sans-serif' not found because none of the following families were found: Hiragino Sans GB\n",
      "findfont: Generic family 'sans-serif' not found because none of the following families were found: Hiragino Sans GB\n",
      "findfont: Generic family 'sans-serif' not found because none of the following families were found: Hiragino Sans GB\n",
      "findfont: Generic family 'sans-serif' not found because none of the following families were found: Hiragino Sans GB\n",
      "D:\\venv\\py312\\Lib\\site-packages\\IPython\\core\\pylabtools.py:170: UserWarning: Glyph 36724 (\\N{CJK UNIFIED IDEOGRAPH-8F74}) missing from font(s) DejaVu Sans.\n",
      "  fig.canvas.print_figure(bytes_io, **kw)\n",
      "findfont: Generic family 'sans-serif' not found because none of the following families were found: Hiragino Sans GB\n",
      "findfont: Generic family 'sans-serif' not found because none of the following families were found: Hiragino Sans GB\n",
      "findfont: Generic family 'sans-serif' not found because none of the following families were found: Hiragino Sans GB\n",
      "findfont: Generic family 'sans-serif' not found because none of the following families were found: Hiragino Sans GB\n",
      "findfont: Generic family 'sans-serif' not found because none of the following families were found: Hiragino Sans GB\n",
      "findfont: Generic family 'sans-serif' not found because none of the following families were found: Hiragino Sans GB\n",
      "findfont: Generic family 'sans-serif' not found because none of the following families were found: Hiragino Sans GB\n",
      "D:\\venv\\py312\\Lib\\site-packages\\IPython\\core\\pylabtools.py:170: UserWarning: Glyph 25105 (\\N{CJK UNIFIED IDEOGRAPH-6211}) missing from font(s) DejaVu Sans.\n",
      "  fig.canvas.print_figure(bytes_io, **kw)\n",
      "D:\\venv\\py312\\Lib\\site-packages\\IPython\\core\\pylabtools.py:170: UserWarning: Glyph 26159 (\\N{CJK UNIFIED IDEOGRAPH-662F}) missing from font(s) DejaVu Sans.\n",
      "  fig.canvas.print_figure(bytes_io, **kw)\n",
      "D:\\venv\\py312\\Lib\\site-packages\\IPython\\core\\pylabtools.py:170: UserWarning: Glyph 26631 (\\N{CJK UNIFIED IDEOGRAPH-6807}) missing from font(s) DejaVu Sans.\n",
      "  fig.canvas.print_figure(bytes_io, **kw)\n",
      "D:\\venv\\py312\\Lib\\site-packages\\IPython\\core\\pylabtools.py:170: UserWarning: Glyph 39064 (\\N{CJK UNIFIED IDEOGRAPH-9898}) missing from font(s) DejaVu Sans.\n",
      "  fig.canvas.print_figure(bytes_io, **kw)\n",
      "findfont: Generic family 'sans-serif' not found because none of the following families were found: Hiragino Sans GB\n",
      "findfont: Generic family 'sans-serif' not found because none of the following families were found: Hiragino Sans GB\n",
      "findfont: Generic family 'sans-serif' not found because none of the following families were found: Hiragino Sans GB\n",
      "findfont: Generic family 'sans-serif' not found because none of the following families were found: Hiragino Sans GB\n",
      "findfont: Generic family 'sans-serif' not found because none of the following families were found: Hiragino Sans GB\n",
      "findfont: Generic family 'sans-serif' not found because none of the following families were found: Hiragino Sans GB\n",
      "findfont: Generic family 'sans-serif' not found because none of the following families were found: Hiragino Sans GB\n",
      "findfont: Generic family 'sans-serif' not found because none of the following families were found: Hiragino Sans GB\n",
      "findfont: Generic family 'sans-serif' not found because none of the following families were found: Hiragino Sans GB\n",
      "findfont: Generic family 'sans-serif' not found because none of the following families were found: Hiragino Sans GB\n",
      "findfont: Generic family 'sans-serif' not found because none of the following families were found: Hiragino Sans GB\n"
     ]
    },
    {
     "data": {
      "text/plain": [
       "<Figure size 600x600 with 1 Axes>"
      ],
      "image/png": "[encoded data removed]"
     },
     "metadata": {},
     "output_type": "display_data"
    }
   ],
   "execution_count": 3
  },
  {
   "cell_type": "code",
   "source": [],
   "metadata": {
    "collapsed": false,
    "pycharm": {
     "name": "#%%\n"
    }
   },
   "outputs": [],
   "execution_count": 3
  }
 ],
 "metadata": {
  "kernelspec": {
   "display_name": "Python 3",
   "language": "python",
   "name": "python3"
  },
  "language_info": {
   "codemirror_mode": {
    "name": "ipython",
    "version": 2
   },
   "file_extension": ".py",
   "mimetype": "text/x-python",
   "name": "python",
   "nbconvert_exporter": "python",
   "pygments_lexer": "ipython2",
   "version": "2.7.6"
  }
 },
 "nbformat": 4,
 "nbformat_minor": 0
}
