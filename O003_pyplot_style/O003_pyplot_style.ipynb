{
 "cells": [
  {
   "cell_type": "code",
   "metadata": {
    "collapsed": true,
    "pycharm": {
     "name": "#%% pyplot-style\n"
    },
    "ExecuteTime": {
     "end_time": "2024-06-27T09:32:59.262527Z",
     "start_time": "2024-06-27T09:32:59.259252Z"
    }
   },
   "source": [
    "import pandas as pd\n",
    "import matplotlib.pyplot as plt"
   ],
   "outputs": [],
   "execution_count": 4
  },
  {
   "cell_type": "code",
   "source": [
    "df = pd.DataFrame({\n",
    "    'A': [1,2,3,4]\n",
    "})\n",
    "df['B'] = df['A'] ** 2\n",
    "df"
   ],
   "metadata": {
    "collapsed": false,
    "pycharm": {
     "name": "#%%\n"
    },
    "ExecuteTime": {
     "end_time": "2024-06-27T09:32:59.285762Z",
     "start_time": "2024-06-27T09:32:59.266538Z"
    }
   },
   "outputs": [
    {
     "data": {
      "text/plain": [
       "   A   B\n",
       "0  1   1\n",
       "1  2   4\n",
       "2  3   9\n",
       "3  4  16"
      ],
      "text/html": [
       "<div>\n",
       "<style scoped>\n",
       "    .dataframe tbody tr th:only-of-type {\n",
       "        vertical-align: middle;\n",
       "    }\n",
       "\n",
       "    .dataframe tbody tr th {\n",
       "        vertical-align: top;\n",
       "    }\n",
       "\n",
       "    .dataframe thead th {\n",
       "        text-align: right;\n",
       "    }\n",
       "</style>\n",
       "<table border=\"1\" class=\"dataframe\">\n",
       "  <thead>\n",
       "    <tr style=\"text-align: right;\">\n",
       "      <th></th>\n",
       "      <th>A</th>\n",
       "      <th>B</th>\n",
       "    </tr>\n",
       "  </thead>\n",
       "  <tbody>\n",
       "    <tr>\n",
       "      <th>0</th>\n",
       "      <td>1</td>\n",
       "      <td>1</td>\n",
       "    </tr>\n",
       "    <tr>\n",
       "      <th>1</th>\n",
       "      <td>2</td>\n",
       "      <td>4</td>\n",
       "    </tr>\n",
       "    <tr>\n",
       "      <th>2</th>\n",
       "      <td>3</td>\n",
       "      <td>9</td>\n",
       "    </tr>\n",
       "    <tr>\n",
       "      <th>3</th>\n",
       "      <td>4</td>\n",
       "      <td>16</td>\n",
       "    </tr>\n",
       "  </tbody>\n",
       "</table>\n",
       "</div>"
      ]
     },
     "execution_count": 5,
     "metadata": {},
     "output_type": "execute_result"
    }
   ],
   "execution_count": 5
  },
  {
   "cell_type": "code",
   "source": [
    "plt.rcParams['font.sans-serif'] = ['Hiragino Sans GB']  # mac\n",
    "# plt.rcParams['font.sans-serif'] = ['SimHei']  # win\n",
    "plt.rcParams['axes.unicode_minus'] = False\n",
    "plt.figure(\n",
    "    facecolor='white',\n",
    "    figsize=(6, 6),\n",
    "    dpi=100\n",
    ")\n",
    "plt.plot(df['A'], df['B'])\n",
    "plt.title('我是标题',\n",
    "          fontsize=30,\n",
    "          color='r'\n",
    "          )\n",
    "\n",
    "plt.xlabel('X轴',\n",
    "          fontsize=24,\n",
    "          color='g')\n",
    "plt.ylabel('Y轴',\n",
    "           fontsize=24,\n",
    "           color='b',\n",
    "           rotation=0,\n",
    "           labelpad=30)\n",
    "\n",
    "plt.xlim([-1, 5])\n",
    "plt.ylim([0, 20])\n",
    "\n",
    "plt.xticks(\n",
    "    fontsize=20)\n",
    "# plt.yticks([0,5,10,15,20], fontsize=20)\n",
    "\n",
    "plt.gca().xaxis.set_major_locator(\n",
    "    plt.MultipleLocator(2)\n",
    ")\n",
    "plt.gca().xaxis.set_minor_locator(\n",
    "    plt.MultipleLocator(0.5)\n",
    ")\n",
    "plt.gca().yaxis.set_major_locator(\n",
    "    plt.MultipleLocator(5)\n",
    ")\n",
    "plt.gca().yaxis.set_minor_locator(\n",
    "    plt.MultipleLocator(1)\n",
    ")\n",
    "\n",
    "plt.grid(color='y')"
   ],
   "metadata": {
    "collapsed": false,
    "pycharm": {
     "name": "#%%\n"
    },
    "ExecuteTime": {
     "end_time": "2024-06-27T09:32:59.461825Z",
     "start_time": "2024-06-27T09:32:59.289763Z"
    }
   },
   "outputs": [
    {
     "data": {
      "text/plain": [
       "<Figure size 600x600 with 1 Axes>"
      ],
      "image/png": "[encoded data removed]"
     },
     "metadata": {},
     "output_type": "display_data"
    }
   ],
   "execution_count": 6
  },
  {
   "cell_type": "code",
   "source": [
    "\n"
   ],
   "metadata": {
    "collapsed": false,
    "pycharm": {
     "name": "#%%\n"
    }
   },
   "outputs": [],
   "execution_count": 6
  }
 ],
 "metadata": {
  "kernelspec": {
   "display_name": "Python 3",
   "language": "python",
   "name": "python3"
  },
  "language_info": {
   "codemirror_mode": {
    "name": "ipython",
    "version": 2
   },
   "file_extension": ".py",
   "mimetype": "text/x-python",
   "name": "python",
   "nbconvert_exporter": "python",
   "pygments_lexer": "ipython2",
   "version": "2.7.6"
  }
 },
 "nbformat": 4,
 "nbformat_minor": 0
}
