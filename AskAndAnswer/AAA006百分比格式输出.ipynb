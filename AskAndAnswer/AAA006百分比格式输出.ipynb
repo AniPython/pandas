{
 "cells": [
  {
   "cell_type": "markdown",
   "metadata": {},
   "source": [
    "## Python Pandas Excel 学习群: 366719470\n",
    "## Ask And Answer 问答\n",
    "## AAA006 数字列百分比(%)格式输出"
   ]
  },
  {
   "cell_type": "code",
   "execution_count": 7,
   "metadata": {},
   "source": [
    "import pandas as pd"
   ],
   "outputs": []
  },
  {
   "cell_type": "code",
   "execution_count": 8,
   "metadata": {},
   "source": [
    "df = pd.DataFrame([\n",
    "    [100, 0.12314],\n",
    "    [200, 0.15315],\n",
    "    [300, 0.28216],\n",
    "], columns=['售价', '利润率'])\n",
    "df"
   ],
   "outputs": []
  },
  {
   "cell_type": "code",
   "execution_count": 9,
   "metadata": {},
   "source": [
    "df.dtypes"
   ],
   "outputs": []
  },
  {
   "cell_type": "code",
   "execution_count": 10,
   "metadata": {},
   "source": [
    "# 1: 转化成字符串输出 (不是很好)\n",
    "df['利润率'] = df['利润率'].apply(lambda x: format(x, '.2%'))\n",
    "df"
   ],
   "outputs": []
  },
  {
   "cell_type": "code",
   "execution_count": 11,
   "metadata": {},
   "source": [
    "df.dtypes"
   ],
   "outputs": []
  },
  {
   "cell_type": "code",
   "execution_count": 12,
   "metadata": {},
   "source": [
    "df.to_excel('1.xlsx', index=False)"
   ],
   "outputs": []
  },
  {
   "cell_type": "code",
   "execution_count": 17,
   "metadata": {},
   "source": [
    "# 2: 使用 xlsxwriter (pip install xlsxwriter)\n",
    "df = pd.DataFrame([\n",
    "    [100, 0.12314],\n",
    "    [200, 0.15315],\n",
    "    [300, 0.28216],\n",
    "], columns=['售价', '利润率'])\n",
    "writer = pd.ExcelWriter('2.xlsx', engine='xlsxwriter')\n",
    "df.to_excel(writer, sheet_name='sheet1', index=False)"
   ],
   "outputs": []
  },
  {
   "cell_type": "code",
   "execution_count": 18,
   "metadata": {},
   "source": [
    "workbook = writer.book\n",
    "fmt = workbook.add_format({'num_format': '0.0%'})\n",
    "\n",
    "worksheet = workbook.sheetnames['sheet1']\n",
    "worksheet.set_column('B:B', cell_format=fmt)\n",
    "\n",
    "\n",
    "\n",
    "writer.save()"
   ],
   "outputs": []
  },
  {
   "cell_type": "code",
   "execution_count": null,
   "metadata": {},
   "source": [],
   "outputs": []
  }
 ],
 "metadata": {
  "kernelspec": {
   "display_name": "nlp",
   "language": "python",
   "name": "nlp"
  },
  "language_info": {
   "codemirror_mode": {
    "name": "ipython",
    "version": 3
   },
   "file_extension": ".py",
   "mimetype": "text/x-python",
   "name": "python",
   "nbconvert_exporter": "python",
   "pygments_lexer": "ipython3",
   "version": "3.8.6"
  }
 },
 "nbformat": 4,
 "nbformat_minor": 4
}
