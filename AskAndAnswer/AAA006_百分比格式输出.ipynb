{
 "cells": [
  {
   "cell_type": "markdown",
   "metadata": {},
   "source": [
    "## AAA006 百分比(%)格式输出_备课"
   ]
  },
  {
   "cell_type": "code",
   "execution_count": 1,
   "metadata": {},
   "source": [
    "import pandas as pd"
   ],
   "outputs": []
  },
  {
   "cell_type": "code",
   "execution_count": 2,
   "metadata": {},
   "source": [
    "df = pd.DataFrame([\n",
    "    [100, 0.12314],\n",
    "    [200, 0.15315],\n",
    "    [300, 0.28216],\n",
    "], columns=['售价', '利润率'])\n",
    "df"
   ],
   "outputs": []
  },
  {
   "cell_type": "code",
   "execution_count": 3,
   "metadata": {},
   "source": [
    "# 1: 转成字符输出 (不是很正确)\n",
    "df['利润率'] = df['利润率'].apply(lambda x: format(x, '.2%'))\n",
    "df"
   ],
   "outputs": []
  },
  {
   "cell_type": "code",
   "execution_count": 4,
   "metadata": {},
   "source": [
    "df.dtypes"
   ],
   "outputs": []
  },
  {
   "cell_type": "code",
   "execution_count": 5,
   "metadata": {},
   "source": [
    "df['售价'] * df['利润率']"
   ],
   "outputs": []
  },
  {
   "cell_type": "code",
   "execution_count": 6,
   "metadata": {},
   "source": [
    "# df.to_excel('1.xlsx')"
   ],
   "outputs": []
  },
  {
   "cell_type": "code",
   "execution_count": 7,
   "metadata": {},
   "source": [
    "# 3: \n",
    "df = pd.DataFrame([\n",
    "    [100, 0.12314],\n",
    "    [200, 0.15315],\n",
    "    [300, 0.21216],\n",
    "], columns=['售价', '利润率'])\n",
    "writer = pd.ExcelWriter('2.xlsx',engine='xlsxwriter')\n",
    "df.to_excel(writer, sheet_name='Sheet1', index=False)"
   ],
   "outputs": []
  },
  {
   "cell_type": "code",
   "execution_count": 8,
   "metadata": {},
   "source": [
    "# writer.save()"
   ],
   "outputs": []
  },
  {
   "cell_type": "code",
   "execution_count": 9,
   "metadata": {},
   "source": [
    "workbook = writer.book\n",
    "fmt = workbook.add_format({'num_format': '0.00%'})\n",
    "\n",
    "worksheet = workbook.sheetnames['Sheet1']\n",
    "# worksheet = writer.sheets['Sheet1']\n",
    "worksheet.set_column('B:B', cell_format=fmt)\n",
    "\n",
    "writer.save()"
   ],
   "outputs": []
  },
  {
   "cell_type": "code",
   "execution_count": null,
   "metadata": {},
   "source": [],
   "outputs": []
  }
 ],
 "metadata": {
  "kernelspec": {
   "display_name": "nlp",
   "language": "python",
   "name": "nlp"
  },
  "language_info": {
   "codemirror_mode": {
    "name": "ipython",
    "version": 3
   },
   "file_extension": ".py",
   "mimetype": "text/x-python",
   "name": "python",
   "nbconvert_exporter": "python",
   "pygments_lexer": "ipython3",
   "version": "3.8.6"
  }
 },
 "nbformat": 4,
 "nbformat_minor": 4
}
