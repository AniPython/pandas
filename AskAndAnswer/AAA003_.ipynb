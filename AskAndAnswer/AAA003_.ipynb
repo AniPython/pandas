{
 "metadata": {
  "language_info": {
   "codemirror_mode": {
    "name": "ipython",
    "version": 3
   },
   "file_extension": ".py",
   "mimetype": "text/x-python",
   "name": "python",
   "nbconvert_exporter": "python",
   "pygments_lexer": "ipython3",
   "version": "3.8.5-final"
  },
  "orig_nbformat": 2,
  "kernelspec": {
   "name": "python3",
   "display_name": "Python 3"
  }
 },
 "nbformat": 4,
 "nbformat_minor": 2,
 "cells": [
  {
   "cell_type": "code",
   "execution_count": 50,
   "metadata": {},
   "outputs": [],
   "source": [
    "# Python Pandas 学习群: 366719470\n",
    "# Ask And Answer\n",
    "# AAA003: 现有的尺码\n",
    "# S:     1    1\n",
    "# M:    10    2\n",
    "# L:   100    4\n",
    "# XL: 1000    8"
   ]
  },
  {
   "cell_type": "code",
   "execution_count": 51,
   "metadata": {},
   "outputs": [],
   "source": [
    "import pandas as pd"
   ]
  },
  {
   "cell_type": "code",
   "execution_count": 52,
   "metadata": {},
   "outputs": [
    {
     "output_type": "execute_result",
     "data": {
      "text/plain": [
       "    货号       下单时间  下单尺码\n",
       "0  AAA 2020-10-01   M/L\n",
       "1  AAA 2020-10-02  L/XL\n",
       "2  BBB 2020-10-03     S\n",
       "3  BBB 2020-10-04     M"
      ],
      "text/html": "<div>\n<style scoped>\n    .dataframe tbody tr th:only-of-type {\n        vertical-align: middle;\n    }\n\n    .dataframe tbody tr th {\n        vertical-align: top;\n    }\n\n    .dataframe thead th {\n        text-align: right;\n    }\n</style>\n<table border=\"1\" class=\"dataframe\">\n  <thead>\n    <tr style=\"text-align: right;\">\n      <th></th>\n      <th>货号</th>\n      <th>下单时间</th>\n      <th>下单尺码</th>\n    </tr>\n  </thead>\n  <tbody>\n    <tr>\n      <th>0</th>\n      <td>AAA</td>\n      <td>2020-10-01</td>\n      <td>M/L</td>\n    </tr>\n    <tr>\n      <th>1</th>\n      <td>AAA</td>\n      <td>2020-10-02</td>\n      <td>L/XL</td>\n    </tr>\n    <tr>\n      <th>2</th>\n      <td>BBB</td>\n      <td>2020-10-03</td>\n      <td>S</td>\n    </tr>\n    <tr>\n      <th>3</th>\n      <td>BBB</td>\n      <td>2020-10-04</td>\n      <td>M</td>\n    </tr>\n  </tbody>\n</table>\n</div>"
     },
     "metadata": {},
     "execution_count": 52
    }
   ],
   "source": [
    "df = pd.read_excel('AAA003.xlsx')\n",
    "df"
   ]
  },
  {
   "cell_type": "code",
   "execution_count": 53,
   "metadata": {},
   "outputs": [
    {
     "output_type": "execute_result",
     "data": {
      "text/plain": [
       "    货号       下单时间  下单尺码\n",
       "0  AAA 2020-10-01   M/L\n",
       "1  AAA 2020-10-02  L/XL\n",
       "2  BBB 2020-10-03     S\n",
       "3  BBB 2020-10-04     M"
      ],
      "text/html": "<div>\n<style scoped>\n    .dataframe tbody tr th:only-of-type {\n        vertical-align: middle;\n    }\n\n    .dataframe tbody tr th {\n        vertical-align: top;\n    }\n\n    .dataframe thead th {\n        text-align: right;\n    }\n</style>\n<table border=\"1\" class=\"dataframe\">\n  <thead>\n    <tr style=\"text-align: right;\">\n      <th></th>\n      <th>货号</th>\n      <th>下单时间</th>\n      <th>下单尺码</th>\n    </tr>\n  </thead>\n  <tbody>\n    <tr>\n      <th>0</th>\n      <td>AAA</td>\n      <td>2020-10-01</td>\n      <td>M/L</td>\n    </tr>\n    <tr>\n      <th>1</th>\n      <td>AAA</td>\n      <td>2020-10-02</td>\n      <td>L/XL</td>\n    </tr>\n    <tr>\n      <th>2</th>\n      <td>BBB</td>\n      <td>2020-10-03</td>\n      <td>S</td>\n    </tr>\n    <tr>\n      <th>3</th>\n      <td>BBB</td>\n      <td>2020-10-04</td>\n      <td>M</td>\n    </tr>\n  </tbody>\n</table>\n</div>"
     },
     "metadata": {},
     "execution_count": 53
    }
   ],
   "source": [
    "df = df.sort_values(['货号', '下单时间'])\n",
    "df"
   ]
  },
  {
   "cell_type": "code",
   "execution_count": 54,
   "metadata": {},
   "outputs": [
    {
     "output_type": "execute_result",
     "data": {
      "text/plain": [
       "    货号       下单时间  下单尺码  尺码数字\n",
       "0  AAA 2020-10-01   M/L     6\n",
       "1  AAA 2020-10-02  L/XL    12\n",
       "2  BBB 2020-10-03     S     1\n",
       "3  BBB 2020-10-04     M     2"
      ],
      "text/html": "<div>\n<style scoped>\n    .dataframe tbody tr th:only-of-type {\n        vertical-align: middle;\n    }\n\n    .dataframe tbody tr th {\n        vertical-align: top;\n    }\n\n    .dataframe thead th {\n        text-align: right;\n    }\n</style>\n<table border=\"1\" class=\"dataframe\">\n  <thead>\n    <tr style=\"text-align: right;\">\n      <th></th>\n      <th>货号</th>\n      <th>下单时间</th>\n      <th>下单尺码</th>\n      <th>尺码数字</th>\n    </tr>\n  </thead>\n  <tbody>\n    <tr>\n      <th>0</th>\n      <td>AAA</td>\n      <td>2020-10-01</td>\n      <td>M/L</td>\n      <td>6</td>\n    </tr>\n    <tr>\n      <th>1</th>\n      <td>AAA</td>\n      <td>2020-10-02</td>\n      <td>L/XL</td>\n      <td>12</td>\n    </tr>\n    <tr>\n      <th>2</th>\n      <td>BBB</td>\n      <td>2020-10-03</td>\n      <td>S</td>\n      <td>1</td>\n    </tr>\n    <tr>\n      <th>3</th>\n      <td>BBB</td>\n      <td>2020-10-04</td>\n      <td>M</td>\n      <td>2</td>\n    </tr>\n  </tbody>\n</table>\n</div>"
     },
     "metadata": {},
     "execution_count": 54
    }
   ],
   "source": [
    "# d = {'S': 1, 'M': 2, 'L': 4, 'XL': 8, 'XXL': 16}\n",
    "all_size = ['S', 'M', 'L', 'XL', 'XXL']\n",
    "d = {}\n",
    "for index, size_lable in enumerate(all_size):\n",
    "    d[size_lable] = 2 ** index\n",
    "def size_to_number(sizes):\n",
    "    number = 0\n",
    "    for size in sizes.split('/'):\n",
    "        number = number | d[size]\n",
    "    return number\n",
    "\n",
    "df['尺码数字'] = df['下单尺码'].apply(size_to_number)\n",
    "df"
   ]
  },
  {
   "cell_type": "code",
   "execution_count": 55,
   "metadata": {},
   "outputs": [
    {
     "output_type": "execute_result",
     "data": {
      "text/plain": [
       "    货号       下单时间  下单尺码  尺码数字  现有尺码数字\n",
       "0  AAA 2020-10-01   M/L     6       6\n",
       "1  AAA 2020-10-02  L/XL    12      14\n",
       "2  BBB 2020-10-03     S     1       1\n",
       "3  BBB 2020-10-04     M     2       3"
      ],
      "text/html": "<div>\n<style scoped>\n    .dataframe tbody tr th:only-of-type {\n        vertical-align: middle;\n    }\n\n    .dataframe tbody tr th {\n        vertical-align: top;\n    }\n\n    .dataframe thead th {\n        text-align: right;\n    }\n</style>\n<table border=\"1\" class=\"dataframe\">\n  <thead>\n    <tr style=\"text-align: right;\">\n      <th></th>\n      <th>货号</th>\n      <th>下单时间</th>\n      <th>下单尺码</th>\n      <th>尺码数字</th>\n      <th>现有尺码数字</th>\n    </tr>\n  </thead>\n  <tbody>\n    <tr>\n      <th>0</th>\n      <td>AAA</td>\n      <td>2020-10-01</td>\n      <td>M/L</td>\n      <td>6</td>\n      <td>6</td>\n    </tr>\n    <tr>\n      <th>1</th>\n      <td>AAA</td>\n      <td>2020-10-02</td>\n      <td>L/XL</td>\n      <td>12</td>\n      <td>14</td>\n    </tr>\n    <tr>\n      <th>2</th>\n      <td>BBB</td>\n      <td>2020-10-03</td>\n      <td>S</td>\n      <td>1</td>\n      <td>1</td>\n    </tr>\n    <tr>\n      <th>3</th>\n      <td>BBB</td>\n      <td>2020-10-04</td>\n      <td>M</td>\n      <td>2</td>\n      <td>3</td>\n    </tr>\n  </tbody>\n</table>\n</div>"
     },
     "metadata": {},
     "execution_count": 55
    }
   ],
   "source": [
    "def bit_and(s):\n",
    "    number = 0\n",
    "    for value in s:\n",
    "        number = number | int(value)\n",
    "    return number\n",
    "# df.groupby('货号', sort=False)['尺码数字'].expanding(1).apply(bit_and).astype(int)\n",
    "df['现有尺码数字'] = df.groupby('货号', sort=False)['尺码数字'].expanding(1).apply(bit_and).astype(int).values\n",
    "df"
   ]
  },
  {
   "cell_type": "code",
   "execution_count": 56,
   "metadata": {},
   "outputs": [
    {
     "output_type": "execute_result",
     "data": {
      "text/plain": [
       "    货号       下单时间  下单尺码  尺码数字  现有尺码数字    现有尺码\n",
       "0  AAA 2020-10-01   M/L     6       6     M/L\n",
       "1  AAA 2020-10-02  L/XL    12      14  M/L/XL\n",
       "2  BBB 2020-10-03     S     1       1       S\n",
       "3  BBB 2020-10-04     M     2       3     S/M"
      ],
      "text/html": "<div>\n<style scoped>\n    .dataframe tbody tr th:only-of-type {\n        vertical-align: middle;\n    }\n\n    .dataframe tbody tr th {\n        vertical-align: top;\n    }\n\n    .dataframe thead th {\n        text-align: right;\n    }\n</style>\n<table border=\"1\" class=\"dataframe\">\n  <thead>\n    <tr style=\"text-align: right;\">\n      <th></th>\n      <th>货号</th>\n      <th>下单时间</th>\n      <th>下单尺码</th>\n      <th>尺码数字</th>\n      <th>现有尺码数字</th>\n      <th>现有尺码</th>\n    </tr>\n  </thead>\n  <tbody>\n    <tr>\n      <th>0</th>\n      <td>AAA</td>\n      <td>2020-10-01</td>\n      <td>M/L</td>\n      <td>6</td>\n      <td>6</td>\n      <td>M/L</td>\n    </tr>\n    <tr>\n      <th>1</th>\n      <td>AAA</td>\n      <td>2020-10-02</td>\n      <td>L/XL</td>\n      <td>12</td>\n      <td>14</td>\n      <td>M/L/XL</td>\n    </tr>\n    <tr>\n      <th>2</th>\n      <td>BBB</td>\n      <td>2020-10-03</td>\n      <td>S</td>\n      <td>1</td>\n      <td>1</td>\n      <td>S</td>\n    </tr>\n    <tr>\n      <th>3</th>\n      <td>BBB</td>\n      <td>2020-10-04</td>\n      <td>M</td>\n      <td>2</td>\n      <td>3</td>\n      <td>S/M</td>\n    </tr>\n  </tbody>\n</table>\n</div>"
     },
     "metadata": {},
     "execution_count": 56
    }
   ],
   "source": [
    "# XL L M S\n",
    "# 1  1 1 1 \n",
    "def number_to_sizes(number):\n",
    "    sizes_bit = list(bin(number)[2:].rjust(len(d), '0'))[::-1]\n",
    "    # sizes_lable = ['S', 'M', 'L', 'XL']\n",
    "    sizes_lable = d.keys()\n",
    "    exist_sizes_list = []\n",
    "    for bit, lable in zip(sizes_bit, sizes_lable):\n",
    "        if bit == '1':\n",
    "            exist_sizes_list.append(lable)\n",
    "    exist_sizes_str = '/'.join(exist_sizes_list)\n",
    "    return exist_sizes_str\n",
    "df['现有尺码'] = df['现有尺码数字'].apply(number_to_sizes)\n",
    "df"
   ]
  },
  {
   "cell_type": "code",
   "execution_count": 57,
   "metadata": {},
   "outputs": [
    {
     "output_type": "execute_result",
     "data": {
      "text/plain": [
       "    货号       下单时间  下单尺码    现有尺码\n",
       "0  AAA 2020-10-01   M/L     M/L\n",
       "1  AAA 2020-10-02  L/XL  M/L/XL\n",
       "2  BBB 2020-10-03     S       S\n",
       "3  BBB 2020-10-04     M     S/M"
      ],
      "text/html": "<div>\n<style scoped>\n    .dataframe tbody tr th:only-of-type {\n        vertical-align: middle;\n    }\n\n    .dataframe tbody tr th {\n        vertical-align: top;\n    }\n\n    .dataframe thead th {\n        text-align: right;\n    }\n</style>\n<table border=\"1\" class=\"dataframe\">\n  <thead>\n    <tr style=\"text-align: right;\">\n      <th></th>\n      <th>货号</th>\n      <th>下单时间</th>\n      <th>下单尺码</th>\n      <th>现有尺码</th>\n    </tr>\n  </thead>\n  <tbody>\n    <tr>\n      <th>0</th>\n      <td>AAA</td>\n      <td>2020-10-01</td>\n      <td>M/L</td>\n      <td>M/L</td>\n    </tr>\n    <tr>\n      <th>1</th>\n      <td>AAA</td>\n      <td>2020-10-02</td>\n      <td>L/XL</td>\n      <td>M/L/XL</td>\n    </tr>\n    <tr>\n      <th>2</th>\n      <td>BBB</td>\n      <td>2020-10-03</td>\n      <td>S</td>\n      <td>S</td>\n    </tr>\n    <tr>\n      <th>3</th>\n      <td>BBB</td>\n      <td>2020-10-04</td>\n      <td>M</td>\n      <td>S/M</td>\n    </tr>\n  </tbody>\n</table>\n</div>"
     },
     "metadata": {},
     "execution_count": 57
    }
   ],
   "source": [
    "df = df.drop(['尺码数字', '现有尺码数字'], axis=1)\n",
    "df"
   ]
  },
  {
   "cell_type": "code",
   "execution_count": null,
   "metadata": {},
   "outputs": [],
   "source": []
  }
 ]
}