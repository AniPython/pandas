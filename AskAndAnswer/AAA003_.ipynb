{
 "metadata": {
  "language_info": {
   "codemirror_mode": {
    "name": "ipython",
    "version": 3
   },
   "file_extension": ".py",
   "mimetype": "text/x-python",
   "name": "python",
   "nbconvert_exporter": "python",
   "pygments_lexer": "ipython3",
   "version": "3.8.5-final"
  },
  "orig_nbformat": 2,
  "kernelspec": {
   "name": "python3",
   "display_name": "Python 3"
  }
 },
 "nbformat": 4,
 "nbformat_minor": 2,
 "cells": [
  {
   "cell_type": "code",
   "execution_count": 50,
   "metadata": {},
   "source": [
    "# Python Pandas 学习群: 366719470\n",
    "# Ask And Answer\n",
    "# AAA003: 现有的尺码\n",
    "# S:     1    1\n",
    "# M:    10    2\n",
    "# L:   100    4\n",
    "# XL: 1000    8"
   ],
   "outputs": []
  },
  {
   "cell_type": "code",
   "execution_count": 51,
   "metadata": {},
   "source": [
    "import pandas as pd"
   ],
   "outputs": []
  },
  {
   "cell_type": "code",
   "execution_count": 52,
   "metadata": {},
   "source": [
    "df = pd.read_excel('AAA003.xlsx')\n",
    "df"
   ],
   "outputs": []
  },
  {
   "cell_type": "code",
   "execution_count": 53,
   "metadata": {},
   "source": [
    "df = df.sort_values(['货号', '下单时间'])\n",
    "df"
   ],
   "outputs": []
  },
  {
   "cell_type": "code",
   "execution_count": 54,
   "metadata": {},
   "source": [
    "# d = {'S': 1, 'M': 2, 'L': 4, 'XL': 8, 'XXL': 16}\n",
    "all_size = ['S', 'M', 'L', 'XL', 'XXL']\n",
    "d = {}\n",
    "for index, size_lable in enumerate(all_size):\n",
    "    d[size_lable] = 2 ** index\n",
    "def size_to_number(sizes):\n",
    "    number = 0\n",
    "    for size in sizes.split('/'):\n",
    "        number = number | d[size]\n",
    "    return number\n",
    "\n",
    "df['尺码数字'] = df['下单尺码'].apply(size_to_number)\n",
    "df"
   ],
   "outputs": []
  },
  {
   "cell_type": "code",
   "execution_count": 55,
   "metadata": {},
   "source": [
    "def bit_and(s):\n",
    "    number = 0\n",
    "    for value in s:\n",
    "        number = number | int(value)\n",
    "    return number\n",
    "# df.groupby('货号', sort=False)['尺码数字'].expanding(1).apply(bit_and).astype(int)\n",
    "df['现有尺码数字'] = df.groupby('货号', sort=False)['尺码数字'].expanding(1).apply(bit_and).astype(int).values\n",
    "df"
   ],
   "outputs": []
  },
  {
   "cell_type": "code",
   "execution_count": 56,
   "metadata": {},
   "source": [
    "# XL L M S\n",
    "# 1  1 1 1 \n",
    "def number_to_sizes(number):\n",
    "    sizes_bit = list(bin(number)[2:].rjust(len(d), '0'))[::-1]\n",
    "    # sizes_lable = ['S', 'M', 'L', 'XL']\n",
    "    sizes_lable = d.keys()\n",
    "    exist_sizes_list = []\n",
    "    for bit, lable in zip(sizes_bit, sizes_lable):\n",
    "        if bit == '1':\n",
    "            exist_sizes_list.append(lable)\n",
    "    exist_sizes_str = '/'.join(exist_sizes_list)\n",
    "    return exist_sizes_str\n",
    "df['现有尺码'] = df['现有尺码数字'].apply(number_to_sizes)\n",
    "df"
   ],
   "outputs": []
  },
  {
   "cell_type": "code",
   "execution_count": 57,
   "metadata": {},
   "source": [
    "df = df.drop(['尺码数字', '现有尺码数字'], axis=1)\n",
    "df"
   ],
   "outputs": []
  },
  {
   "cell_type": "code",
   "execution_count": null,
   "metadata": {},
   "source": [],
   "outputs": []
  }
 ]
}
