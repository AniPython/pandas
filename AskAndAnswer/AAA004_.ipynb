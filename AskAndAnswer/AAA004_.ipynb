{
 "metadata": {
  "language_info": {
   "codemirror_mode": {
    "name": "ipython",
    "version": 3
   },
   "file_extension": ".py",
   "mimetype": "text/x-python",
   "name": "python",
   "nbconvert_exporter": "python",
   "pygments_lexer": "ipython3",
   "version": "3.8.5-final"
  },
  "orig_nbformat": 2,
  "kernelspec": {
   "name": "python3",
   "display_name": "Python 3"
  }
 },
 "nbformat": 4,
 "nbformat_minor": 2,
 "cells": [
  {
   "cell_type": "code",
   "execution_count": 2,
   "metadata": {},
   "outputs": [],
   "source": [
    "import pandas as pd"
   ]
  },
  {
   "cell_type": "code",
   "execution_count": 3,
   "metadata": {},
   "outputs": [
    {
     "output_type": "execute_result",
     "data": {
      "text/plain": [
       "                   时间   数据\n",
       "0 2020-06-13 16:25:00  100\n",
       "1 2020-06-13 16:47:00  200\n",
       "2 2020-06-13 16:49:00  300\n",
       "3 2020-06-13 17:09:00  100\n",
       "4 2020-06-13 17:22:00  200\n",
       "5 2020-06-13 20:49:00  300"
      ],
      "text/html": "<div>\n<style scoped>\n    .dataframe tbody tr th:only-of-type {\n        vertical-align: middle;\n    }\n\n    .dataframe tbody tr th {\n        vertical-align: top;\n    }\n\n    .dataframe thead th {\n        text-align: right;\n    }\n</style>\n<table border=\"1\" class=\"dataframe\">\n  <thead>\n    <tr style=\"text-align: right;\">\n      <th></th>\n      <th>时间</th>\n      <th>数据</th>\n    </tr>\n  </thead>\n  <tbody>\n    <tr>\n      <th>0</th>\n      <td>2020-06-13 16:25:00</td>\n      <td>100</td>\n    </tr>\n    <tr>\n      <th>1</th>\n      <td>2020-06-13 16:47:00</td>\n      <td>200</td>\n    </tr>\n    <tr>\n      <th>2</th>\n      <td>2020-06-13 16:49:00</td>\n      <td>300</td>\n    </tr>\n    <tr>\n      <th>3</th>\n      <td>2020-06-13 17:09:00</td>\n      <td>100</td>\n    </tr>\n    <tr>\n      <th>4</th>\n      <td>2020-06-13 17:22:00</td>\n      <td>200</td>\n    </tr>\n    <tr>\n      <th>5</th>\n      <td>2020-06-13 20:49:00</td>\n      <td>300</td>\n    </tr>\n  </tbody>\n</table>\n</div>"
     },
     "metadata": {},
     "execution_count": 3
    }
   ],
   "source": [
    "df = pd.read_excel('AAA004.xlsx')\n",
    "df"
   ]
  },
  {
   "cell_type": "code",
   "execution_count": 4,
   "metadata": {},
   "outputs": [
    {
     "output_type": "execute_result",
     "data": {
      "text/plain": [
       "                   时间   数据\n",
       "0 2020-06-13 16:00:00  100\n",
       "1 2020-06-13 16:00:00  200\n",
       "2 2020-06-13 16:00:00  300\n",
       "3 2020-06-13 17:00:00  100\n",
       "4 2020-06-13 17:00:00  200\n",
       "5 2020-06-13 20:00:00  300"
      ],
      "text/html": "<div>\n<style scoped>\n    .dataframe tbody tr th:only-of-type {\n        vertical-align: middle;\n    }\n\n    .dataframe tbody tr th {\n        vertical-align: top;\n    }\n\n    .dataframe thead th {\n        text-align: right;\n    }\n</style>\n<table border=\"1\" class=\"dataframe\">\n  <thead>\n    <tr style=\"text-align: right;\">\n      <th></th>\n      <th>时间</th>\n      <th>数据</th>\n    </tr>\n  </thead>\n  <tbody>\n    <tr>\n      <th>0</th>\n      <td>2020-06-13 16:00:00</td>\n      <td>100</td>\n    </tr>\n    <tr>\n      <th>1</th>\n      <td>2020-06-13 16:00:00</td>\n      <td>200</td>\n    </tr>\n    <tr>\n      <th>2</th>\n      <td>2020-06-13 16:00:00</td>\n      <td>300</td>\n    </tr>\n    <tr>\n      <th>3</th>\n      <td>2020-06-13 17:00:00</td>\n      <td>100</td>\n    </tr>\n    <tr>\n      <th>4</th>\n      <td>2020-06-13 17:00:00</td>\n      <td>200</td>\n    </tr>\n    <tr>\n      <th>5</th>\n      <td>2020-06-13 20:00:00</td>\n      <td>300</td>\n    </tr>\n  </tbody>\n</table>\n</div>"
     },
     "metadata": {},
     "execution_count": 4
    }
   ],
   "source": [
    "df['时间'] = df['时间'].apply(\n",
    "    lambda x: x.replace(minute=0, second=0))\n",
    "df"
   ]
  },
  {
   "cell_type": "code",
   "execution_count": 5,
   "metadata": {},
   "outputs": [
    {
     "output_type": "execute_result",
     "data": {
      "text/plain": [
       "                      数据\n",
       "时间                      \n",
       "2020-06-13 16:00:00  200\n",
       "2020-06-13 17:00:00  150\n",
       "2020-06-13 20:00:00  300"
      ],
      "text/html": "<div>\n<style scoped>\n    .dataframe tbody tr th:only-of-type {\n        vertical-align: middle;\n    }\n\n    .dataframe tbody tr th {\n        vertical-align: top;\n    }\n\n    .dataframe thead th {\n        text-align: right;\n    }\n</style>\n<table border=\"1\" class=\"dataframe\">\n  <thead>\n    <tr style=\"text-align: right;\">\n      <th></th>\n      <th>数据</th>\n    </tr>\n    <tr>\n      <th>时间</th>\n      <th></th>\n    </tr>\n  </thead>\n  <tbody>\n    <tr>\n      <th>2020-06-13 16:00:00</th>\n      <td>200</td>\n    </tr>\n    <tr>\n      <th>2020-06-13 17:00:00</th>\n      <td>150</td>\n    </tr>\n    <tr>\n      <th>2020-06-13 20:00:00</th>\n      <td>300</td>\n    </tr>\n  </tbody>\n</table>\n</div>"
     },
     "metadata": {},
     "execution_count": 5
    }
   ],
   "source": [
    "df = df.groupby('时间').mean()\n",
    "df"
   ]
  },
  {
   "cell_type": "code",
   "execution_count": 6,
   "metadata": {},
   "outputs": [
    {
     "output_type": "execute_result",
     "data": {
      "text/plain": [
       "DatetimeIndex(['2020-06-13 16:00:00', '2020-06-13 17:00:00',\n",
       "               '2020-06-13 18:00:00', '2020-06-13 19:00:00',\n",
       "               '2020-06-13 20:00:00'],\n",
       "              dtype='datetime64[ns]', name='时间', freq='H')"
      ]
     },
     "metadata": {},
     "execution_count": 6
    }
   ],
   "source": [
    "index = pd.date_range(\n",
    "    start=df.index.min(),\n",
    "    end=df.index.max(),\n",
    "    freq='H',\n",
    "    name='时间'\n",
    ")\n",
    "index"
   ]
  },
  {
   "cell_type": "code",
   "execution_count": 7,
   "metadata": {},
   "outputs": [
    {
     "output_type": "execute_result",
     "data": {
      "text/plain": [
       "                        数据\n",
       "时间                        \n",
       "2020-06-13 16:00:00  200.0\n",
       "2020-06-13 17:00:00  150.0\n",
       "2020-06-13 18:00:00    NaN\n",
       "2020-06-13 19:00:00    NaN\n",
       "2020-06-13 20:00:00  300.0"
      ],
      "text/html": "<div>\n<style scoped>\n    .dataframe tbody tr th:only-of-type {\n        vertical-align: middle;\n    }\n\n    .dataframe tbody tr th {\n        vertical-align: top;\n    }\n\n    .dataframe thead th {\n        text-align: right;\n    }\n</style>\n<table border=\"1\" class=\"dataframe\">\n  <thead>\n    <tr style=\"text-align: right;\">\n      <th></th>\n      <th>数据</th>\n    </tr>\n    <tr>\n      <th>时间</th>\n      <th></th>\n    </tr>\n  </thead>\n  <tbody>\n    <tr>\n      <th>2020-06-13 16:00:00</th>\n      <td>200.0</td>\n    </tr>\n    <tr>\n      <th>2020-06-13 17:00:00</th>\n      <td>150.0</td>\n    </tr>\n    <tr>\n      <th>2020-06-13 18:00:00</th>\n      <td>NaN</td>\n    </tr>\n    <tr>\n      <th>2020-06-13 19:00:00</th>\n      <td>NaN</td>\n    </tr>\n    <tr>\n      <th>2020-06-13 20:00:00</th>\n      <td>300.0</td>\n    </tr>\n  </tbody>\n</table>\n</div>"
     },
     "metadata": {},
     "execution_count": 7
    }
   ],
   "source": [
    "df = df.reindex(index)\n",
    "df"
   ]
  },
  {
   "cell_type": "code",
   "execution_count": 8,
   "metadata": {},
   "outputs": [
    {
     "output_type": "execute_result",
     "data": {
      "text/plain": [
       "                        数据\n",
       "时间                        \n",
       "2020-06-13 16:00:00  200.0\n",
       "2020-06-13 17:00:00  150.0\n",
       "2020-06-13 18:00:00  150.0\n",
       "2020-06-13 19:00:00  150.0\n",
       "2020-06-13 20:00:00  300.0"
      ],
      "text/html": "<div>\n<style scoped>\n    .dataframe tbody tr th:only-of-type {\n        vertical-align: middle;\n    }\n\n    .dataframe tbody tr th {\n        vertical-align: top;\n    }\n\n    .dataframe thead th {\n        text-align: right;\n    }\n</style>\n<table border=\"1\" class=\"dataframe\">\n  <thead>\n    <tr style=\"text-align: right;\">\n      <th></th>\n      <th>数据</th>\n    </tr>\n    <tr>\n      <th>时间</th>\n      <th></th>\n    </tr>\n  </thead>\n  <tbody>\n    <tr>\n      <th>2020-06-13 16:00:00</th>\n      <td>200.0</td>\n    </tr>\n    <tr>\n      <th>2020-06-13 17:00:00</th>\n      <td>150.0</td>\n    </tr>\n    <tr>\n      <th>2020-06-13 18:00:00</th>\n      <td>150.0</td>\n    </tr>\n    <tr>\n      <th>2020-06-13 19:00:00</th>\n      <td>150.0</td>\n    </tr>\n    <tr>\n      <th>2020-06-13 20:00:00</th>\n      <td>300.0</td>\n    </tr>\n  </tbody>\n</table>\n</div>"
     },
     "metadata": {},
     "execution_count": 8
    }
   ],
   "source": [
    "df = df.fillna(method='ffill')\n",
    "df"
   ]
  },
  {
   "cell_type": "code",
   "execution_count": 9,
   "metadata": {},
   "outputs": [
    {
     "output_type": "execute_result",
     "data": {
      "text/plain": [
       "                   时间     数据\n",
       "0 2020-06-13 16:00:00  200.0\n",
       "1 2020-06-13 17:00:00  150.0\n",
       "2 2020-06-13 18:00:00  150.0\n",
       "3 2020-06-13 19:00:00  150.0\n",
       "4 2020-06-13 20:00:00  300.0"
      ],
      "text/html": "<div>\n<style scoped>\n    .dataframe tbody tr th:only-of-type {\n        vertical-align: middle;\n    }\n\n    .dataframe tbody tr th {\n        vertical-align: top;\n    }\n\n    .dataframe thead th {\n        text-align: right;\n    }\n</style>\n<table border=\"1\" class=\"dataframe\">\n  <thead>\n    <tr style=\"text-align: right;\">\n      <th></th>\n      <th>时间</th>\n      <th>数据</th>\n    </tr>\n  </thead>\n  <tbody>\n    <tr>\n      <th>0</th>\n      <td>2020-06-13 16:00:00</td>\n      <td>200.0</td>\n    </tr>\n    <tr>\n      <th>1</th>\n      <td>2020-06-13 17:00:00</td>\n      <td>150.0</td>\n    </tr>\n    <tr>\n      <th>2</th>\n      <td>2020-06-13 18:00:00</td>\n      <td>150.0</td>\n    </tr>\n    <tr>\n      <th>3</th>\n      <td>2020-06-13 19:00:00</td>\n      <td>150.0</td>\n    </tr>\n    <tr>\n      <th>4</th>\n      <td>2020-06-13 20:00:00</td>\n      <td>300.0</td>\n    </tr>\n  </tbody>\n</table>\n</div>"
     },
     "metadata": {},
     "execution_count": 9
    }
   ],
   "source": [
    "df.reset_index()"
   ]
  },
  {
   "cell_type": "code",
   "execution_count": 10,
   "metadata": {},
   "outputs": [
    {
     "output_type": "execute_result",
     "data": {
      "text/plain": [
       "                   时间   数据\n",
       "0 2020-06-13 16:25:00  100\n",
       "1 2020-06-13 16:47:00  200\n",
       "2 2020-06-13 16:49:00  300\n",
       "3 2020-06-13 17:09:00  100\n",
       "4 2020-06-13 17:22:00  200\n",
       "5 2020-06-13 20:49:00  300"
      ],
      "text/html": "<div>\n<style scoped>\n    .dataframe tbody tr th:only-of-type {\n        vertical-align: middle;\n    }\n\n    .dataframe tbody tr th {\n        vertical-align: top;\n    }\n\n    .dataframe thead th {\n        text-align: right;\n    }\n</style>\n<table border=\"1\" class=\"dataframe\">\n  <thead>\n    <tr style=\"text-align: right;\">\n      <th></th>\n      <th>时间</th>\n      <th>数据</th>\n    </tr>\n  </thead>\n  <tbody>\n    <tr>\n      <th>0</th>\n      <td>2020-06-13 16:25:00</td>\n      <td>100</td>\n    </tr>\n    <tr>\n      <th>1</th>\n      <td>2020-06-13 16:47:00</td>\n      <td>200</td>\n    </tr>\n    <tr>\n      <th>2</th>\n      <td>2020-06-13 16:49:00</td>\n      <td>300</td>\n    </tr>\n    <tr>\n      <th>3</th>\n      <td>2020-06-13 17:09:00</td>\n      <td>100</td>\n    </tr>\n    <tr>\n      <th>4</th>\n      <td>2020-06-13 17:22:00</td>\n      <td>200</td>\n    </tr>\n    <tr>\n      <th>5</th>\n      <td>2020-06-13 20:49:00</td>\n      <td>300</td>\n    </tr>\n  </tbody>\n</table>\n</div>"
     },
     "metadata": {},
     "execution_count": 10
    }
   ],
   "source": [
    "df = pd.read_excel('AAA004.xlsx')\n",
    "df"
   ]
  },
  {
   "cell_type": "code",
   "execution_count": 15,
   "metadata": {},
   "outputs": [
    {
     "output_type": "execute_result",
     "data": {
      "text/plain": [
       "                   时间     数据\n",
       "0 2020-06-13 16:00:00  200.0\n",
       "1 2020-06-13 17:00:00  150.0\n",
       "2 2020-06-13 18:00:00  150.0\n",
       "3 2020-06-13 19:00:00  150.0\n",
       "4 2020-06-13 20:00:00  300.0"
      ],
      "text/html": "<div>\n<style scoped>\n    .dataframe tbody tr th:only-of-type {\n        vertical-align: middle;\n    }\n\n    .dataframe tbody tr th {\n        vertical-align: top;\n    }\n\n    .dataframe thead th {\n        text-align: right;\n    }\n</style>\n<table border=\"1\" class=\"dataframe\">\n  <thead>\n    <tr style=\"text-align: right;\">\n      <th></th>\n      <th>时间</th>\n      <th>数据</th>\n    </tr>\n  </thead>\n  <tbody>\n    <tr>\n      <th>0</th>\n      <td>2020-06-13 16:00:00</td>\n      <td>200.0</td>\n    </tr>\n    <tr>\n      <th>1</th>\n      <td>2020-06-13 17:00:00</td>\n      <td>150.0</td>\n    </tr>\n    <tr>\n      <th>2</th>\n      <td>2020-06-13 18:00:00</td>\n      <td>150.0</td>\n    </tr>\n    <tr>\n      <th>3</th>\n      <td>2020-06-13 19:00:00</td>\n      <td>150.0</td>\n    </tr>\n    <tr>\n      <th>4</th>\n      <td>2020-06-13 20:00:00</td>\n      <td>300.0</td>\n    </tr>\n  </tbody>\n</table>\n</div>"
     },
     "metadata": {},
     "execution_count": 15
    }
   ],
   "source": [
    "df.resample('H', on='时间').mean().fillna(method='ffill').reset_index()"
   ]
  },
  {
   "cell_type": "code",
   "execution_count": null,
   "metadata": {},
   "outputs": [],
   "source": []
  }
 ]
}