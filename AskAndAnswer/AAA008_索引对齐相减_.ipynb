{
 "cells": [
  {
   "cell_type": "markdown",
   "metadata": {},
   "source": [
    "## Python Pandas Excel 学习群: 366719470\n",
    "## Ask And Answer 问答\n",
    "## AAA008 索引对齐相减"
   ]
  },
  {
   "cell_type": "code",
   "execution_count": 1,
   "metadata": {},
   "source": [
    "import pandas as pd"
   ],
   "outputs": []
  },
  {
   "cell_type": "code",
   "execution_count": 2,
   "metadata": {},
   "source": [
    "df1 = pd.DataFrame([\n",
    "    ['c', 3],\n",
    "    ['a', 2],\n",
    "    ['b', 7],\n",
    "    ['d', 6]\n",
    "], columns=['A', 'B'])"
   ],
   "outputs": []
  },
  {
   "cell_type": "code",
   "execution_count": 3,
   "metadata": {},
   "source": [
    "df2 = pd.DataFrame([\n",
    "    ['b', 5],\n",
    "    ['c', 3],\n",
    "    ['d', 9],\n",
    "    ['e', 1],\n",
    "    ['f', 8]\n",
    "], columns=['A', 'B'])"
   ],
   "outputs": []
  },
  {
   "cell_type": "code",
   "execution_count": 16,
   "metadata": {},
   "source": [
    "(df1.set_index('A') - df2.set_index('A')).reset_index()"
   ],
   "outputs": []
  },
  {
   "cell_type": "code",
   "execution_count": 5,
   "metadata": {},
   "source": [
    "df2"
   ],
   "outputs": []
  },
  {
   "cell_type": "code",
   "execution_count": 6,
   "metadata": {},
   "source": [
    "s1 = df1.set_index('A')['B']\n",
    "s1"
   ],
   "outputs": []
  },
  {
   "cell_type": "code",
   "execution_count": 7,
   "metadata": {},
   "source": [
    "s2 = df2.set_index('A')['B']\n",
    "s2"
   ],
   "outputs": []
  },
  {
   "cell_type": "code",
   "execution_count": 14,
   "metadata": {},
   "source": [
    "s3 = s1 - s2\n",
    "s3.to_frame().reset_index()"
   ],
   "outputs": []
  },
  {
   "cell_type": "code",
   "execution_count": 9,
   "metadata": {},
   "source": [
    "df3 = pd.concat([s1, s2, s3], axis=1)\n",
    "df3"
   ],
   "outputs": []
  },
  {
   "cell_type": "code",
   "execution_count": 10,
   "metadata": {},
   "source": [
    "df3 = df3.reset_index()\n",
    "df3"
   ],
   "outputs": []
  },
  {
   "cell_type": "code",
   "execution_count": 11,
   "metadata": {},
   "source": [
    "df3.columns=['A', 'B1', 'B2', 'B3']\n",
    "df3"
   ],
   "outputs": []
  },
  {
   "cell_type": "code",
   "execution_count": 12,
   "metadata": {},
   "source": [
    "df3 = df3.sort_values('A')\n",
    "df3"
   ],
   "outputs": []
  },
  {
   "cell_type": "code",
   "execution_count": null,
   "metadata": {},
   "source": [],
   "outputs": []
  }
 ],
 "metadata": {
  "kernelspec": {
   "display_name": "nlp",
   "language": "python",
   "name": "nlp"
  },
  "language_info": {
   "codemirror_mode": {
    "name": "ipython",
    "version": 3
   },
   "file_extension": ".py",
   "mimetype": "text/x-python",
   "name": "python",
   "nbconvert_exporter": "python",
   "pygments_lexer": "ipython3",
   "version": "3.8.6"
  }
 },
 "nbformat": 4,
 "nbformat_minor": 4
}
