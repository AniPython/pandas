{
 "metadata": {
  "language_info": {
   "codemirror_mode": {
    "name": "ipython",
    "version": 3
   },
   "file_extension": ".py",
   "mimetype": "text/x-python",
   "name": "python",
   "nbconvert_exporter": "python",
   "pygments_lexer": "ipython3",
   "version": "3.8.5-final"
  },
  "orig_nbformat": 2,
  "kernelspec": {
   "name": "python3",
   "display_name": "Python 3"
  }
 },
 "nbformat": 4,
 "nbformat_minor": 2,
 "cells": [
  {
   "cell_type": "code",
   "execution_count": 1,
   "metadata": {},
   "source": [
    "# Python Pandas 学习群: 366719470\n",
    "# Ask And Answer 问答\n",
    "# AAA003: 现有的尺码\n",
    "# S:     1   1   2**0\n",
    "# M:    10   2   2**1\n",
    "# L:   100   4   2**2\n",
    "# XL: 1000   8   2**3"
   ],
   "outputs": []
  },
  {
   "cell_type": "code",
   "execution_count": 10,
   "metadata": {},
   "source": [
    "import pandas as pd"
   ],
   "outputs": []
  },
  {
   "cell_type": "code",
   "execution_count": 3,
   "metadata": {},
   "source": [
    "df = pd.read_excel('AAA003.xlsx')\n",
    "df"
   ],
   "outputs": []
  },
  {
   "cell_type": "code",
   "execution_count": 4,
   "metadata": {},
   "source": [
    "df = df.sort_values(['货号', '下单时间'])\n",
    "df"
   ],
   "outputs": []
  },
  {
   "cell_type": "code",
   "execution_count": 5,
   "metadata": {},
   "source": [
    "all_size = ['S', 'M', 'L', 'XL']\n",
    "d = {}\n",
    "for index, size in enumerate(all_size):\n",
    "    d[size] = 2 ** index\n",
    "d"
   ],
   "outputs": []
  },
  {
   "cell_type": "code",
   "execution_count": 6,
   "metadata": {},
   "source": [
    "def size_to_number(sizes):\n",
    "    number = 0\n",
    "    for size in sizes.split('/'):\n",
    "        number = number | d[size]\n",
    "    return number\n",
    "df['尺码数字'] = df['下单尺码'].apply(size_to_number)\n",
    "df"
   ],
   "outputs": []
  },
  {
   "cell_type": "code",
   "execution_count": 7,
   "metadata": {},
   "source": [
    "# \n",
    "def bit_and(s):\n",
    "    number = 0\n",
    "    for value in s.values:\n",
    "        number = number | int(value)\n",
    "    return number\n",
    "df['现有尺码数字'] = df.groupby('货号', sort=False)['尺码数字'].expanding(1).apply(bit_and).astype(int).values\n",
    "df"
   ],
   "outputs": []
  },
  {
   "cell_type": "code",
   "execution_count": 8,
   "metadata": {},
   "source": [
    "def number_to_size(number):\n",
    "    size_bit = list(bin(number)[2:].rjust(len(all_size), '0'))[::-1]\n",
    "    l = []\n",
    "    # all_size = ['S', 'M', 'L', 'XL']\n",
    "    for bit, lable in zip(size_bit, all_size):\n",
    "        if bit == '1':\n",
    "            l.append(lable)\n",
    "    return '/'.join(l)\n",
    "df['现有尺码'] = df['现有尺码数字'].apply(number_to_size)\n",
    "df"
   ],
   "outputs": []
  },
  {
   "cell_type": "code",
   "execution_count": 9,
   "metadata": {},
   "source": [
    "df = df.drop(['尺码数字', '现有尺码数字'], axis=1)\n",
    "df"
   ],
   "outputs": []
  },
  {
   "cell_type": "code",
   "execution_count": null,
   "metadata": {},
   "source": [],
   "outputs": []
  }
 ]
}
