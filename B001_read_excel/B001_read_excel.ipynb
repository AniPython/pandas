{
 "cells": [
  {
   "cell_type": "code",
   "source": [
    "import pandas as pd"
   ],
   "metadata": {
    "collapsed": false,
    "pycharm": {
     "name": "#%%\n",
     "is_executing": false
    },
    "ExecuteTime": {
     "end_time": "2024-06-25T09:57:47.661811Z",
     "start_time": "2024-06-25T09:57:47.288617Z"
    }
   },
   "execution_count": 1,
   "outputs": []
  },
  {
   "cell_type": "code",
   "source": [
    "pd.read_excel('goods_base.xlsx')\n"
   ],
   "metadata": {
    "collapsed": false,
    "pycharm": {
     "name": "#%%\n",
     "is_executing": false
    },
    "ExecuteTime": {
     "end_time": "2024-06-25T09:57:47.850754Z",
     "start_time": "2024-06-25T09:57:47.663008Z"
    }
   },
   "execution_count": 2,
   "outputs": []
  },
  {
   "cell_type": "code",
   "source": [
    "pd.read_excel('sheet_name.xlsx',\n",
    "              sheet_name=2)"
   ],
   "metadata": {
    "collapsed": false,
    "pycharm": {
     "name": "#%%  sheet_name\n",
     "is_executing": false
    },
    "ExecuteTime": {
     "end_time": "2024-06-25T09:57:47.886541Z",
     "start_time": "2024-06-25T09:57:47.851754Z"
    }
   },
   "execution_count": 3,
   "outputs": []
  },
  {
   "cell_type": "code",
   "source": [
    "pd.read_excel('sheet_name.xlsx',\n",
    "              sheet_name='3月')"
   ],
   "metadata": {
    "collapsed": false,
    "pycharm": {
     "name": "#%%\n",
     "is_executing": false
    },
    "ExecuteTime": {
     "end_time": "2024-06-25T09:57:47.912558Z",
     "start_time": "2024-06-25T09:57:47.888542Z"
    }
   },
   "execution_count": 4,
   "outputs": []
  },
  {
   "cell_type": "code",
   "source": [
    "df_dict = pd.read_excel('sheet_name.xlsx',\n",
    "              sheet_name=[1, '3月'])\n",
    "df_dict[1]"
   ],
   "metadata": {
    "collapsed": false,
    "pycharm": {
     "name": "#%%\n",
     "is_executing": false
    },
    "ExecuteTime": {
     "end_time": "2024-06-25T09:57:47.941213Z",
     "start_time": "2024-06-25T09:57:47.914083Z"
    }
   },
   "execution_count": 5,
   "outputs": []
  },
  {
   "cell_type": "code",
   "source": [
    "df_dict['3月']"
   ],
   "metadata": {
    "collapsed": false,
    "pycharm": {
     "name": "#%%\n",
     "is_executing": false
    },
    "ExecuteTime": {
     "end_time": "2024-06-25T09:57:47.948061Z",
     "start_time": "2024-06-25T09:57:47.942720Z"
    }
   },
   "execution_count": 6,
   "outputs": []
  },
  {
   "cell_type": "code",
   "source": [
    "df_dict = pd.read_excel('sheet_name.xlsx',\n",
    "              sheet_name=None)\n",
    "df_dict"
   ],
   "metadata": {
    "collapsed": false,
    "pycharm": {
     "name": "#%%\n",
     "is_executing": false
    },
    "ExecuteTime": {
     "end_time": "2024-06-25T09:57:47.978682Z",
     "start_time": "2024-06-25T09:57:47.949064Z"
    }
   },
   "execution_count": 7,
   "outputs": []
  },
  {
   "cell_type": "code",
   "source": [
    "df_dict['3月']\n",
    "\n"
   ],
   "metadata": {
    "collapsed": false,
    "pycharm": {
     "name": "#%%\n",
     "is_executing": false
    },
    "ExecuteTime": {
     "end_time": "2024-06-25T09:57:47.984868Z",
     "start_time": "2024-06-25T09:57:47.979686Z"
    }
   },
   "execution_count": 8,
   "outputs": []
  },
  {
   "cell_type": "code",
   "source": [
    "pd.read_excel('header.xlsx', header=None)"
   ],
   "metadata": {
    "collapsed": false,
    "pycharm": {
     "name": "#%%  header\n",
     "is_executing": false
    },
    "ExecuteTime": {
     "end_time": "2024-06-25T09:57:48.003873Z",
     "start_time": "2024-06-25T09:57:47.987850Z"
    }
   },
   "execution_count": 9,
   "outputs": []
  },
  {
   "cell_type": "code",
   "source": [
    "pd.read_excel('header.xlsx',\n",
    "              sheet_name=1)"
   ],
   "metadata": {
    "collapsed": false,
    "pycharm": {
     "name": "#%%\n",
     "is_executing": false
    },
    "ExecuteTime": {
     "end_time": "2024-06-25T09:57:48.021922Z",
     "start_time": "2024-06-25T09:57:48.004874Z"
    }
   },
   "execution_count": 10,
   "outputs": []
  },
  {
   "cell_type": "code",
   "source": [
    "pd.read_excel('header.xlsx',\n",
    "              sheet_name=2,\n",
    "              header=1)"
   ],
   "metadata": {
    "collapsed": false,
    "pycharm": {
     "name": "#%%\n",
     "is_executing": false
    },
    "ExecuteTime": {
     "end_time": "2024-06-25T09:57:48.041268Z",
     "start_time": "2024-06-25T09:57:48.022923Z"
    }
   },
   "execution_count": 11,
   "outputs": []
  },
  {
   "cell_type": "code",
   "source": [
    "pd.read_excel('header.xlsx',\n",
    "              sheet_name=3,\n",
    "              header=[0, 1],\n",
    "              index_col=0)\n",
    "\n"
   ],
   "metadata": {
    "collapsed": false,
    "pycharm": {
     "name": "#%%\n",
     "is_executing": false
    },
    "ExecuteTime": {
     "end_time": "2024-06-25T09:57:48.062906Z",
     "start_time": "2024-06-25T09:57:48.043268Z"
    }
   },
   "execution_count": 12,
   "outputs": []
  },
  {
   "cell_type": "code",
   "source": [
    "pd.read_excel('usecols.xlsx')"
   ],
   "metadata": {
    "collapsed": false,
    "pycharm": {
     "name": "#%%  usecols\n",
     "is_executing": false
    },
    "ExecuteTime": {
     "end_time": "2024-06-25T09:57:48.081825Z",
     "start_time": "2024-06-25T09:57:48.065411Z"
    }
   },
   "execution_count": 13,
   "outputs": []
  },
  {
   "cell_type": "code",
   "source": [
    "pd.read_excel('usecols.xlsx',\n",
    "              usecols='B:E')"
   ],
   "metadata": {
    "collapsed": false,
    "pycharm": {
     "name": "#%%\n",
     "is_executing": false
    },
    "ExecuteTime": {
     "end_time": "2024-06-25T09:57:48.099891Z",
     "start_time": "2024-06-25T09:57:48.083845Z"
    }
   },
   "execution_count": 14,
   "outputs": []
  },
  {
   "cell_type": "code",
   "source": [
    "pd.read_excel('usecols.xlsx',\n",
    "              usecols=[0, 2])"
   ],
   "metadata": {
    "collapsed": false,
    "pycharm": {
     "name": "#%%\n",
     "is_executing": false
    },
    "ExecuteTime": {
     "end_time": "2024-06-25T09:57:48.119335Z",
     "start_time": "2024-06-25T09:57:48.100894Z"
    }
   },
   "execution_count": 15,
   "outputs": []
  },
  {
   "cell_type": "code",
   "source": [
    "pd.read_excel('usecols.xlsx',\n",
    "              usecols=['AAA', 'CCC'])"
   ],
   "metadata": {
    "collapsed": false,
    "pycharm": {
     "name": "#%%\n",
     "is_executing": false
    },
    "ExecuteTime": {
     "end_time": "2024-06-25T09:57:48.140253Z",
     "start_time": "2024-06-25T09:57:48.121333Z"
    }
   },
   "execution_count": 16,
   "outputs": []
  },
  {
   "cell_type": "code",
   "source": [
    "pd.read_excel('usecols.xlsx',\n",
    "              usecols=lambda x: (x=='AAA') | (x=='EEE'))"
   ],
   "metadata": {
    "collapsed": false,
    "pycharm": {
     "name": "#%%\n",
     "is_executing": false
    },
    "ExecuteTime": {
     "end_time": "2024-06-25T09:57:48.159252Z",
     "start_time": "2024-06-25T09:57:48.141254Z"
    }
   },
   "execution_count": 17,
   "outputs": []
  },
  {
   "cell_type": "code",
   "source": [
    "pd.read_excel('goods_base.xlsx', \n",
    "              usecols=['货号', '商品名称', '品牌', '成本', '季节', '商品年份'])\n",
    "\n"
   ],
   "metadata": {
    "collapsed": false,
    "pycharm": {
     "name": "#%% ['货号', '商品名称', '品牌', '成本', '季节', '商品年份']\n",
     "is_executing": false
    },
    "ExecuteTime": {
     "end_time": "2024-06-25T09:57:48.176950Z",
     "start_time": "2024-06-25T09:57:48.160256Z"
    }
   },
   "execution_count": 18,
   "outputs": []
  },
  {
   "cell_type": "code",
   "source": [
    "pd.read_excel('skiprows.xlsx',\n",
    "              skiprows=1)\n"
   ],
   "metadata": {
    "collapsed": false,
    "pycharm": {
     "name": "#%% skiprows\n",
     "is_executing": false
    },
    "ExecuteTime": {
     "end_time": "2024-06-25T09:57:48.193626Z",
     "start_time": "2024-06-25T09:57:48.177950Z"
    }
   },
   "execution_count": 19,
   "outputs": []
  },
  {
   "cell_type": "code",
   "source": [
    "pd.read_excel('skiprows.xlsx',\n",
    "              sheet_name=1,\n",
    "              skiprows=[0, 2])"
   ],
   "metadata": {
    "collapsed": false,
    "pycharm": {
     "name": "#%%\n",
     "is_executing": false
    },
    "ExecuteTime": {
     "end_time": "2024-06-25T09:57:48.210195Z",
     "start_time": "2024-06-25T09:57:48.194628Z"
    }
   },
   "execution_count": 20,
   "outputs": []
  },
  {
   "cell_type": "code",
   "source": [
    "pd.read_excel('skiprows.xlsx',\n",
    "              sheet_name=2,\n",
    "              skiprows=2,\n",
    "              skipcols=1)"
   ],
   "metadata": {
    "collapsed": false,
    "pycharm": {
     "name": "#%%\n",
     "is_executing": false
    },
    "ExecuteTime": {
     "end_time": "2024-06-25T09:57:48.525995Z",
     "start_time": "2024-06-25T09:57:48.211198Z"
    }
   },
   "execution_count": 21,
   "outputs": []
  },
  {
   "cell_type": "code",
   "source": [
    "pd.read_excel('skiprows.xlsx',\n",
    "              sheet_name=2,\n",
    "              skiprows=2,\n",
    "              usecols='B:D')"
   ],
   "metadata": {
    "collapsed": false,
    "pycharm": {
     "name": "#%%\n",
     "is_executing": false
    },
    "ExecuteTime": {
     "end_time": "2024-06-25T09:57:48.528061Z",
     "start_time": "2024-06-25T09:57:48.528061Z"
    }
   },
   "execution_count": null,
   "outputs": []
  },
  {
   "cell_type": "code",
   "source": [
    "\n"
   ],
   "metadata": {
    "collapsed": false,
    "pycharm": {
     "name": "#%%\n"
    }
   },
   "execution_count": null,
   "outputs": []
  }
 ],
 "metadata": {
  "kernelspec": {
   "display_name": "Python 3",
   "language": "python",
   "name": "python3"
  },
  "language_info": {
   "codemirror_mode": {
    "name": "ipython",
    "version": 2
   },
   "file_extension": ".py",
   "mimetype": "text/x-python",
   "name": "python",
   "nbconvert_exporter": "python",
   "pygments_lexer": "ipython2",
   "version": "2.7.6"
  },
  "pycharm": {
   "stem_cell": {
    "cell_type": "raw",
    "source": [],
    "metadata": {
     "collapsed": false
    }
   }
  }
 },
 "nbformat": 4,
 "nbformat_minor": 0
}
