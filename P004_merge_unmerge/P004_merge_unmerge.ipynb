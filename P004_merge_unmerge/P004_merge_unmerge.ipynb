{
 "cells": [
  {
   "cell_type": "markdown",
   "metadata": {
    "collapsed": true,
    "pycharm": {
     "name": "#%% md\n"
    }
   },
   "source": [
    "- 合并单元格: merge_cells()\n",
    "- 拆分单元格: unmerge_cells()"
   ]
  },
  {
   "cell_type": "code",
   "source": [
    "from openpyxl import load_workbook"
   ],
   "metadata": {
    "collapsed": false,
    "pycharm": {
     "name": "#%%\n"
    },
    "ExecuteTime": {
     "end_time": "2024-06-27T10:01:28.920709Z",
     "start_time": "2024-06-27T10:01:28.772925Z"
    }
   },
   "outputs": [],
   "execution_count": 1
  },
  {
   "cell_type": "code",
   "source": [
    "wb = load_workbook('1.xlsx')\n",
    "ws = wb.active\n",
    "ws.dimensions"
   ],
   "metadata": {
    "collapsed": false,
    "pycharm": {
     "name": "#%%\n"
    },
    "ExecuteTime": {
     "end_time": "2024-06-27T10:01:28.952610Z",
     "start_time": "2024-06-27T10:01:28.929438Z"
    }
   },
   "outputs": [
    {
     "data": {
      "text/plain": [
       "'A1:D4'"
      ]
     },
     "execution_count": 2,
     "metadata": {},
     "output_type": "execute_result"
    }
   ],
   "execution_count": 2
  },
  {
   "cell_type": "code",
   "source": [
    "ws.merge_cells('B2:C3')\n",
    "# wb.save('2.xlsx')"
   ],
   "metadata": {
    "collapsed": false,
    "pycharm": {
     "name": "#%%\n"
    },
    "ExecuteTime": {
     "end_time": "2024-06-27T10:01:28.962012Z",
     "start_time": "2024-06-27T10:01:28.959407Z"
    }
   },
   "outputs": [],
   "execution_count": 3
  },
  {
   "cell_type": "code",
   "source": [
    "wb = load_workbook('1.xlsx')\n",
    "ws = wb.active\n",
    "ws.merge_cells(\n",
    "    start_row=2,\n",
    "    start_column=2,\n",
    "    end_row=3,\n",
    "    end_column=3\n",
    ")\n",
    "wb.save('3.xlsx')"
   ],
   "metadata": {
    "collapsed": false,
    "pycharm": {
     "name": "#%%\n"
    },
    "ExecuteTime": {
     "end_time": "2024-06-27T10:01:28.994186Z",
     "start_time": "2024-06-27T10:01:28.967607Z"
    }
   },
   "outputs": [],
   "execution_count": 4
  },
  {
   "cell_type": "code",
   "source": [
    "wb = load_workbook('2.xlsx')\n",
    "ws = wb.active\n",
    "ws.unmerge_cells('B2:C3')\n",
    "wb.save('4.xlsx')"
   ],
   "metadata": {
    "collapsed": false,
    "pycharm": {
     "name": "#%%\n"
    },
    "ExecuteTime": {
     "end_time": "2024-06-27T10:01:29.021220Z",
     "start_time": "2024-06-27T10:01:28.998789Z"
    }
   },
   "outputs": [],
   "execution_count": 5
  },
  {
   "cell_type": "code",
   "source": [
    "\n"
   ],
   "metadata": {
    "collapsed": false,
    "pycharm": {
     "name": "#%%\n"
    }
   },
   "outputs": [],
   "execution_count": 5
  }
 ],
 "metadata": {
  "kernelspec": {
   "display_name": "Python 3",
   "language": "python",
   "name": "python3"
  },
  "language_info": {
   "codemirror_mode": {
    "name": "ipython",
    "version": 2
   },
   "file_extension": ".py",
   "mimetype": "text/x-python",
   "name": "python",
   "nbconvert_exporter": "python",
   "pygments_lexer": "ipython2",
   "version": "2.7.6"
  }
 },
 "nbformat": 4,
 "nbformat_minor": 0
}
