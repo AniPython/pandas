{
 "cells": [
  {
   "cell_type": "code",
   "metadata": {
    "collapsed": true,
    "ExecuteTime": {
     "end_time": "2024-06-27T10:00:57.113268Z",
     "start_time": "2024-06-27T10:00:56.955925Z"
    }
   },
   "source": [
    "from openpyxl import Workbook\n",
    "from datetime import datetime\n",
    "from openpyxl.drawing.image import Image\n",
    "from openpyxl.styles import Font"
   ],
   "outputs": [],
   "execution_count": 1
  },
  {
   "cell_type": "code",
   "source": [
    "wb = Workbook()\n",
    "wb"
   ],
   "metadata": {
    "collapsed": false,
    "pycharm": {
     "name": "#%%\n"
    },
    "ExecuteTime": {
     "end_time": "2024-06-27T10:00:57.121699Z",
     "start_time": "2024-06-27T10:00:57.115277Z"
    }
   },
   "outputs": [
    {
     "data": {
      "text/plain": [
       "<openpyxl.workbook.workbook.Workbook at 0x24dc8a6deb0>"
      ]
     },
     "execution_count": 2,
     "metadata": {},
     "output_type": "execute_result"
    }
   ],
   "execution_count": 2
  },
  {
   "cell_type": "code",
   "source": [
    "ws = wb.active\n",
    "ws"
   ],
   "metadata": {
    "collapsed": false,
    "pycharm": {
     "name": "#%%\n"
    },
    "ExecuteTime": {
     "end_time": "2024-06-27T10:00:57.132510Z",
     "start_time": "2024-06-27T10:00:57.121699Z"
    }
   },
   "outputs": [
    {
     "data": {
      "text/plain": [
       "<Worksheet \"Sheet\">"
      ]
     },
     "execution_count": 3,
     "metadata": {},
     "output_type": "execute_result"
    }
   ],
   "execution_count": 3
  },
  {
   "cell_type": "code",
   "source": [
    "ws.title = 'sheet1'"
   ],
   "metadata": {
    "collapsed": false,
    "pycharm": {
     "name": "#%%\n"
    }
   },
   "outputs": [],
   "execution_count": 4
  },
  {
   "cell_type": "code",
   "source": [
    "ws.append(['一', '二'])\n",
    "ws.append([1, 2])\n",
    "ws.append([datetime(2020,1,1),\n",
    "           datetime(2020,1,2)])\n",
    "\n",
    "ws.add_image(Image('a.jpg'), 'A4')\n",
    "ws.add_image(Image('b.jpg'), 'B4')\n",
    "\n",
    "ws['A3'].font = Font(color='FF0000')\n",
    "\n",
    "wb.save('1.xlsx')\n"
   ],
   "metadata": {
    "collapsed": false,
    "pycharm": {
     "name": "#%%\n"
    },
    "ExecuteTime": {
     "end_time": "2024-06-27T10:00:57.160413Z",
     "start_time": "2024-06-27T10:00:57.139325Z"
    }
   },
   "outputs": [],
   "execution_count": 5
  }
 ],
 "metadata": {
  "kernelspec": {
   "display_name": "Python 3",
   "language": "python",
   "name": "python3"
  },
  "language_info": {
   "codemirror_mode": {
    "name": "ipython",
    "version": 2
   },
   "file_extension": ".py",
   "mimetype": "text/x-python",
   "name": "python",
   "nbconvert_exporter": "python",
   "pygments_lexer": "ipython2",
   "version": "2.7.6"
  }
 },
 "nbformat": 4,
 "nbformat_minor": 0
}
